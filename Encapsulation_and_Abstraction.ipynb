{
  "nbformat": 4,
  "nbformat_minor": 0,
  "metadata": {
    "colab": {
      "provenance": [],
      "authorship_tag": "ABX9TyPVmEc9rwl2jPO6Ggs1lV85",
      "include_colab_link": true
    },
    "kernelspec": {
      "name": "python3",
      "display_name": "Python 3"
    },
    "language_info": {
      "name": "python"
    }
  },
  "cells": [
    {
      "cell_type": "markdown",
      "metadata": {
        "id": "view-in-github",
        "colab_type": "text"
      },
      "source": [
        "<a href=\"https://colab.research.google.com/github/birusolankar/Python/blob/main/Encapsulation_and_Abstraction.ipynb\" target=\"_parent\"><img src=\"https://colab.research.google.com/assets/colab-badge.svg\" alt=\"Open In Colab\"/></a>"
      ]
    },
    {
      "cell_type": "markdown",
      "source": [
        "# ABSTRACTION\n"
      ],
      "metadata": {
        "id": "C7EOeL0LbtRV"
      }
    },
    {
      "cell_type": "code",
      "execution_count": 3,
      "metadata": {
        "id": "0b2Xpj10bmBC"
      },
      "outputs": [],
      "source": [
        "from abc import ABC, abstractmethod"
      ]
    },
    {
      "cell_type": "code",
      "source": [
        "# abstract class\n",
        "\n",
        "class Vehicle(ABC):\n",
        "  @abstractmethod\n",
        "\n",
        "  def no_of_wheels(self):\n",
        "    pass\n",
        "\n",
        "  def start_engine(self):\n",
        "    pass\n",
        "\n",
        "  def stop_engine(self):\n",
        "    pass\n",
        "\n",
        "# subclass\n",
        "class Car(Vehicle):\n",
        "  def no_of_wheels(self):\n",
        "    print(\"Car has 4 wheels\")\n",
        "\n",
        "  def start_engine(self):\n",
        "    print(\"Car engine started\")\n",
        "\n",
        "  def stop_engine(self):\n",
        "    print(\"Car engine stopped\")\n",
        "\n",
        "# subclass\n",
        "class Bike(Vehicle):\n",
        "  def no_of_wheels(self):\n",
        "    print(\"Bike has 2 wheels\")\n",
        "\n",
        "  def start_engine(self):\n",
        "    print(\"Bike engine started\")\n",
        "\n",
        "  def stop_engine(self):\n",
        "    print(\"Bike engine stopped\")"
      ],
      "metadata": {
        "id": "T2j8XhjecHP6"
      },
      "execution_count": 4,
      "outputs": []
    },
    {
      "cell_type": "code",
      "source": [
        "c1 = Car()\n",
        "b1 = Bike()"
      ],
      "metadata": {
        "id": "7gBneZ0Cc_tL"
      },
      "execution_count": 6,
      "outputs": []
    },
    {
      "cell_type": "code",
      "source": [
        "print(c1.no_of_wheels())\n",
        "print(b1.start_engine())"
      ],
      "metadata": {
        "colab": {
          "base_uri": "https://localhost:8080/"
        },
        "id": "52gW_SXrrPfu",
        "outputId": "49ea668f-d6b4-4542-a52a-5702297518ea"
      },
      "execution_count": 9,
      "outputs": [
        {
          "output_type": "stream",
          "name": "stdout",
          "text": [
            "Car has 4 wheels\n",
            "None\n",
            "Bike engine started\n",
            "None\n"
          ]
        }
      ]
    },
    {
      "cell_type": "code",
      "source": [
        "v1 = Vehicle() # object of an abstract class cannot be created"
      ],
      "metadata": {
        "colab": {
          "base_uri": "https://localhost:8080/",
          "height": 141
        },
        "id": "E6cBISq9rUyE",
        "outputId": "cda7be92-bb18-498e-9f85-b1030588faf3"
      },
      "execution_count": 10,
      "outputs": [
        {
          "output_type": "error",
          "ename": "TypeError",
          "evalue": "Can't instantiate abstract class Vehicle with abstract method no_of_wheels",
          "traceback": [
            "\u001b[0;31m---------------------------------------------------------------------------\u001b[0m",
            "\u001b[0;31mTypeError\u001b[0m                                 Traceback (most recent call last)",
            "\u001b[0;32m<ipython-input-10-5d95a4892ff4>\u001b[0m in \u001b[0;36m<cell line: 1>\u001b[0;34m()\u001b[0m\n\u001b[0;32m----> 1\u001b[0;31m \u001b[0mv1\u001b[0m \u001b[0;34m=\u001b[0m \u001b[0mVehicle\u001b[0m\u001b[0;34m(\u001b[0m\u001b[0;34m)\u001b[0m\u001b[0;34m\u001b[0m\u001b[0;34m\u001b[0m\u001b[0m\n\u001b[0m",
            "\u001b[0;31mTypeError\u001b[0m: Can't instantiate abstract class Vehicle with abstract method no_of_wheels"
          ]
        }
      ]
    },
    {
      "cell_type": "markdown",
      "source": [
        "ABSTRACT CLASS WITH CONSTRUCTOR"
      ],
      "metadata": {
        "id": "8UMz14sBuEDo"
      }
    },
    {
      "cell_type": "code",
      "source": [
        "# abstract class\n",
        "\n",
        "class Vehicle(ABC):\n",
        "  def __init__(self, name, color, price):\n",
        "    self.name = name\n",
        "    self.color = color\n",
        "    self.price = price\n",
        "\n",
        "  @abstractmethod  #abstract method\n",
        "  def no_of_wheels(self):\n",
        "    pass\n",
        "\n",
        "  def start_engine(self):\n",
        "    pass\n",
        "\n",
        "  def stop_engine(self):\n",
        "    pass\n",
        "  def get_details(self):\n",
        "    print(f\"Name: {self.name}, \\n Color: {self.color}, \\n Price: {self.price}\")\n",
        "\n",
        "# subclass\n",
        "\n",
        "class Car(Vehicle):\n",
        "  def __init__(self, name, color, price, brand):\n",
        "    super().__init__(name, color, price)\n",
        "    self.brand = brand\n",
        "\n",
        "  def no_of_wheels(self):\n",
        "    print(\"Car has 4 wheels\")\n",
        "\n",
        "  def start_engine(self):\n",
        "    print(\"Car engine started\")\n",
        "\n",
        "  def stop_engine(self):\n",
        "    print(\"Car engine stopped\")\n",
        "\n",
        "  def get_details(self):\n",
        "    return super().get_details()\n",
        "\n",
        "\n",
        "# subclass\n",
        "class Bike(Vehicle):\n",
        "  def no_of_wheels(self):\n",
        "    print(\"Bike has 2 wheels\")\n",
        "\n",
        "  def start_engine(self):\n",
        "    print(\"Bike engine started\")\n",
        "\n"
      ],
      "metadata": {
        "id": "sLHEaxN3uBRK"
      },
      "execution_count": 32,
      "outputs": []
    },
    {
      "cell_type": "code",
      "source": [
        "c1 = Car(\"Honda\", \"Red\", 10000, \"Honda\")\n",
        "\n",
        "print(c1.get_details())\n",
        "print(c1.brand)\n",
        "print(c1.stop_engine())"
      ],
      "metadata": {
        "colab": {
          "base_uri": "https://localhost:8080/"
        },
        "id": "kP-gUEAOyKDC",
        "outputId": "5aae3e87-77e6-419c-ca9a-ede97bff5f71"
      },
      "execution_count": 37,
      "outputs": [
        {
          "output_type": "stream",
          "name": "stdout",
          "text": [
            "Name: Honda, \n",
            " Color: Red, \n",
            " Price: 10000\n",
            "None\n",
            "Honda\n",
            "Car engine stopped\n",
            "None\n"
          ]
        }
      ]
    },
    {
      "cell_type": "code",
      "source": [
        "b1 = Bike(\"Yamaha\", \"Red\", 10000)\n",
        "b1.stop_engine()"
      ],
      "metadata": {
        "id": "mWEMHC-CuBNu"
      },
      "execution_count": 34,
      "outputs": []
    },
    {
      "cell_type": "code",
      "source": [
        "b1.get_details()"
      ],
      "metadata": {
        "colab": {
          "base_uri": "https://localhost:8080/"
        },
        "id": "2_ffz4L_uBLY",
        "outputId": "b4f11163-4926-4663-8bbf-4ef4202e68ad"
      },
      "execution_count": 35,
      "outputs": [
        {
          "output_type": "stream",
          "name": "stdout",
          "text": [
            "Name: Yamaha, \n",
            " Color: Red, \n",
            " Price: 10000\n"
          ]
        }
      ]
    },
    {
      "cell_type": "code",
      "source": [
        "print(b1.color)\n",
        "print(b1.name)\n",
        "print(b1.price)"
      ],
      "metadata": {
        "colab": {
          "base_uri": "https://localhost:8080/"
        },
        "id": "RHMWTZ_9uBDF",
        "outputId": "d23ada55-fb0c-465a-ebe3-03f4ef73a199"
      },
      "execution_count": 27,
      "outputs": [
        {
          "output_type": "stream",
          "name": "stdout",
          "text": [
            "Red\n",
            "Yamaha\n",
            "10000\n"
          ]
        }
      ]
    },
    {
      "cell_type": "code",
      "source": [],
      "metadata": {
        "id": "VjEyTXMVuAui"
      },
      "execution_count": null,
      "outputs": []
    },
    {
      "cell_type": "markdown",
      "source": [
        "#ENCAPSULATION"
      ],
      "metadata": {
        "id": "-CIr_CiFryPW"
      }
    },
    {
      "cell_type": "code",
      "source": [
        "class Bank:\n",
        "  def __init__(self, name, balance):\n",
        "    self.name = name\n",
        "    self.__balance = balance  # private attribute\n",
        "\n",
        "  def deposit(self, amount):\n",
        "    self.__balance += amount\n",
        "\n",
        "  def get_balance(self):\n",
        "    return self.__balance\n",
        "\n",
        "  def withdraw(self, amount):\n",
        "    if amount > self.__balance:\n",
        "      print(\"Insufficient balance\")\n",
        "    else:\n",
        "      self.__balance -= amount"
      ],
      "metadata": {
        "id": "JKxxkWLDrjna"
      },
      "execution_count": 12,
      "outputs": []
    },
    {
      "cell_type": "code",
      "source": [
        "b1 = Bank(\"John\", 1000)"
      ],
      "metadata": {
        "id": "mRTrYsyPsC0q"
      },
      "execution_count": 13,
      "outputs": []
    },
    {
      "cell_type": "code",
      "source": [
        "print(b1.get_balance())\n",
        "print(b1.name)"
      ],
      "metadata": {
        "colab": {
          "base_uri": "https://localhost:8080/"
        },
        "id": "w8Hnqh-fsN_M",
        "outputId": "db86b00d-acee-4b6e-d44b-66b42a3cc5b0"
      },
      "execution_count": 18,
      "outputs": [
        {
          "output_type": "stream",
          "name": "stdout",
          "text": [
            "2000\n",
            "John\n"
          ]
        }
      ]
    },
    {
      "cell_type": "code",
      "source": [
        "b1.deposit(1000)\n",
        "b1.get_balance()"
      ],
      "metadata": {
        "colab": {
          "base_uri": "https://localhost:8080/"
        },
        "id": "d_iNesL2sQoH",
        "outputId": "2766858e-a388-4f04-e437-8eebb8c88891"
      },
      "execution_count": 19,
      "outputs": [
        {
          "output_type": "execute_result",
          "data": {
            "text/plain": [
              "3000"
            ]
          },
          "metadata": {},
          "execution_count": 19
        }
      ]
    },
    {
      "cell_type": "code",
      "source": [],
      "metadata": {
        "id": "vqxQ04qaspNQ"
      },
      "execution_count": null,
      "outputs": []
    }
  ]
}