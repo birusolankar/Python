{
  "nbformat": 4,
  "nbformat_minor": 0,
  "metadata": {
    "colab": {
      "provenance": [],
      "authorship_tag": "ABX9TyNgRKgkOVWnrYf3cB3aIhEt",
      "include_colab_link": true
    },
    "kernelspec": {
      "name": "python3",
      "display_name": "Python 3"
    },
    "language_info": {
      "name": "python"
    }
  },
  "cells": [
    {
      "cell_type": "markdown",
      "metadata": {
        "id": "view-in-github",
        "colab_type": "text"
      },
      "source": [
        "<a href=\"https://colab.research.google.com/github/birusolankar/Python/blob/main/Encapsulation_and_Abstraction.ipynb\" target=\"_parent\"><img src=\"https://colab.research.google.com/assets/colab-badge.svg\" alt=\"Open In Colab\"/></a>"
      ]
    },
    {
      "cell_type": "markdown",
      "source": [
        "# ABSTRACTION\n"
      ],
      "metadata": {
        "id": "C7EOeL0LbtRV"
      }
    },
    {
      "cell_type": "code",
      "execution_count": 3,
      "metadata": {
        "id": "0b2Xpj10bmBC"
      },
      "outputs": [],
      "source": [
        "from abc import ABC, abstractmethod"
      ]
    },
    {
      "cell_type": "code",
      "source": [
        "# abstract class\n",
        "\n",
        "class Vehicle(ABC):\n",
        "  @abstractmethod\n",
        "\n",
        "  def no_of_wheels(self):\n",
        "    pass\n",
        "\n",
        "  def start_engine(self):\n",
        "    pass\n",
        "\n",
        "  def stop_engine(self):\n",
        "    pass\n",
        "\n",
        "# subclass\n",
        "class Car(Vehicle):\n",
        "  def no_of_wheels(self):\n",
        "    print(\"Car has 4 wheels\")\n",
        "\n",
        "  def start_engine(self):\n",
        "    print(\"Car engine started\")\n",
        "\n",
        "  def stop_engine(self):\n",
        "    print(\"Car engine stopped\")\n",
        "\n",
        "# subclass\n",
        "class Bike(Vehicle):\n",
        "  def no_of_wheels(self):\n",
        "    print(\"Bike has 2 wheels\")\n",
        "\n",
        "  def start_engine(self):\n",
        "    print(\"Bike engine started\")\n",
        "\n",
        "  def stop_engine(self):\n",
        "    print(\"Bike engine stopped\")"
      ],
      "metadata": {
        "id": "T2j8XhjecHP6"
      },
      "execution_count": 4,
      "outputs": []
    },
    {
      "cell_type": "code",
      "source": [],
      "metadata": {
        "id": "7gBneZ0Cc_tL"
      },
      "execution_count": null,
      "outputs": []
    }
  ]
}