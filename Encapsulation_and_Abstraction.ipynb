{
  "nbformat": 4,
  "nbformat_minor": 0,
  "metadata": {
    "colab": {
      "provenance": [],
      "authorship_tag": "ABX9TyPwe3HUI3toqHA/3frcCKt+",
      "include_colab_link": true
    },
    "kernelspec": {
      "name": "python3",
      "display_name": "Python 3"
    },
    "language_info": {
      "name": "python"
    }
  },
  "cells": [
    {
      "cell_type": "markdown",
      "metadata": {
        "id": "view-in-github",
        "colab_type": "text"
      },
      "source": [
        "<a href=\"https://colab.research.google.com/github/birusolankar/Python/blob/main/Encapsulation_and_Abstraction.ipynb\" target=\"_parent\"><img src=\"https://colab.research.google.com/assets/colab-badge.svg\" alt=\"Open In Colab\"/></a>"
      ]
    },
    {
      "cell_type": "markdown",
      "source": [
        "# ABSTRACTION\n"
      ],
      "metadata": {
        "id": "C7EOeL0LbtRV"
      }
    },
    {
      "cell_type": "code",
      "execution_count": 1,
      "metadata": {
        "id": "0b2Xpj10bmBC"
      },
      "outputs": [],
      "source": [
        "from abc import ABC, abstractmethod"
      ]
    },
    {
      "cell_type": "code",
      "source": [
        "# abstract class\n",
        "\n",
        "class Vehicle(ABC):\n",
        "  @abstractmethod\n",
        "\n",
        "  def no_of_wheels(self):\n",
        "    pass\n",
        "\n",
        "  def start_engine(self):\n",
        "    pass\n",
        "\n",
        "  def stop_engine(self):\n",
        "    pass\n",
        "\n",
        "# subclass\n",
        "class Car(Vehicle):\n",
        "  def no_of_wheels(self):\n",
        "    print(\"Car has 4 wheels\")\n",
        "\n",
        "  def start_engine(self):\n",
        "    print(\"Car engine started\")\n",
        "\n",
        "  def stop_engine(self):\n",
        "    print(\"Car engine stopped\")\n",
        "\n",
        "# subclass\n",
        "class Bike(Vehicle):\n",
        "  def no_of_wheels(self):\n",
        "    print(\"Bike has 2 wheels\")\n",
        "\n",
        "  def start_engine(self):\n",
        "    print(\"Bike engine started\")\n",
        "\n",
        "  def stop_engine(self):\n",
        "    print(\"Bike engine stopped\")"
      ],
      "metadata": {
        "id": "T2j8XhjecHP6"
      },
      "execution_count": 2,
      "outputs": []
    },
    {
      "cell_type": "code",
      "source": [
        "c1 = Car()\n",
        "b1 = Bike()"
      ],
      "metadata": {
        "id": "7gBneZ0Cc_tL"
      },
      "execution_count": 3,
      "outputs": []
    },
    {
      "cell_type": "code",
      "source": [
        "print(c1.no_of_wheels())\n",
        "print(b1.start_engine())"
      ],
      "metadata": {
        "colab": {
          "base_uri": "https://localhost:8080/"
        },
        "id": "52gW_SXrrPfu",
        "outputId": "11fb36d1-e385-492c-fd28-106078679a60"
      },
      "execution_count": 4,
      "outputs": [
        {
          "output_type": "stream",
          "name": "stdout",
          "text": [
            "Car has 4 wheels\n",
            "None\n",
            "Bike engine started\n",
            "None\n"
          ]
        }
      ]
    },
    {
      "cell_type": "code",
      "source": [
        "v1 = Vehicle() # object of an abstract class cannot be created"
      ],
      "metadata": {
        "colab": {
          "base_uri": "https://localhost:8080/",
          "height": 141
        },
        "id": "E6cBISq9rUyE",
        "outputId": "6a4379ea-e415-4c73-9511-f2d8890eb4e7"
      },
      "execution_count": 5,
      "outputs": [
        {
          "output_type": "error",
          "ename": "TypeError",
          "evalue": "Can't instantiate abstract class Vehicle with abstract method no_of_wheels",
          "traceback": [
            "\u001b[0;31m---------------------------------------------------------------------------\u001b[0m",
            "\u001b[0;31mTypeError\u001b[0m                                 Traceback (most recent call last)",
            "\u001b[0;32m<ipython-input-5-a7b3f3a6f3f7>\u001b[0m in \u001b[0;36m<cell line: 1>\u001b[0;34m()\u001b[0m\n\u001b[0;32m----> 1\u001b[0;31m \u001b[0mv1\u001b[0m \u001b[0;34m=\u001b[0m \u001b[0mVehicle\u001b[0m\u001b[0;34m(\u001b[0m\u001b[0;34m)\u001b[0m \u001b[0;31m# object of an abstract class cannot be created\u001b[0m\u001b[0;34m\u001b[0m\u001b[0;34m\u001b[0m\u001b[0m\n\u001b[0m",
            "\u001b[0;31mTypeError\u001b[0m: Can't instantiate abstract class Vehicle with abstract method no_of_wheels"
          ]
        }
      ]
    },
    {
      "cell_type": "markdown",
      "source": [
        "ABSTRACT CLASS WITH CONSTRUCTOR"
      ],
      "metadata": {
        "id": "8UMz14sBuEDo"
      }
    },
    {
      "cell_type": "code",
      "source": [
        "# abstract class\n",
        "\n",
        "class Vehicle(ABC):\n",
        "  def __init__(self, name, color, price):\n",
        "    self.name = name\n",
        "    self.color = color\n",
        "    self.price = price\n",
        "\n",
        "  @abstractmethod  #abstract method\n",
        "  def no_of_wheels(self):\n",
        "    pass\n",
        "\n",
        "  def start_engine(self):\n",
        "    pass\n",
        "\n",
        "  def stop_engine(self):\n",
        "    pass\n",
        "  def get_details(self):\n",
        "    print(f\"Name: {self.name}, \\n Color: {self.color}, \\n Price: {self.price}\")\n",
        "\n",
        "# subclass\n",
        "\n",
        "class Car(Vehicle):\n",
        "  def __init__(self, name, color, price, brand):\n",
        "    super().__init__(name, color, price)\n",
        "    self.brand = brand\n",
        "\n",
        "  def no_of_wheels(self):\n",
        "    print(\"Car has 4 wheels\")\n",
        "\n",
        "  def start_engine(self):\n",
        "    print(\"Car engine started\")\n",
        "\n",
        "  def stop_engine(self):\n",
        "    print(\"Car engine stopped\")\n",
        "\n",
        "  def get_details(self):\n",
        "    return super().get_details()\n",
        "\n",
        "\n",
        "# subclass\n",
        "class Bike(Vehicle):\n",
        "  def no_of_wheels(self):\n",
        "    print(\"Bike has 2 wheels\")\n",
        "\n",
        "  def start_engine(self):\n",
        "    print(\"Bike engine started\")\n",
        "\n"
      ],
      "metadata": {
        "id": "sLHEaxN3uBRK"
      },
      "execution_count": null,
      "outputs": []
    },
    {
      "cell_type": "code",
      "source": [
        "c1 = Car(\"Honda\", \"Red\", 10000, \"Honda\")\n",
        "\n",
        "print(c1.get_details())\n",
        "print(c1.brand)\n",
        "print(c1.stop_engine())"
      ],
      "metadata": {
        "colab": {
          "base_uri": "https://localhost:8080/",
          "height": 211
        },
        "id": "kP-gUEAOyKDC",
        "outputId": "18091d6a-f4bd-4486-a220-76ebeab132ff"
      },
      "execution_count": 6,
      "outputs": [
        {
          "output_type": "error",
          "ename": "TypeError",
          "evalue": "Car() takes no arguments",
          "traceback": [
            "\u001b[0;31m---------------------------------------------------------------------------\u001b[0m",
            "\u001b[0;31mTypeError\u001b[0m                                 Traceback (most recent call last)",
            "\u001b[0;32m<ipython-input-6-77edd82586da>\u001b[0m in \u001b[0;36m<cell line: 1>\u001b[0;34m()\u001b[0m\n\u001b[0;32m----> 1\u001b[0;31m \u001b[0mc1\u001b[0m \u001b[0;34m=\u001b[0m \u001b[0mCar\u001b[0m\u001b[0;34m(\u001b[0m\u001b[0;34m\"Honda\"\u001b[0m\u001b[0;34m,\u001b[0m \u001b[0;34m\"Red\"\u001b[0m\u001b[0;34m,\u001b[0m \u001b[0;36m10000\u001b[0m\u001b[0;34m,\u001b[0m \u001b[0;34m\"Honda\"\u001b[0m\u001b[0;34m)\u001b[0m\u001b[0;34m\u001b[0m\u001b[0;34m\u001b[0m\u001b[0m\n\u001b[0m\u001b[1;32m      2\u001b[0m \u001b[0;34m\u001b[0m\u001b[0m\n\u001b[1;32m      3\u001b[0m \u001b[0mprint\u001b[0m\u001b[0;34m(\u001b[0m\u001b[0mc1\u001b[0m\u001b[0;34m.\u001b[0m\u001b[0mget_details\u001b[0m\u001b[0;34m(\u001b[0m\u001b[0;34m)\u001b[0m\u001b[0;34m)\u001b[0m\u001b[0;34m\u001b[0m\u001b[0;34m\u001b[0m\u001b[0m\n\u001b[1;32m      4\u001b[0m \u001b[0mprint\u001b[0m\u001b[0;34m(\u001b[0m\u001b[0mc1\u001b[0m\u001b[0;34m.\u001b[0m\u001b[0mbrand\u001b[0m\u001b[0;34m)\u001b[0m\u001b[0;34m\u001b[0m\u001b[0;34m\u001b[0m\u001b[0m\n\u001b[1;32m      5\u001b[0m \u001b[0mprint\u001b[0m\u001b[0;34m(\u001b[0m\u001b[0mc1\u001b[0m\u001b[0;34m.\u001b[0m\u001b[0mstop_engine\u001b[0m\u001b[0;34m(\u001b[0m\u001b[0;34m)\u001b[0m\u001b[0;34m)\u001b[0m\u001b[0;34m\u001b[0m\u001b[0;34m\u001b[0m\u001b[0m\n",
            "\u001b[0;31mTypeError\u001b[0m: Car() takes no arguments"
          ]
        }
      ]
    },
    {
      "cell_type": "code",
      "source": [
        "b1 = Bike(\"Yamaha\", \"Red\", 10000)\n",
        "b1.stop_engine()"
      ],
      "metadata": {
        "id": "mWEMHC-CuBNu"
      },
      "execution_count": null,
      "outputs": []
    },
    {
      "cell_type": "code",
      "source": [
        "b1.get_details()"
      ],
      "metadata": {
        "id": "2_ffz4L_uBLY"
      },
      "execution_count": null,
      "outputs": []
    },
    {
      "cell_type": "code",
      "source": [
        "print(b1.color)\n",
        "print(b1.name)\n",
        "print(b1.price)"
      ],
      "metadata": {
        "id": "RHMWTZ_9uBDF"
      },
      "execution_count": null,
      "outputs": []
    },
    {
      "cell_type": "code",
      "source": [],
      "metadata": {
        "id": "VjEyTXMVuAui"
      },
      "execution_count": null,
      "outputs": []
    },
    {
      "cell_type": "markdown",
      "source": [
        "#ENCAPSULATION"
      ],
      "metadata": {
        "id": "-CIr_CiFryPW"
      }
    },
    {
      "cell_type": "code",
      "source": [
        "class Bank:\n",
        "  def __init__(self, name, balance):\n",
        "    self.name = name\n",
        "    self.__balance = balance  # private attribute\n",
        "\n",
        "  def deposit(self, amount):\n",
        "    self.__balance += amount\n",
        "\n",
        "  def get_balance(self):\n",
        "    return self.__balance\n",
        "\n",
        "  def withdraw(self, amount):\n",
        "    if amount > self.__balance:\n",
        "      print(\"Insufficient balance\")\n",
        "    else:\n",
        "      self.__balance -= amount"
      ],
      "metadata": {
        "id": "JKxxkWLDrjna"
      },
      "execution_count": 7,
      "outputs": []
    },
    {
      "cell_type": "code",
      "source": [
        "b1 = Bank(\"John\", 1000)"
      ],
      "metadata": {
        "id": "mRTrYsyPsC0q"
      },
      "execution_count": 8,
      "outputs": []
    },
    {
      "cell_type": "code",
      "source": [
        "print(b1.get_balance())\n",
        "print(b1.name)"
      ],
      "metadata": {
        "colab": {
          "base_uri": "https://localhost:8080/"
        },
        "id": "w8Hnqh-fsN_M",
        "outputId": "d1c2dbd1-83ca-462b-94a0-f2d8da98d21b"
      },
      "execution_count": 9,
      "outputs": [
        {
          "output_type": "stream",
          "name": "stdout",
          "text": [
            "1000\n",
            "John\n"
          ]
        }
      ]
    },
    {
      "cell_type": "code",
      "source": [
        "b1.deposit(1000)\n",
        "b1.get_balance()"
      ],
      "metadata": {
        "colab": {
          "base_uri": "https://localhost:8080/"
        },
        "id": "d_iNesL2sQoH",
        "outputId": "fb207bd7-cf23-4ec8-faf5-0c696743d7ed"
      },
      "execution_count": 10,
      "outputs": [
        {
          "output_type": "execute_result",
          "data": {
            "text/plain": [
              "2000"
            ]
          },
          "metadata": {},
          "execution_count": 10
        }
      ]
    },
    {
      "cell_type": "code",
      "source": [
        "class Bank:\n",
        "  def __init__(self,fname, lname, balance):\n",
        "    self.name = fname\n",
        "    self.lname = lname\n",
        "    self.balance = balance\n",
        "\n",
        "  def bank_holder_name(self):\n",
        "      return f\"{self.name} {self.lname}\"\n",
        "\n",
        "  def __get_balance(self): # method encapsulation\n",
        "      return self.balance\n",
        "\n",
        "  def public_method(self):\n",
        "      return self.__get_balance()"
      ],
      "metadata": {
        "id": "vqxQ04qaspNQ"
      },
      "execution_count": 14,
      "outputs": []
    },
    {
      "cell_type": "code",
      "source": [
        "b1 = Bank(\"John\", \"Doe\", 1000)"
      ],
      "metadata": {
        "id": "h8LYjiQHTVbs"
      },
      "execution_count": 15,
      "outputs": []
    },
    {
      "cell_type": "code",
      "source": [
        "b1.public_method()"
      ],
      "metadata": {
        "colab": {
          "base_uri": "https://localhost:8080/"
        },
        "id": "CjXTYinUTXa5",
        "outputId": "e60348d4-0d37-431d-f1b1-73b883c79331"
      },
      "execution_count": 17,
      "outputs": [
        {
          "output_type": "execute_result",
          "data": {
            "text/plain": [
              "1000"
            ]
          },
          "metadata": {},
          "execution_count": 17
        }
      ]
    },
    {
      "cell_type": "markdown",
      "source": [
        "GETTER AND SETTER METHODS\n"
      ],
      "metadata": {
        "id": "DSLRcswBUAeL"
      }
    },
    {
      "cell_type": "code",
      "source": [
        "class Bank:\n",
        "  def __init__(self,fname, lname, balance):\n",
        "    self.__name = fname\n",
        "    self.lname = lname\n",
        "    self.__balance = balance\n",
        "\n",
        "  def set_balance(self, balance): # setter method to set the new value to the balance attributes\n",
        "    self.__balance = balance\n",
        "\n",
        "  def bank_holder_name(self):\n",
        "      return f\"{self.__name} {self.lname}\"\n",
        "\n",
        "  def __get_balance(self):\n",
        "      return self.__balance\n",
        "\n",
        "  def public_method(self):\n",
        "      return self.__get_balance()"
      ],
      "metadata": {
        "id": "CR6gEqKMTc1a"
      },
      "execution_count": 23,
      "outputs": []
    },
    {
      "cell_type": "code",
      "source": [
        "b1 = Bank(\"John\", \"Doe\", 1000)\n",
        "b1.bank_holder_name()"
      ],
      "metadata": {
        "colab": {
          "base_uri": "https://localhost:8080/",
          "height": 35
        },
        "id": "RJTkq1p6UTL1",
        "outputId": "b9c90a6e-73c3-4de9-e3fe-78f21f64c226"
      },
      "execution_count": 24,
      "outputs": [
        {
          "output_type": "execute_result",
          "data": {
            "text/plain": [
              "'John Doe'"
            ],
            "application/vnd.google.colaboratory.intrinsic+json": {
              "type": "string"
            }
          },
          "metadata": {},
          "execution_count": 24
        }
      ]
    },
    {
      "cell_type": "code",
      "source": [
        "b1.public_method()"
      ],
      "metadata": {
        "colab": {
          "base_uri": "https://localhost:8080/"
        },
        "id": "qV7FCR8uUYgg",
        "outputId": "efbe9836-ad36-47ea-ebfc-c2b936d6983c"
      },
      "execution_count": 27,
      "outputs": [
        {
          "output_type": "execute_result",
          "data": {
            "text/plain": [
              "2000"
            ]
          },
          "metadata": {},
          "execution_count": 27
        }
      ]
    },
    {
      "cell_type": "code",
      "source": [
        "b1.set_balance(2000)"
      ],
      "metadata": {
        "id": "GfbxM4WRUlVs"
      },
      "execution_count": 26,
      "outputs": []
    },
    {
      "cell_type": "code",
      "source": [],
      "metadata": {
        "id": "jmVjaQcOVbY_"
      },
      "execution_count": null,
      "outputs": []
    }
  ]
}