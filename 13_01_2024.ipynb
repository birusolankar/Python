{
  "nbformat": 4,
  "nbformat_minor": 0,
  "metadata": {
    "colab": {
      "provenance": [],
      "authorship_tag": "ABX9TyMUybO3p7IXyIVDo1TBb828",
      "include_colab_link": true
    },
    "kernelspec": {
      "name": "python3",
      "display_name": "Python 3"
    },
    "language_info": {
      "name": "python"
    }
  },
  "cells": [
    {
      "cell_type": "markdown",
      "metadata": {
        "id": "view-in-github",
        "colab_type": "text"
      },
      "source": [
        "<a href=\"https://colab.research.google.com/github/birusolankar/Python/blob/main/13_01_2024.ipynb\" target=\"_parent\"><img src=\"https://colab.research.google.com/assets/colab-badge.svg\" alt=\"Open In Colab\"/></a>"
      ]
    },
    {
      "cell_type": "code",
      "execution_count": 1,
      "metadata": {
        "colab": {
          "base_uri": "https://localhost:8080/"
        },
        "id": "CVP9LIMYc31R",
        "outputId": "f6224590-8f1f-4c35-d95b-74179d2bf68d"
      },
      "outputs": [
        {
          "output_type": "stream",
          "name": "stdout",
          "text": [
            "hello wrold\n"
          ]
        }
      ],
      "source": [
        "print(\"hello wrold\")"
      ]
    },
    {
      "cell_type": "code",
      "source": [
        "print(\"Data\", \"Science\", \"Mentorship\", \"Program\", \"By\", \"CampusX\", sep='-')\n"
      ],
      "metadata": {
        "colab": {
          "base_uri": "https://localhost:8080/"
        },
        "id": "mICc4WDedDpb",
        "outputId": "bc80f619-6f48-4628-a23a-3be1cffbfdb6"
      },
      "execution_count": 8,
      "outputs": [
        {
          "output_type": "stream",
          "name": "stdout",
          "text": [
            "Data-Science-Mentorship-Program-By-CampusX\n"
          ]
        }
      ]
    },
    {
      "cell_type": "code",
      "source": [
        "# fromula = (0°C × 9/5) + 32 = 32°F\n",
        "\n",
        "celsius = float(input(\"enter the temp in celsius: \"))\n",
        "farenite = celsius*(9/5) + 32\n",
        "print(farenite, 'F')"
      ],
      "metadata": {
        "colab": {
          "base_uri": "https://localhost:8080/"
        },
        "id": "QmnOvtnEdKUp",
        "outputId": "2ec13829-dc7d-4bdb-ecaf-2aa41c1e8fb2"
      },
      "execution_count": 13,
      "outputs": [
        {
          "output_type": "stream",
          "name": "stdout",
          "text": [
            "enter the temp in celsius: 50\n",
            "122.0 F\n"
          ]
        }
      ]
    },
    {
      "cell_type": "code",
      "source": [
        "# take number from the user and swap them\n",
        "\n",
        "num1 = int(input(\"enter the number: \"))\n",
        "num2 = int(input(\"enter the numner: \"))\n",
        "\n",
        "num1, num2 = num2, num1\n",
        "print(num1, num2)"
      ],
      "metadata": {
        "colab": {
          "base_uri": "https://localhost:8080/"
        },
        "id": "mlo_TCXEfhQv",
        "outputId": "5d399007-50c1-40ed-911f-d72a817afdd8"
      },
      "execution_count": 14,
      "outputs": [
        {
          "output_type": "stream",
          "name": "stdout",
          "text": [
            "enter the number: 5\n",
            "enter the numner: 10\n",
            "10 5\n"
          ]
        }
      ]
    },
    {
      "cell_type": "code",
      "source": [
        "#Q4:- Write a program to find the euclidean distance between two coordinates.Take both the coordinates from the user as input.\n",
        "x1 = int(input(\"enter the cood of x1: \"))\n",
        "y1 = int(input(\"enter the cood of x2: \"))\n",
        "x2 = int(input(\"enter the cood of y1: \"))\n",
        "y2 = int(input(\"enter the cood of y2: \"))\n",
        "\n",
        "coordinates1 = (x1, y1)\n",
        "coordiantes2 = (x2, y2)\n",
        "euclidian_distance = ((x2-x1)**2 + (y2-y1)**2)**0.5\n",
        "print(f\"ecludian distance of a given coordinates {coordinates1}, {coordiantes2} is \",round(euclidian_distance,2))"
      ],
      "metadata": {
        "colab": {
          "base_uri": "https://localhost:8080/"
        },
        "id": "Oi14Z3nYglF4",
        "outputId": "6dd2eb19-6cc0-4a3f-a741-4929d30ac319"
      },
      "execution_count": 19,
      "outputs": [
        {
          "output_type": "stream",
          "name": "stdout",
          "text": [
            "enter the cood of x1: 0\n",
            "enter the cood of x2: 0\n",
            "enter the cood of y1: 2\n",
            "enter the cood of y2: 2\n",
            "ecludian distance of a given coordinates (0, 0), (2, 2) is  2.83\n"
          ]
        }
      ]
    },
    {
      "cell_type": "code",
      "source": [
        "#Q5:- Write a program to find the simple interest when the value of principle,rate of interest and time period is provided by the user.\n",
        "\n",
        "#simple interest formula is A = P(1 + rt)\n",
        "# where A = total amount\n",
        "# P = principa amount\n",
        "# r = rate of interset\n",
        "# t = time period\n",
        "\n",
        "P = float(input(\"enter the principal amount: \"))\n",
        "r = float(input(\"enter the rate of interest: \"))\n",
        "t = float(input(\"enter the time period: \"))\n",
        "\n",
        "total_amount = (P*r*t)/100\n",
        "print(f\"simple ineterest is {total_amount}\")"
      ],
      "metadata": {
        "colab": {
          "base_uri": "https://localhost:8080/"
        },
        "id": "GyqdB8ogtfmV",
        "outputId": "b52f038a-bf5d-4a62-c59b-fea4102714f2"
      },
      "execution_count": 25,
      "outputs": [
        {
          "output_type": "stream",
          "name": "stdout",
          "text": [
            "enter the principal amount: 10000\n",
            "enter the rate of interest: 10\n",
            "enter the time period: 2\n",
            "simple ineterest is 2000.0\n"
          ]
        }
      ]
    },
    {
      "cell_type": "code",
      "source": [],
      "metadata": {
        "id": "4LvM9hUHwNtT"
      },
      "execution_count": null,
      "outputs": []
    }
  ]
}