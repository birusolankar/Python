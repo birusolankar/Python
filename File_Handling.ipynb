{
  "nbformat": 4,
  "nbformat_minor": 0,
  "metadata": {
    "colab": {
      "provenance": [],
      "authorship_tag": "ABX9TyPdZhCS0Ya6mcEVSGDc1C9J",
      "include_colab_link": true
    },
    "kernelspec": {
      "name": "python3",
      "display_name": "Python 3"
    },
    "language_info": {
      "name": "python"
    }
  },
  "cells": [
    {
      "cell_type": "markdown",
      "metadata": {
        "id": "view-in-github",
        "colab_type": "text"
      },
      "source": [
        "<a href=\"https://colab.research.google.com/github/birusolankar/Python/blob/main/File_Handling.ipynb\" target=\"_parent\"><img src=\"https://colab.research.google.com/assets/colab-badge.svg\" alt=\"Open In Colab\"/></a>"
      ]
    },
    {
      "cell_type": "markdown",
      "source": [
        "# Writing a file"
      ],
      "metadata": {
        "id": "QMvf0Xu47q_Z"
      }
    },
    {
      "cell_type": "code",
      "execution_count": 1,
      "metadata": {
        "id": "5wHxJmuVztos"
      },
      "outputs": [],
      "source": [
        "# case--1 when file is not present\n",
        "\n",
        "f = open(\"sample.txt\", \"w\")\n",
        "f.write(\"hello world\")\n",
        "f.close()"
      ]
    },
    {
      "cell_type": "code",
      "source": [
        "# when file is closed and if we tried write into the file it will throw an error\n",
        "# it givees value error--> i/o operation on closed file\n",
        "f.write(\"how are you\")"
      ],
      "metadata": {
        "colab": {
          "base_uri": "https://localhost:8080/",
          "height": 200
        },
        "id": "thLjqdJf4Zdo",
        "outputId": "0d8e65db-2fe3-4685-a7c5-f8f4196ad403"
      },
      "execution_count": 2,
      "outputs": [
        {
          "output_type": "error",
          "ename": "ValueError",
          "evalue": "ignored",
          "traceback": [
            "\u001b[0;31m---------------------------------------------------------------------------\u001b[0m",
            "\u001b[0;31mValueError\u001b[0m                                Traceback (most recent call last)",
            "\u001b[0;32m<ipython-input-2-20dab85598de>\u001b[0m in \u001b[0;36m<cell line: 3>\u001b[0;34m()\u001b[0m\n\u001b[1;32m      1\u001b[0m \u001b[0;31m# when file is closed and if we tried write into the file it will throw an error\u001b[0m\u001b[0;34m\u001b[0m\u001b[0;34m\u001b[0m\u001b[0m\n\u001b[1;32m      2\u001b[0m \u001b[0;31m# it givees value error--> i/o operation on closed file\u001b[0m\u001b[0;34m\u001b[0m\u001b[0;34m\u001b[0m\u001b[0m\n\u001b[0;32m----> 3\u001b[0;31m \u001b[0mf\u001b[0m\u001b[0;34m.\u001b[0m\u001b[0mwrite\u001b[0m\u001b[0;34m(\u001b[0m\u001b[0;34m\"how are you\"\u001b[0m\u001b[0;34m)\u001b[0m\u001b[0;34m\u001b[0m\u001b[0;34m\u001b[0m\u001b[0m\n\u001b[0m",
            "\u001b[0;31mValueError\u001b[0m: I/O operation on closed file."
          ]
        }
      ]
    },
    {
      "cell_type": "code",
      "source": [
        "# writting multiple string\n",
        "f = open(\"sample1.txt\", \"w\")\n",
        "f.write(\"hi\")\n",
        "f.write(\"\\nhow are you\")\n",
        "f.close()"
      ],
      "metadata": {
        "id": "KeG0B8B_4uAg"
      },
      "execution_count": 3,
      "outputs": []
    },
    {
      "cell_type": "code",
      "source": [
        "# case-2 if the file is already present\n",
        "f = open(\"/content/sample1.txt\", \"w\")\n",
        "f.write(\"hello world\")\n",
        "f.write(\"\\nhow are ypu\")\n",
        "f.write(\"\\ni hope you are doing well\")\n",
        "f.close()"
      ],
      "metadata": {
        "id": "_ww-3rDX5M_4"
      },
      "execution_count": 4,
      "outputs": []
    },
    {
      "cell_type": "code",
      "source": [
        "# problem with w mode --> in w mode earlier data will get deleted and only new data get added\n",
        "# introducing append mode--> this method is used to add to an existing data without disturbing existing data\n",
        "\n",
        "f = open(\"/content/sample1.txt\", \"a\")\n",
        "f.write(\"\\nI am a data science enthusiast\")\n",
        "f.close()"
      ],
      "metadata": {
        "id": "RoYHDIbQ52dF"
      },
      "execution_count": 5,
      "outputs": []
    },
    {
      "cell_type": "code",
      "source": [
        "# write lines\n",
        "L = [\"hi\", \"\\nAmar\", \"\\nhow you have been doing\", \"\\nI am doing well\", \"\\nI am fine\"]\n",
        "\n",
        "f = open(\"/content/sample1.txt\", \"w\")\n",
        "f.writelines(L)\n",
        "f.close()"
      ],
      "metadata": {
        "id": "mOhY_hKm6i-X"
      },
      "execution_count": 6,
      "outputs": []
    },
    {
      "cell_type": "markdown",
      "source": [
        "# Reading from a file"
      ],
      "metadata": {
        "id": "K-OE-vrq7ykB"
      }
    },
    {
      "cell_type": "code",
      "source": [
        "# read() function\n",
        "\n",
        "f = open(\"/content/sample1.txt\", \"r\")\n",
        "s = f.read()\n",
        "print(s)\n",
        "f.close()"
      ],
      "metadata": {
        "colab": {
          "base_uri": "https://localhost:8080/"
        },
        "id": "E0ACKiH87DHq",
        "outputId": "34fc81cb-0c98-463a-87e6-122f689faeaf"
      },
      "execution_count": 7,
      "outputs": [
        {
          "output_type": "stream",
          "name": "stdout",
          "text": [
            "hi\n",
            "Amar\n",
            "how you have been doing\n",
            "I am doing well\n",
            "I am fine\n"
          ]
        }
      ]
    },
    {
      "cell_type": "code",
      "source": [
        "# reading upto n characters\n",
        "f = open(\"/content/sample1.txt\", \"r\")\n",
        "s = f.read(15)\n",
        "print(s)\n",
        "f.close()"
      ],
      "metadata": {
        "colab": {
          "base_uri": "https://localhost:8080/"
        },
        "id": "bQKxccpb8ERP",
        "outputId": "62c75c0b-bfe8-4e73-e358-8ab1d861a3c6"
      },
      "execution_count": 8,
      "outputs": [
        {
          "output_type": "stream",
          "name": "stdout",
          "text": [
            "hi\n",
            "Amar\n",
            "how you\n"
          ]
        }
      ]
    },
    {
      "cell_type": "code",
      "source": [
        "# readline()---> used for reading line by line\n",
        "# when we want to read line by line data without loading all the data in file\n",
        "f = open(\"/content/sample1.txt\", \"r\")\n",
        "print(f.readline(), end='')\n",
        "print(f.readline(),end='')\n",
        "f.close()"
      ],
      "metadata": {
        "colab": {
          "base_uri": "https://localhost:8080/"
        },
        "id": "lJ5Ce2288wy8",
        "outputId": "e1c01389-e3ac-41e3-ce1b-65a092cda0a5"
      },
      "execution_count": 9,
      "outputs": [
        {
          "output_type": "stream",
          "name": "stdout",
          "text": [
            "hi\n",
            "Amar\n"
          ]
        }
      ]
    },
    {
      "cell_type": "code",
      "source": [
        "# reading entire data using readline()\n",
        "\n",
        "f = open(\"/content/sample1.txt\", \"r\")\n",
        "\n",
        "while True:\n",
        "\n",
        "  data = f.readline()\n",
        "\n",
        "  if data == '':\n",
        "    break\n",
        "  else:\n",
        "    print(data, end='')"
      ],
      "metadata": {
        "colab": {
          "base_uri": "https://localhost:8080/"
        },
        "id": "3DpoBtzA9FhQ",
        "outputId": "40fbe5f8-0f12-4688-b906-5edf1ff6d51f"
      },
      "execution_count": 10,
      "outputs": [
        {
          "output_type": "stream",
          "name": "stdout",
          "text": [
            "hi\n",
            "Amar\n",
            "how you have been doing\n",
            "I am doing well\n",
            "I am fine"
          ]
        }
      ]
    },
    {
      "cell_type": "code",
      "source": [
        "f = open(\"/content/sample1.txt\", \"r\")\n",
        "s = f.read()\n",
        "print(s)\n",
        "f.close()"
      ],
      "metadata": {
        "colab": {
          "base_uri": "https://localhost:8080/"
        },
        "id": "ACfnDDRG9j2G",
        "outputId": "1a395fd2-b35d-40c8-98a5-2b58856cc0d3"
      },
      "execution_count": 11,
      "outputs": [
        {
          "output_type": "stream",
          "name": "stdout",
          "text": [
            "hi\n",
            "Amar\n",
            "how you have been doing\n",
            "I am doing well\n",
            "I am fine\n"
          ]
        }
      ]
    },
    {
      "cell_type": "markdown",
      "source": [
        "# Using contxt manager(with)\n",
        "\n",
        "\n",
        "*  It's a good idea to close a file after usage as it will free up the resources\n",
        "\n",
        "* If we dont close it, garbage collector would close it\n",
        "\n",
        "\n",
        "* with keyword closes the file as soon as the usage is over\n",
        "\n",
        "\n",
        "\n",
        "\n"
      ],
      "metadata": {
        "id": "3vRxDGXVDOUA"
      }
    },
    {
      "cell_type": "code",
      "source": [
        "with open(\"/content/sample1.txt\", \"w\") as f:\n",
        "  print(f.write(\"hello world\"))"
      ],
      "metadata": {
        "colab": {
          "base_uri": "https://localhost:8080/"
        },
        "id": "7B0XF5kQ_PA1",
        "outputId": "e942c70d-b601-42e6-b1ad-e576bdef981a"
      },
      "execution_count": 12,
      "outputs": [
        {
          "output_type": "stream",
          "name": "stdout",
          "text": [
            "11\n"
          ]
        }
      ]
    },
    {
      "cell_type": "code",
      "source": [
        "with open(\"sample3.txt\", 'w') as f:\n",
        "  print(f.write(\"hello this is james bond\"))"
      ],
      "metadata": {
        "colab": {
          "base_uri": "https://localhost:8080/"
        },
        "id": "ZYOiECsy_eo5",
        "outputId": "2210b42e-5a7e-440c-9f8c-170347e0a777"
      },
      "execution_count": 13,
      "outputs": [
        {
          "output_type": "stream",
          "name": "stdout",
          "text": [
            "24\n"
          ]
        }
      ]
    },
    {
      "cell_type": "code",
      "source": [
        "with open(\"sample3.txt\", \"r\") as f:\n",
        "  print(f.read())"
      ],
      "metadata": {
        "colab": {
          "base_uri": "https://localhost:8080/"
        },
        "id": "pANfLhwx_1lZ",
        "outputId": "8518a0cb-0739-42c5-b064-90243cc616e7"
      },
      "execution_count": 14,
      "outputs": [
        {
          "output_type": "stream",
          "name": "stdout",
          "text": [
            "hello this is james bond\n"
          ]
        }
      ]
    },
    {
      "cell_type": "code",
      "source": [
        "f.write(\"hi\") # when we use with keyword after usage it closes the file automatically"
      ],
      "metadata": {
        "colab": {
          "base_uri": "https://localhost:8080/",
          "height": 165
        },
        "id": "_cuOOGskD0GS",
        "outputId": "1022260b-bae2-4aa2-9ce7-d23bfc27c468"
      },
      "execution_count": 15,
      "outputs": [
        {
          "output_type": "error",
          "ename": "ValueError",
          "evalue": "ignored",
          "traceback": [
            "\u001b[0;31m---------------------------------------------------------------------------\u001b[0m",
            "\u001b[0;31mValueError\u001b[0m                                Traceback (most recent call last)",
            "\u001b[0;32m<ipython-input-15-bf836e220c71>\u001b[0m in \u001b[0;36m<cell line: 1>\u001b[0;34m()\u001b[0m\n\u001b[0;32m----> 1\u001b[0;31m \u001b[0mf\u001b[0m\u001b[0;34m.\u001b[0m\u001b[0mwrite\u001b[0m\u001b[0;34m(\u001b[0m\u001b[0;34m\"hi\"\u001b[0m\u001b[0;34m)\u001b[0m \u001b[0;31m# when we use with keyword after usage it closes the file automatically\u001b[0m\u001b[0;34m\u001b[0m\u001b[0;34m\u001b[0m\u001b[0m\n\u001b[0m",
            "\u001b[0;31mValueError\u001b[0m: I/O operation on closed file."
          ]
        }
      ]
    },
    {
      "cell_type": "code",
      "source": [
        "# read mode using with keyword\n",
        "\n",
        "with open(\"/content/sample1.txt\",\"r\") as f:\n",
        "  print(f.read())"
      ],
      "metadata": {
        "id": "vqhmNYuREH0E"
      },
      "execution_count": null,
      "outputs": []
    },
    {
      "cell_type": "code",
      "source": [
        "with open(\"sample.csv\", \"w\") as f:\n",
        "  print(f.write(\"name: james bond\"))"
      ],
      "metadata": {
        "id": "46ox_5SzEcQd",
        "colab": {
          "base_uri": "https://localhost:8080/"
        },
        "outputId": "8ec15eca-9520-4e68-c955-b17e795f1a5f"
      },
      "execution_count": 16,
      "outputs": [
        {
          "output_type": "stream",
          "name": "stdout",
          "text": [
            "16\n"
          ]
        }
      ]
    },
    {
      "cell_type": "code",
      "source": [
        "for i in range(1000):\n",
        "  print(\"hello world\", end='')"
      ],
      "metadata": {
        "colab": {
          "base_uri": "https://localhost:8080/"
        },
        "id": "bTCO481SASdu",
        "outputId": "410bad8a-faf9-48b9-e5e7-f3517ed7a185"
      },
      "execution_count": 17,
      "outputs": [
        {
          "output_type": "stream",
          "name": "stdout",
          "text": [
            "hello worldhello worldhello worldhello worldhello worldhello worldhello worldhello worldhello worldhello worldhello worldhello worldhello worldhello worldhello worldhello worldhello worldhello worldhello worldhello worldhello worldhello worldhello worldhello worldhello worldhello worldhello worldhello worldhello worldhello worldhello worldhello worldhello worldhello worldhello worldhello worldhello worldhello worldhello worldhello worldhello worldhello worldhello worldhello worldhello worldhello worldhello worldhello worldhello worldhello worldhello worldhello worldhello worldhello worldhello worldhello worldhello worldhello worldhello worldhello worldhello worldhello worldhello worldhello worldhello worldhello worldhello worldhello worldhello worldhello worldhello worldhello worldhello worldhello worldhello worldhello worldhello worldhello worldhello worldhello worldhello worldhello worldhello worldhello worldhello worldhello worldhello worldhello worldhello worldhello worldhello worldhello worldhello worldhello worldhello worldhello worldhello worldhello worldhello worldhello worldhello worldhello worldhello worldhello worldhello worldhello worldhello worldhello worldhello worldhello worldhello worldhello worldhello worldhello worldhello worldhello worldhello worldhello worldhello worldhello worldhello worldhello worldhello worldhello worldhello worldhello worldhello worldhello worldhello worldhello worldhello worldhello worldhello worldhello worldhello worldhello worldhello worldhello worldhello worldhello worldhello worldhello worldhello worldhello worldhello worldhello worldhello worldhello worldhello worldhello worldhello worldhello worldhello worldhello worldhello worldhello worldhello worldhello worldhello worldhello worldhello worldhello worldhello worldhello worldhello worldhello worldhello worldhello worldhello worldhello worldhello worldhello worldhello worldhello worldhello worldhello worldhello worldhello worldhello worldhello worldhello worldhello worldhello worldhello worldhello worldhello worldhello worldhello worldhello worldhello worldhello worldhello worldhello worldhello worldhello worldhello worldhello worldhello worldhello worldhello worldhello worldhello worldhello worldhello worldhello worldhello worldhello worldhello worldhello worldhello worldhello worldhello worldhello worldhello worldhello worldhello worldhello worldhello worldhello worldhello worldhello worldhello worldhello worldhello worldhello worldhello worldhello worldhello worldhello worldhello worldhello worldhello worldhello worldhello worldhello worldhello worldhello worldhello worldhello worldhello worldhello worldhello worldhello worldhello worldhello worldhello worldhello worldhello worldhello worldhello worldhello worldhello worldhello worldhello worldhello worldhello worldhello worldhello worldhello worldhello worldhello worldhello worldhello worldhello worldhello worldhello worldhello worldhello worldhello worldhello worldhello worldhello worldhello worldhello worldhello worldhello worldhello worldhello worldhello worldhello worldhello worldhello worldhello worldhello worldhello worldhello worldhello worldhello worldhello worldhello worldhello worldhello worldhello worldhello worldhello worldhello worldhello worldhello worldhello worldhello worldhello worldhello worldhello worldhello worldhello worldhello worldhello worldhello worldhello worldhello worldhello worldhello worldhello worldhello worldhello worldhello worldhello worldhello worldhello worldhello worldhello worldhello worldhello worldhello worldhello worldhello worldhello worldhello worldhello worldhello worldhello worldhello worldhello worldhello worldhello worldhello worldhello worldhello worldhello worldhello worldhello worldhello worldhello worldhello worldhello worldhello worldhello worldhello worldhello worldhello worldhello worldhello worldhello worldhello worldhello worldhello worldhello worldhello worldhello worldhello worldhello worldhello worldhello worldhello worldhello worldhello worldhello worldhello worldhello worldhello worldhello worldhello worldhello worldhello worldhello worldhello worldhello worldhello worldhello worldhello worldhello worldhello worldhello worldhello worldhello worldhello worldhello worldhello worldhello worldhello worldhello worldhello worldhello worldhello worldhello worldhello worldhello worldhello worldhello worldhello worldhello worldhello worldhello worldhello worldhello worldhello worldhello worldhello worldhello worldhello worldhello worldhello worldhello worldhello worldhello worldhello worldhello worldhello worldhello worldhello worldhello worldhello worldhello worldhello worldhello worldhello worldhello worldhello worldhello worldhello worldhello worldhello worldhello worldhello worldhello worldhello worldhello worldhello worldhello worldhello worldhello worldhello worldhello worldhello worldhello worldhello worldhello worldhello worldhello worldhello worldhello worldhello worldhello worldhello worldhello worldhello worldhello worldhello worldhello worldhello worldhello worldhello worldhello worldhello worldhello worldhello worldhello worldhello worldhello worldhello worldhello worldhello worldhello worldhello worldhello worldhello worldhello worldhello worldhello worldhello worldhello worldhello worldhello worldhello worldhello worldhello worldhello worldhello worldhello worldhello worldhello worldhello worldhello worldhello worldhello worldhello worldhello worldhello worldhello worldhello worldhello worldhello worldhello worldhello worldhello worldhello worldhello worldhello worldhello worldhello worldhello worldhello worldhello worldhello worldhello worldhello worldhello worldhello worldhello worldhello worldhello worldhello worldhello worldhello worldhello worldhello worldhello worldhello worldhello worldhello worldhello worldhello worldhello worldhello worldhello worldhello worldhello worldhello worldhello worldhello worldhello worldhello worldhello worldhello worldhello worldhello worldhello worldhello worldhello worldhello worldhello worldhello worldhello worldhello worldhello worldhello worldhello worldhello worldhello worldhello worldhello worldhello worldhello worldhello worldhello worldhello worldhello worldhello worldhello worldhello worldhello worldhello worldhello worldhello worldhello worldhello worldhello worldhello worldhello worldhello worldhello worldhello worldhello worldhello worldhello worldhello worldhello worldhello worldhello worldhello worldhello worldhello worldhello worldhello worldhello worldhello worldhello worldhello worldhello worldhello worldhello worldhello worldhello worldhello worldhello worldhello worldhello worldhello worldhello worldhello worldhello worldhello worldhello worldhello worldhello worldhello worldhello worldhello worldhello worldhello worldhello worldhello worldhello worldhello worldhello worldhello worldhello worldhello worldhello worldhello worldhello worldhello worldhello worldhello worldhello worldhello worldhello worldhello worldhello worldhello worldhello worldhello worldhello worldhello worldhello worldhello worldhello worldhello worldhello worldhello worldhello worldhello worldhello worldhello worldhello worldhello worldhello worldhello worldhello worldhello worldhello worldhello worldhello worldhello worldhello worldhello worldhello worldhello worldhello worldhello worldhello worldhello worldhello worldhello worldhello worldhello worldhello worldhello worldhello worldhello worldhello worldhello worldhello worldhello worldhello worldhello worldhello worldhello worldhello worldhello worldhello worldhello worldhello worldhello worldhello worldhello worldhello worldhello worldhello worldhello worldhello worldhello worldhello worldhello worldhello worldhello worldhello worldhello worldhello worldhello worldhello worldhello worldhello worldhello worldhello worldhello worldhello worldhello worldhello worldhello worldhello worldhello worldhello worldhello worldhello worldhello worldhello worldhello worldhello worldhello worldhello worldhello worldhello worldhello worldhello worldhello worldhello worldhello worldhello worldhello worldhello worldhello worldhello worldhello worldhello worldhello worldhello worldhello worldhello worldhello worldhello worldhello worldhello worldhello worldhello worldhello worldhello worldhello worldhello worldhello worldhello worldhello worldhello worldhello worldhello worldhello worldhello worldhello worldhello worldhello worldhello worldhello worldhello worldhello worldhello worldhello worldhello worldhello worldhello worldhello worldhello worldhello worldhello worldhello worldhello worldhello worldhello worldhello worldhello worldhello worldhello worldhello worldhello worldhello worldhello worldhello worldhello worldhello worldhello worldhello worldhello worldhello worldhello worldhello worldhello worldhello worldhello worldhello worldhello worldhello worldhello worldhello worldhello worldhello worldhello worldhello worldhello worldhello worldhello worldhello worldhello worldhello worldhello worldhello worldhello worldhello worldhello worldhello worldhello worldhello worldhello worldhello worldhello worldhello worldhello worldhello worldhello worldhello worldhello worldhello worldhello worldhello worldhello worldhello worldhello worldhello worldhello worldhello worldhello worldhello worldhello worldhello worldhello worldhello worldhello worldhello worldhello worldhello worldhello worldhello worldhello worldhello worldhello worldhello worldhello worldhello worldhello worldhello worldhello worldhello worldhello worldhello worldhello worldhello worldhello worldhello worldhello worldhello worldhello worldhello worldhello worldhello worldhello worldhello worldhello worldhello worldhello worldhello worldhello worldhello worldhello worldhello worldhello worldhello worldhello worldhello worldhello worldhello worldhello worldhello worldhello worldhello worldhello worldhello worldhello worldhello worldhello worldhello worldhello worldhello worldhello worldhello worldhello worldhello worldhello worldhello worldhello worldhello worldhello worldhello worldhello worldhello worldhello worldhello worldhello worldhello worldhello worldhello worldhello worldhello worldhello worldhello worldhello worldhello worldhello worldhello worldhello worldhello worldhello worldhello worldhello worldhello worldhello worldhello worldhello worldhello worldhello worldhello worldhello worldhello worldhello worldhello worldhello worldhello worldhello worldhello worldhello worldhello worldhello worldhello worldhello worldhello worldhello worldhello worldhello worldhello worldhello worldhello worldhello worldhello worldhello worldhello worldhello worldhello worldhello worldhello worldhello worldhello worldhello worldhello worldhello worldhello worldhello worldhello worldhello worldhello worldhello worldhello worldhello worldhello worldhello worldhello worldhello worldhello worldhello worldhello worldhello worldhello worldhello worldhello world"
          ]
        }
      ]
    },
    {
      "cell_type": "code",
      "source": [],
      "metadata": {
        "id": "8YzDoESQBkmI"
      },
      "execution_count": 17,
      "outputs": []
    },
    {
      "cell_type": "code",
      "source": [
        "with open(\"/content/sample_data/california_housing_test.csv\", \"r\") as f:\n",
        "  print(f.read(100))"
      ],
      "metadata": {
        "colab": {
          "base_uri": "https://localhost:8080/"
        },
        "id": "bKh2PVJ-HF1h",
        "outputId": "a7dd579a-a43e-4a47-980b-ac0a4669799b"
      },
      "execution_count": 18,
      "outputs": [
        {
          "output_type": "stream",
          "name": "stdout",
          "text": [
            "\"longitude\",\"latitude\",\"housing_median_age\",\"total_rooms\",\"total_bedrooms\",\"population\",\"households\"\n"
          ]
        }
      ]
    },
    {
      "cell_type": "code",
      "source": [
        "with open(\"sample.txt\", \"w\") as f:\n",
        "  print(f.write(\"hi \\nhow are you \\ni am fine \\ntell me about yourself\"))"
      ],
      "metadata": {
        "colab": {
          "base_uri": "https://localhost:8080/"
        },
        "id": "FrEfgv0NHFxn",
        "outputId": "3fcd0dd0-0d54-4fba-f48c-094dfdb27902"
      },
      "execution_count": 19,
      "outputs": [
        {
          "output_type": "stream",
          "name": "stdout",
          "text": [
            "50\n"
          ]
        }
      ]
    },
    {
      "cell_type": "code",
      "source": [
        "with open(\"/content/sample.txt\", \"r\") as f:\n",
        "  print(f.read(10))\n",
        "  print(f.read(10))"
      ],
      "metadata": {
        "colab": {
          "base_uri": "https://localhost:8080/"
        },
        "id": "PuX7aurAHFun",
        "outputId": "6e82880d-4675-4a7b-cb05-266fbfd2e020"
      },
      "execution_count": 20,
      "outputs": [
        {
          "output_type": "stream",
          "name": "stdout",
          "text": [
            "hi \n",
            "how ar\n",
            "e you \n",
            "i a\n"
          ]
        }
      ]
    },
    {
      "cell_type": "code",
      "source": [
        "# benefit? to load a big file in memory\n",
        "\n",
        "big_l = ['hello world' for i in range(1000)]\n",
        "\n",
        "with open(\"big.txt\", \"w\") as f:\n",
        "  print(f.writelines(big_l))"
      ],
      "metadata": {
        "colab": {
          "base_uri": "https://localhost:8080/"
        },
        "id": "QJ-Hv6P3HFWy",
        "outputId": "d37f03c8-ae64-4ae3-ae2f-4975e27a809d"
      },
      "execution_count": 21,
      "outputs": [
        {
          "output_type": "stream",
          "name": "stdout",
          "text": [
            "None\n"
          ]
        }
      ]
    },
    {
      "cell_type": "code",
      "source": [
        "with open(\"big.txt\", \"r\") as f:\n",
        "\n",
        "  chunk_size= 100\n",
        "\n",
        "  while len(f.read(chunk_size)) > 0:\n",
        "    print(f.read(chunk_size), end='')\n",
        "    f.read(chunk_size)\n",
        "\n"
      ],
      "metadata": {
        "colab": {
          "base_uri": "https://localhost:8080/"
        },
        "id": "iLGtMli5JyUY",
        "outputId": "6fe8db5a-74bd-449a-e8b9-ce29cf5ada68"
      },
      "execution_count": 22,
      "outputs": [
        {
          "output_type": "stream",
          "name": "stdout",
          "text": [
            "ello worldhello worldhello worldhello worldhello worldhello worldhello worldhello worldhello worldheo worldhello worldhello worldhello worldhello worldhello worldhello worldhello worldhello worldhelloorldhello worldhello worldhello worldhello worldhello worldhello worldhello worldhello worldhello wodhello worldhello worldhello worldhello worldhello worldhello worldhello worldhello worldhello worldllo worldhello worldhello worldhello worldhello worldhello worldhello worldhello worldhello worldhel worldhello worldhello worldhello worldhello worldhello worldhello worldhello worldhello worldhello rldhello worldhello worldhello worldhello worldhello worldhello worldhello worldhello worldhello worhello worldhello worldhello worldhello worldhello worldhello worldhello worldhello worldhello worldhlo worldhello worldhello worldhello worldhello worldhello worldhello worldhello worldhello worldhellworldhello worldhello worldhello worldhello worldhello worldhello worldhello worldhello worldhello wldhello worldhello worldhello worldhello worldhello worldhello worldhello worldhello worldhello worlello worldhello worldhello worldhello worldhello worldhello worldhello worldhello worldhello worldheo worldhello worldhello worldhello worldhello worldhello worldhello worldhello worldhello worldhelloorldhello worldhello worldhello worldhello worldhello worldhello worldhello worldhello worldhello wodhello worldhello worldhello worldhello worldhello worldhello worldhello worldhello worldhello worldllo worldhello worldhello worldhello worldhello worldhello worldhello worldhello worldhello worldhel worldhello worldhello worldhello worldhello worldhello worldhello worldhello worldhello worldhello rldhello worldhello worldhello worldhello worldhello worldhello worldhello worldhello worldhello worhello worldhello worldhello worldhello worldhello worldhello worldhello worldhello worldhello worldhlo worldhello worldhello worldhello worldhello worldhello worldhello worldhello worldhello worldhellworldhello worldhello worldhello worldhello worldhello worldhello worldhello worldhello worldhello wldhello worldhello worldhello worldhello worldhello worldhello worldhello worldhello worldhello worlello worldhello worldhello worldhello worldhello worldhello worldhello worldhello worldhello worldheo worldhello worldhello worldhello worldhello worldhello worldhello worldhello worldhello worldhelloorldhello worldhello worldhello worldhello worldhello worldhello worldhello worldhello worldhello wodhello worldhello worldhello worldhello worldhello worldhello worldhello worldhello worldhello worldllo worldhello worldhello worldhello worldhello worldhello worldhello worldhello worldhello worldhel worldhello worldhello worldhello worldhello worldhello worldhello worldhello worldhello worldhello rldhello worldhello worldhello worldhello worldhello worldhello worldhello worldhello worldhello worhello worldhello worldhello worldhello worldhello worldhello worldhello worldhello worldhello worldhlo worldhello worldhello worldhello worldhello worldhello worldhello worldhello worldhello worldhellworldhello worldhello worldhello worldhello worldhello worldhello worldhello worldhello worldhello wldhello worldhello worldhello worldhello worldhello worldhello worldhello worldhello worldhello worlello worldhello worldhello worldhello worldhello worldhello worldhello worldhello worldhello worldheo worldhello worldhello worldhello worldhello worldhello worldhello worldhello worldhello worldhelloorldhello worldhello worldhello worldhello worldhello worldhello worldhello worldhello worldhello wodhello worldhello worldhello worldhello worldhello worldhello worldhello worldhello worldhello world"
          ]
        }
      ]
    },
    {
      "cell_type": "code",
      "source": [
        "with open(\"big.txt\", \"r\") as f:\n",
        "\n",
        "  chunk_size= 10\n",
        "\n",
        "  while len(f.read(chunk_size)) > 0:\n",
        "    print(f.read(chunk_size), end='***')\n",
        "    f.read(chunk_size)"
      ],
      "metadata": {
        "colab": {
          "base_uri": "https://localhost:8080/"
        },
        "id": "bxfhmDifKhfT",
        "outputId": "8e4a7daa-35ce-4c4c-915b-922e3cdc2f11"
      },
      "execution_count": 23,
      "outputs": [
        {
          "output_type": "stream",
          "name": "stdout",
          "text": [
            "dhello wor***orldhello ***o worldhel***ello world***ldhello wo***worldhello***lo worldhe***hello worl***rldhello w*** worldhell***llo worldh***dhello wor***orldhello ***o worldhel***ello world***ldhello wo***worldhello***lo worldhe***hello worl***rldhello w*** worldhell***llo worldh***dhello wor***orldhello ***o worldhel***ello world***ldhello wo***worldhello***lo worldhe***hello worl***rldhello w*** worldhell***llo worldh***dhello wor***orldhello ***o worldhel***ello world***ldhello wo***worldhello***lo worldhe***hello worl***rldhello w*** worldhell***llo worldh***dhello wor***orldhello ***o worldhel***ello world***ldhello wo***worldhello***lo worldhe***hello worl***rldhello w*** worldhell***llo worldh***dhello wor***orldhello ***o worldhel***ello world***ldhello wo***worldhello***lo worldhe***hello worl***rldhello w*** worldhell***llo worldh***dhello wor***orldhello ***o worldhel***ello world***ldhello wo***worldhello***lo worldhe***hello worl***rldhello w*** worldhell***llo worldh***dhello wor***orldhello ***o worldhel***ello world***ldhello wo***worldhello***lo worldhe***hello worl***rldhello w*** worldhell***llo worldh***dhello wor***orldhello ***o worldhel***ello world***ldhello wo***worldhello***lo worldhe***hello worl***rldhello w*** worldhell***llo worldh***dhello wor***orldhello ***o worldhel***ello world***ldhello wo***worldhello***lo worldhe***hello worl***rldhello w*** worldhell***llo worldh***dhello wor***orldhello ***o worldhel***ello world***ldhello wo***worldhello***lo worldhe***hello worl***rldhello w*** worldhell***llo worldh***dhello wor***orldhello ***o worldhel***ello world***ldhello wo***worldhello***lo worldhe***hello worl***rldhello w*** worldhell***llo worldh***dhello wor***orldhello ***o worldhel***ello world***ldhello wo***worldhello***lo worldhe***hello worl***rldhello w*** worldhell***llo worldh***dhello wor***orldhello ***o worldhel***ello world***ldhello wo***worldhello***lo worldhe***hello worl***rldhello w*** worldhell***llo worldh***dhello wor***orldhello ***o worldhel***ello world***ldhello wo***worldhello***lo worldhe***hello worl***rldhello w*** worldhell***llo worldh***dhello wor***orldhello ***o worldhel***ello world***ldhello wo***worldhello***lo worldhe***hello worl***rldhello w*** worldhell***llo worldh***dhello wor***orldhello ***o worldhel***ello world***ldhello wo***worldhello***lo worldhe***hello worl***rldhello w*** worldhell***llo worldh***dhello wor***orldhello ***o worldhel***ello world***ldhello wo***worldhello***lo worldhe***hello worl***rldhello w*** worldhell***llo worldh***dhello wor***orldhello ***o worldhel***ello world***ldhello wo***worldhello***lo worldhe***hello worl***rldhello w*** worldhell***llo worldh***dhello wor***orldhello ***o worldhel***ello world***ldhello wo***worldhello***lo worldhe***hello worl***rldhello w*** worldhell***llo worldh***dhello wor***orldhello ***o worldhel***ello world***ldhello wo***worldhello***lo worldhe***hello worl***rldhello w*** worldhell***llo worldh***dhello wor***orldhello ***o worldhel***ello world***ldhello wo***worldhello***lo worldhe***hello worl***rldhello w*** worldhell***llo worldh***dhello wor***orldhello ***o worldhel***ello world***ldhello wo***worldhello***lo worldhe***hello worl***rldhello w*** worldhell***llo worldh***dhello wor***orldhello ***o worldhel***ello world***ldhello wo***worldhello***lo worldhe***hello worl***rldhello w*** worldhell***llo worldh***dhello wor***orldhello ***o worldhel***ello world***ldhello wo***worldhello***lo worldhe***hello worl***rldhello w*** worldhell***llo worldh***dhello wor***orldhello ***o worldhel***ello world***ldhello wo***worldhello***lo worldhe***hello worl***rldhello w*** worldhell***llo worldh***dhello wor***orldhello ***o worldhel***ello world***ldhello wo***worldhello***lo worldhe***hello worl***rldhello w*** worldhell***llo worldh***dhello wor***orldhello ***o worldhel***ello world***ldhello wo***worldhello***lo worldhe***hello worl***rldhello w*** worldhell***llo worldh***dhello wor***orldhello ***o worldhel***ello world***ldhello wo***worldhello***lo worldhe***hello worl***rldhello w*** worldhell***llo worldh***dhello wor***orldhello ***o worldhel***ello world***ldhello wo***worldhello***lo worldhe***hello worl***rldhello w*** worldhell***llo worldh***dhello wor***orldhello ***o worldhel***ello world***ldhello wo***worldhello***lo worldhe***hello worl***rldhello w*** worldhell***llo worldh***dhello wor***orldhello ***o worldhel***ello world***ldhello wo***worldhello***lo worldhe***hello worl***rldhello w*** worldhell***llo worldh***dhello wor***orldhello ***o worldhel***ello world***ldhello wo***worldhello***lo worldhe***hello worl***rldhello w*** worldhell***llo worldh***dhello wor***orldhello ***o worldhel***ello world***"
          ]
        }
      ]
    },
    {
      "cell_type": "code",
      "source": [
        "# seek and tell\n",
        "\n",
        "with open(\"/content/sample.txt\",\"r\") as f:\n",
        "  print(f.read(10))\n",
        "  print(f.tell())  #----> tell functions tells us where our cursor is pointing currently\n",
        "  f.seek(0)   # ---> seek function helps us to take our cursor at position where we want\n",
        "  print(f.read(10))"
      ],
      "metadata": {
        "colab": {
          "base_uri": "https://localhost:8080/"
        },
        "id": "pxlT800pIvKU",
        "outputId": "2c8cbaef-74c7-4dd2-eb1c-c3e49c90370b"
      },
      "execution_count": 24,
      "outputs": [
        {
          "output_type": "stream",
          "name": "stdout",
          "text": [
            "hi \n",
            "how ar\n",
            "10\n",
            "hi \n",
            "how ar\n"
          ]
        }
      ]
    },
    {
      "cell_type": "code",
      "source": [
        "with open(\"sample.txt\", \"r\") as f:\n",
        "  print(f.read(10))\n",
        "  print(f.tell())\n",
        "  f.seek(5)\n",
        "  print(f.read(10))\n",
        "  print(f.tell())"
      ],
      "metadata": {
        "colab": {
          "base_uri": "https://localhost:8080/"
        },
        "id": "L7sX0z8CLa-3",
        "outputId": "2ab4b0ed-eb38-4315-dfcb-6c942c7635ee"
      },
      "execution_count": 25,
      "outputs": [
        {
          "output_type": "stream",
          "name": "stdout",
          "text": [
            "hi \n",
            "how ar\n",
            "10\n",
            "ow are you\n",
            "15\n"
          ]
        }
      ]
    },
    {
      "cell_type": "code",
      "source": [
        "# seek during write mode\n",
        "\n",
        "with open(\"sample10\", \"w\") as f:\n",
        "  print(f.write(\"hello\"))\n",
        "  f.seek(0)\n",
        "  print(f.write(\"Xa\"))"
      ],
      "metadata": {
        "colab": {
          "base_uri": "https://localhost:8080/"
        },
        "id": "GASyQIZRMZuI",
        "outputId": "1a288ab0-a12a-408b-d630-a74b97cdebc4"
      },
      "execution_count": 26,
      "outputs": [
        {
          "output_type": "stream",
          "name": "stdout",
          "text": [
            "5\n",
            "2\n"
          ]
        }
      ]
    },
    {
      "cell_type": "markdown",
      "source": [
        "# Problems withworking in text mode\n",
        "\n",
        "### can't work with binary files like images\n",
        "### not good for other data types like int/float/list/tuples"
      ],
      "metadata": {
        "id": "j68bkB5ndWJF"
      }
    },
    {
      "cell_type": "code",
      "source": [
        "# working with binary files\n"
      ],
      "metadata": {
        "id": "74Wcyz6-NpAd"
      },
      "execution_count": 27,
      "outputs": []
    },
    {
      "cell_type": "code",
      "source": [
        "with open(\"/content/biru_photo.jpg\",\"r\") as f:\n",
        "  print(f.read())   # ---> here it searching for unicode character which are not present\n",
        "  # here we have binary files\n",
        ""
      ],
      "metadata": {
        "colab": {
          "base_uri": "https://localhost:8080/",
          "height": 304
        },
        "id": "E5dgJNOJf-ZQ",
        "outputId": "6b865242-c8ae-48e6-d828-f1fd5a85347b"
      },
      "execution_count": 28,
      "outputs": [
        {
          "output_type": "error",
          "ename": "UnicodeDecodeError",
          "evalue": "ignored",
          "traceback": [
            "\u001b[0;31m---------------------------------------------------------------------------\u001b[0m",
            "\u001b[0;31mUnicodeDecodeError\u001b[0m                        Traceback (most recent call last)",
            "\u001b[0;32m<ipython-input-28-9b810dedf71a>\u001b[0m in \u001b[0;36m<cell line: 1>\u001b[0;34m()\u001b[0m\n\u001b[1;32m      1\u001b[0m \u001b[0;32mwith\u001b[0m \u001b[0mopen\u001b[0m\u001b[0;34m(\u001b[0m\u001b[0;34m\"/content/biru_photo.jpg\"\u001b[0m\u001b[0;34m,\u001b[0m\u001b[0;34m\"r\"\u001b[0m\u001b[0;34m)\u001b[0m \u001b[0;32mas\u001b[0m \u001b[0mf\u001b[0m\u001b[0;34m:\u001b[0m\u001b[0;34m\u001b[0m\u001b[0;34m\u001b[0m\u001b[0m\n\u001b[0;32m----> 2\u001b[0;31m   \u001b[0mprint\u001b[0m\u001b[0;34m(\u001b[0m\u001b[0mf\u001b[0m\u001b[0;34m.\u001b[0m\u001b[0mread\u001b[0m\u001b[0;34m(\u001b[0m\u001b[0;34m)\u001b[0m\u001b[0;34m)\u001b[0m\u001b[0;34m\u001b[0m\u001b[0;34m\u001b[0m\u001b[0m\n\u001b[0m",
            "\u001b[0;32m/usr/lib/python3.10/codecs.py\u001b[0m in \u001b[0;36mdecode\u001b[0;34m(self, input, final)\u001b[0m\n\u001b[1;32m    320\u001b[0m         \u001b[0;31m# decode input (taking the buffer into account)\u001b[0m\u001b[0;34m\u001b[0m\u001b[0;34m\u001b[0m\u001b[0m\n\u001b[1;32m    321\u001b[0m         \u001b[0mdata\u001b[0m \u001b[0;34m=\u001b[0m \u001b[0mself\u001b[0m\u001b[0;34m.\u001b[0m\u001b[0mbuffer\u001b[0m \u001b[0;34m+\u001b[0m \u001b[0minput\u001b[0m\u001b[0;34m\u001b[0m\u001b[0;34m\u001b[0m\u001b[0m\n\u001b[0;32m--> 322\u001b[0;31m         \u001b[0;34m(\u001b[0m\u001b[0mresult\u001b[0m\u001b[0;34m,\u001b[0m \u001b[0mconsumed\u001b[0m\u001b[0;34m)\u001b[0m \u001b[0;34m=\u001b[0m \u001b[0mself\u001b[0m\u001b[0;34m.\u001b[0m\u001b[0m_buffer_decode\u001b[0m\u001b[0;34m(\u001b[0m\u001b[0mdata\u001b[0m\u001b[0;34m,\u001b[0m \u001b[0mself\u001b[0m\u001b[0;34m.\u001b[0m\u001b[0merrors\u001b[0m\u001b[0;34m,\u001b[0m \u001b[0mfinal\u001b[0m\u001b[0;34m)\u001b[0m\u001b[0;34m\u001b[0m\u001b[0;34m\u001b[0m\u001b[0m\n\u001b[0m\u001b[1;32m    323\u001b[0m         \u001b[0;31m# keep undecoded input until the next call\u001b[0m\u001b[0;34m\u001b[0m\u001b[0;34m\u001b[0m\u001b[0m\n\u001b[1;32m    324\u001b[0m         \u001b[0mself\u001b[0m\u001b[0;34m.\u001b[0m\u001b[0mbuffer\u001b[0m \u001b[0;34m=\u001b[0m \u001b[0mdata\u001b[0m\u001b[0;34m[\u001b[0m\u001b[0mconsumed\u001b[0m\u001b[0;34m:\u001b[0m\u001b[0;34m]\u001b[0m\u001b[0;34m\u001b[0m\u001b[0;34m\u001b[0m\u001b[0m\n",
            "\u001b[0;31mUnicodeDecodeError\u001b[0m: 'utf-8' codec can't decode byte 0xff in position 0: invalid start byte"
          ]
        }
      ]
    },
    {
      "cell_type": "code",
      "source": [
        "# working with bianry files\n",
        "with open(\"/content/biru_photo.jpg\",\"rb\") as f:   # rb--> read binary--used for reading the bianry file data\n",
        "  with open(\"biru_photo_copy.jpg\", \"wb\") as wf:   # wb--> write binary--used for writing data into bianry format then use wb mode\n",
        "    wf.write(f.read())"
      ],
      "metadata": {
        "id": "Ed49PbAHgQ9v"
      },
      "execution_count": 29,
      "outputs": []
    },
    {
      "cell_type": "code",
      "source": [
        "# working with a big binary file"
      ],
      "metadata": {
        "id": "tm2u6mnBgybp"
      },
      "execution_count": 30,
      "outputs": []
    },
    {
      "cell_type": "code",
      "source": [
        "# working with other data types\n",
        "\n",
        "with open(\"num.txt\", \"w\") as f:\n",
        "  f.write(5)"
      ],
      "metadata": {
        "colab": {
          "base_uri": "https://localhost:8080/",
          "height": 200
        },
        "id": "EQ2XiUxvho1E",
        "outputId": "64ea4650-9432-4e37-9529-7d715c4b0d70"
      },
      "execution_count": 31,
      "outputs": [
        {
          "output_type": "error",
          "ename": "TypeError",
          "evalue": "ignored",
          "traceback": [
            "\u001b[0;31m---------------------------------------------------------------------------\u001b[0m",
            "\u001b[0;31mTypeError\u001b[0m                                 Traceback (most recent call last)",
            "\u001b[0;32m<ipython-input-31-4af12a1f223c>\u001b[0m in \u001b[0;36m<cell line: 3>\u001b[0;34m()\u001b[0m\n\u001b[1;32m      2\u001b[0m \u001b[0;34m\u001b[0m\u001b[0m\n\u001b[1;32m      3\u001b[0m \u001b[0;32mwith\u001b[0m \u001b[0mopen\u001b[0m\u001b[0;34m(\u001b[0m\u001b[0;34m\"num.txt\"\u001b[0m\u001b[0;34m,\u001b[0m \u001b[0;34m\"w\"\u001b[0m\u001b[0;34m)\u001b[0m \u001b[0;32mas\u001b[0m \u001b[0mf\u001b[0m\u001b[0;34m:\u001b[0m\u001b[0;34m\u001b[0m\u001b[0;34m\u001b[0m\u001b[0m\n\u001b[0;32m----> 4\u001b[0;31m   \u001b[0mf\u001b[0m\u001b[0;34m.\u001b[0m\u001b[0mwrite\u001b[0m\u001b[0;34m(\u001b[0m\u001b[0;36m5\u001b[0m\u001b[0;34m)\u001b[0m\u001b[0;34m\u001b[0m\u001b[0;34m\u001b[0m\u001b[0m\n\u001b[0m",
            "\u001b[0;31mTypeError\u001b[0m: write() argument must be str, not int"
          ]
        }
      ]
    },
    {
      "cell_type": "code",
      "source": [
        "with open(\"num.txt\", \"w\") as f:\n",
        "  f.write('5')"
      ],
      "metadata": {
        "id": "BrpUTlsciOvG"
      },
      "execution_count": 32,
      "outputs": []
    },
    {
      "cell_type": "code",
      "source": [
        "with open(\"num.txt\", \"r\") as f:\n",
        "  print(f.read())"
      ],
      "metadata": {
        "colab": {
          "base_uri": "https://localhost:8080/"
        },
        "id": "Rxy2hvuqiYRe",
        "outputId": "1b7bd2d6-c141-490f-99bb-c7eb88521395"
      },
      "execution_count": 33,
      "outputs": [
        {
          "output_type": "stream",
          "name": "stdout",
          "text": [
            "5\n"
          ]
        }
      ]
    },
    {
      "cell_type": "code",
      "source": [
        "with open(\"num.txt\", \"r\") as f:\n",
        "  print(f.read() + 5)"
      ],
      "metadata": {
        "colab": {
          "base_uri": "https://localhost:8080/",
          "height": 182
        },
        "id": "o78xF7vYiiK9",
        "outputId": "2f9fb30d-c760-4bc0-b5ee-11ab5e64a1a1"
      },
      "execution_count": 34,
      "outputs": [
        {
          "output_type": "error",
          "ename": "TypeError",
          "evalue": "ignored",
          "traceback": [
            "\u001b[0;31m---------------------------------------------------------------------------\u001b[0m",
            "\u001b[0;31mTypeError\u001b[0m                                 Traceback (most recent call last)",
            "\u001b[0;32m<ipython-input-34-f3820557bf1e>\u001b[0m in \u001b[0;36m<cell line: 1>\u001b[0;34m()\u001b[0m\n\u001b[1;32m      1\u001b[0m \u001b[0;32mwith\u001b[0m \u001b[0mopen\u001b[0m\u001b[0;34m(\u001b[0m\u001b[0;34m\"num.txt\"\u001b[0m\u001b[0;34m,\u001b[0m \u001b[0;34m\"r\"\u001b[0m\u001b[0;34m)\u001b[0m \u001b[0;32mas\u001b[0m \u001b[0mf\u001b[0m\u001b[0;34m:\u001b[0m\u001b[0;34m\u001b[0m\u001b[0;34m\u001b[0m\u001b[0m\n\u001b[0;32m----> 2\u001b[0;31m   \u001b[0mprint\u001b[0m\u001b[0;34m(\u001b[0m\u001b[0mf\u001b[0m\u001b[0;34m.\u001b[0m\u001b[0mread\u001b[0m\u001b[0;34m(\u001b[0m\u001b[0;34m)\u001b[0m \u001b[0;34m+\u001b[0m \u001b[0;36m5\u001b[0m\u001b[0;34m)\u001b[0m\u001b[0;34m\u001b[0m\u001b[0;34m\u001b[0m\u001b[0m\n\u001b[0m",
            "\u001b[0;31mTypeError\u001b[0m: can only concatenate str (not \"int\") to str"
          ]
        }
      ]
    },
    {
      "cell_type": "code",
      "source": [
        "with open(\"num.txt\", \"r\") as f:\n",
        "  print(f.read() + str(5))  # --> concatenation of string done here"
      ],
      "metadata": {
        "colab": {
          "base_uri": "https://localhost:8080/"
        },
        "id": "ZJnpZocHimcb",
        "outputId": "df297983-09df-4183-b914-699293933aad"
      },
      "execution_count": 35,
      "outputs": [
        {
          "output_type": "stream",
          "name": "stdout",
          "text": [
            "55\n"
          ]
        }
      ]
    },
    {
      "cell_type": "code",
      "source": [
        "with open(\"num.txt\", \"r\") as f:\n",
        "  print(int(f.read()) + 5)  # after type conversion we are able add two numbrs\n",
        ""
      ],
      "metadata": {
        "colab": {
          "base_uri": "https://localhost:8080/"
        },
        "id": "-8BInuuQisPK",
        "outputId": "0b2b445c-19f7-4e26-dd17-e4ea5720b1ce"
      },
      "execution_count": 37,
      "outputs": [
        {
          "output_type": "stream",
          "name": "stdout",
          "text": [
            "10\n"
          ]
        }
      ]
    },
    {
      "cell_type": "code",
      "source": [
        "# working with dictionary type data type\n",
        "d = {\n",
        "    \"Name\":\"Biru\",\n",
        "    \"Profession\":\"Data Scientist\",\n",
        "    \"Age\":25\n",
        "}\n",
        "\n",
        "\n",
        "with open(\"sample.txt\",\"w\") as f:\n",
        "  f.write(d)   # here we are able write only string type of data not any other type of data"
      ],
      "metadata": {
        "colab": {
          "base_uri": "https://localhost:8080/",
          "height": 200
        },
        "id": "7JlWG6n2i26L",
        "outputId": "1a6a9b96-71c8-47ec-dc8e-898ceeb80c05"
      },
      "execution_count": 38,
      "outputs": [
        {
          "output_type": "error",
          "ename": "TypeError",
          "evalue": "ignored",
          "traceback": [
            "\u001b[0;31m---------------------------------------------------------------------------\u001b[0m",
            "\u001b[0;31mTypeError\u001b[0m                                 Traceback (most recent call last)",
            "\u001b[0;32m<ipython-input-38-0abe07ddf4fd>\u001b[0m in \u001b[0;36m<cell line: 9>\u001b[0;34m()\u001b[0m\n\u001b[1;32m      8\u001b[0m \u001b[0;34m\u001b[0m\u001b[0m\n\u001b[1;32m      9\u001b[0m \u001b[0;32mwith\u001b[0m \u001b[0mopen\u001b[0m\u001b[0;34m(\u001b[0m\u001b[0;34m\"sample.txt\"\u001b[0m\u001b[0;34m,\u001b[0m\u001b[0;34m\"w\"\u001b[0m\u001b[0;34m)\u001b[0m \u001b[0;32mas\u001b[0m \u001b[0mf\u001b[0m\u001b[0;34m:\u001b[0m\u001b[0;34m\u001b[0m\u001b[0;34m\u001b[0m\u001b[0m\n\u001b[0;32m---> 10\u001b[0;31m   \u001b[0mf\u001b[0m\u001b[0;34m.\u001b[0m\u001b[0mwrite\u001b[0m\u001b[0;34m(\u001b[0m\u001b[0md\u001b[0m\u001b[0;34m)\u001b[0m\u001b[0;34m\u001b[0m\u001b[0;34m\u001b[0m\u001b[0m\n\u001b[0m",
            "\u001b[0;31mTypeError\u001b[0m: write() argument must be str, not dict"
          ]
        }
      ]
    },
    {
      "cell_type": "code",
      "source": [
        "# type conversion will help\n",
        "d = {\n",
        "    \"Name\":\"Biru\",\n",
        "    \"Profession\":\"Data Scientist\",\n",
        "    \"Age\":25\n",
        "}\n",
        "\n",
        "\n",
        "with open(\"sample.txt\",\"w\") as f:\n",
        "  f.write(str(d))  # here we are able converted the type of dictionary string"
      ],
      "metadata": {
        "id": "jEaQt8a1kDWD"
      },
      "execution_count": 39,
      "outputs": []
    },
    {
      "cell_type": "code",
      "source": [
        "#reading the sample data\n",
        "with open(\"sample.txt\", \"r\") as f:\n",
        "  print(f.read())\n",
        "  print(type(f.read())) # if want to perform dictionary operation on it will not able to do that"
      ],
      "metadata": {
        "colab": {
          "base_uri": "https://localhost:8080/"
        },
        "id": "YGS7uQpOkcoz",
        "outputId": "1f6dcb50-cb93-48eb-e876-ccbb94270242"
      },
      "execution_count": 41,
      "outputs": [
        {
          "output_type": "stream",
          "name": "stdout",
          "text": [
            "{'Name': 'Biru', 'Profession': 'Data Scientist', 'Age': 25}\n",
            "<class 'str'>\n"
          ]
        }
      ]
    },
    {
      "cell_type": "markdown",
      "source": [
        "# Serialisation and Deserialisation\n",
        "\n",
        "\n",
        "*   **Serialisation** : Process of converting python data types to json format\n",
        "*   **Deserialisation** : Process of converting json to python data types\n",
        "\n"
      ],
      "metadata": {
        "id": "KnPKwwAik13y"
      }
    },
    {
      "cell_type": "code",
      "source": [
        "# JSON-- java script on notation--> universally data format"
      ],
      "metadata": {
        "id": "O16ycqbYknxA"
      },
      "execution_count": 42,
      "outputs": []
    },
    {
      "cell_type": "code",
      "source": [
        "#\n",
        "L = [1,2,3,4,5,6,7]\n",
        "\n",
        "import json\n",
        "\n",
        "with open(\"demo.josn\", \"w\") as f:\n",
        "  json.dump(L,f)"
      ],
      "metadata": {
        "id": "tEW-jcapl3E1"
      },
      "execution_count": 43,
      "outputs": []
    },
    {
      "cell_type": "code",
      "source": [
        "# handling dictionary data types\n",
        "d = {\n",
        "    \"Name\":\"Biru\",\n",
        "    \"Profession\":\"Data Scientist\",\n",
        "    \"Age\":25\n",
        "}\n",
        "\n",
        "with open(\"demo.json\", \"w\") as f:\n",
        "  json.dump(d,f, indent=4)  # indent is used for better reprsentation > 4 beacuase when use tab it gives four spaces"
      ],
      "metadata": {
        "id": "m5eTY7gMm86C"
      },
      "execution_count": 59,
      "outputs": []
    },
    {
      "cell_type": "code",
      "source": [
        "with open(\"demo.json\", \"r\") as f:\n",
        "  print(f.read())\n",
        "  print(type(f.read()))"
      ],
      "metadata": {
        "colab": {
          "base_uri": "https://localhost:8080/"
        },
        "id": "QVQ943MnnRBa",
        "outputId": "5863d74f-a728-410f-d946-922ec2d37f3d"
      },
      "execution_count": 60,
      "outputs": [
        {
          "output_type": "stream",
          "name": "stdout",
          "text": [
            "{\n",
            "    \"Name\": \"Biru\",\n",
            "    \"Profession\": \"Data Scientist\",\n",
            "    \"Age\": 25\n",
            "}\n",
            "<class 'str'>\n"
          ]
        }
      ]
    },
    {
      "cell_type": "code",
      "source": [
        "# Deserialisation\n",
        "d = {\n",
        "    \"Name\":\"Biru\",\n",
        "    \"Profession\":\"Data Scientist\",\n",
        "    \"Age\":25\n",
        "}\n",
        "\n",
        "import json\n",
        "\n",
        "\n",
        "with open(\"demo.json\", \"r\") as f:\n",
        "  d = json.load(f)\n",
        "  print(d)\n",
        "  print(type(d))  # converted back to python data type"
      ],
      "metadata": {
        "colab": {
          "base_uri": "https://localhost:8080/"
        },
        "id": "4Sz51I91nwjp",
        "outputId": "41c1853b-e64f-4db8-dc66-942f8832d313"
      },
      "execution_count": 63,
      "outputs": [
        {
          "output_type": "stream",
          "name": "stdout",
          "text": [
            "{'Name': 'Biru', 'Profession': 'Data Scientist', 'Age': 25}\n",
            "<class 'dict'>\n"
          ]
        }
      ]
    },
    {
      "cell_type": "code",
      "source": [
        "# serialize and deserialize tuple\n"
      ],
      "metadata": {
        "id": "yTPaqyuXpczE"
      },
      "execution_count": 64,
      "outputs": []
    },
    {
      "cell_type": "code",
      "source": [
        "\"\"\"dump is used to write Python objects as JSON data to a file, while load is used to\n",
        " read JSON data from a file and convert it back into Python objects.\n",
        " These functions are complementary and allow you to work with JSON data in Python easily.\"\"\""
      ],
      "metadata": {
        "colab": {
          "base_uri": "https://localhost:8080/",
          "height": 53
        },
        "id": "HDOGueMIuXpx",
        "outputId": "d555b03f-fd01-4335-bc52-071376d626b8"
      },
      "execution_count": 65,
      "outputs": [
        {
          "output_type": "execute_result",
          "data": {
            "text/plain": [
              "'dump is used to write Python objects as JSON data to a file, while load is used to\\n read JSON data from a file and convert it back into Python objects. \\n These functions are complementary and allow you to work with JSON data in Python easily.'"
            ],
            "application/vnd.google.colaboratory.intrinsic+json": {
              "type": "string"
            }
          },
          "metadata": {},
          "execution_count": 65
        }
      ]
    },
    {
      "cell_type": "code",
      "source": [
        "m = {\n",
        "    \"Name\" : \"Biru\",\n",
        "    \"Marks\": [43,45,67,5]\n",
        "}\n",
        "\n",
        "with open(\"demo1.json\", \"w\") as f:\n",
        "  json.dump(m,f)\n",
        "  #print(type(json.dump(m,f)))"
      ],
      "metadata": {
        "id": "_EbxBi36ugoB"
      },
      "execution_count": 73,
      "outputs": []
    },
    {
      "cell_type": "code",
      "source": [
        "with open(\"demo1.json\", \"r\") as f:\n",
        "  d = json.load(f)\n",
        "  print(d)\n",
        "  print(type(d))"
      ],
      "metadata": {
        "colab": {
          "base_uri": "https://localhost:8080/"
        },
        "id": "nM7Y66RXvvvI",
        "outputId": "23944572-a678-4112-8e0e-b6d04e2b0a45"
      },
      "execution_count": 75,
      "outputs": [
        {
          "output_type": "stream",
          "name": "stdout",
          "text": [
            "{'Name': 'Biru', 'Marks': [43, 45, 67, 5]}\n",
            "<class 'dict'>\n"
          ]
        }
      ]
    },
    {
      "cell_type": "code",
      "source": [
        "# working with custom object\n",
        "\n",
        "class Person:\n",
        "\n",
        "  def __init__(self, fname, lname, age, gender):\n",
        "    self.fname = fname\n",
        "    self.lname = lname\n",
        "    self.age = age\n",
        "    self.gender = gender"
      ],
      "metadata": {
        "id": "4PsyPXzFwRN1"
      },
      "execution_count": 76,
      "outputs": []
    },
    {
      "cell_type": "code",
      "source": [
        "person = Person('Biru', 'Solankar', 25, 'Male')"
      ],
      "metadata": {
        "id": "XoVRQ_pQyvWE"
      },
      "execution_count": 77,
      "outputs": []
    },
    {
      "cell_type": "code",
      "source": [],
      "metadata": {
        "id": "4Z1jRMbYy2Zr"
      },
      "execution_count": 79,
      "outputs": []
    },
    {
      "cell_type": "code",
      "source": [
        "# As a string\n",
        "import json\n",
        "\n",
        "def show_object(person):\n",
        "  if isinstance(person,Person):\n",
        "    return \"{} {} age--> {} gender --> {}\".format(person.fname, person.lname, person.age, person.gender)\n",
        "\n",
        "\n",
        "with open(\"demo.json\", \"w\") as f:\n",
        "  json.dump(person,f, default=show_object)"
      ],
      "metadata": {
        "id": "MP7eXus4y5Nc"
      },
      "execution_count": 82,
      "outputs": []
    },
    {
      "cell_type": "code",
      "source": [
        "# As a dict\n",
        "import json\n",
        "\n",
        "def show_object(person):\n",
        "  if isinstance(person,Person):\n",
        "    return {'name':person.fname + ' ' + person.lname, 'age':25, 'gender':'male'}\n",
        "\n",
        "\n",
        "with open(\"demo.json\", \"w\") as f:\n",
        "  json.dump(person,f, default=show_object, indent=4)"
      ],
      "metadata": {
        "id": "MMPh-CN6zEm5"
      },
      "execution_count": 84,
      "outputs": []
    },
    {
      "cell_type": "code",
      "source": [],
      "metadata": {
        "id": "66tUHffw09iZ"
      },
      "execution_count": null,
      "outputs": []
    }
  ]
}