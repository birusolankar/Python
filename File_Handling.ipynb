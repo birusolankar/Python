{
  "nbformat": 4,
  "nbformat_minor": 0,
  "metadata": {
    "colab": {
      "provenance": [],
      "authorship_tag": "ABX9TyOSvJa9k8nbz8kuFoIpnOBg",
      "include_colab_link": true
    },
    "kernelspec": {
      "name": "python3",
      "display_name": "Python 3"
    },
    "language_info": {
      "name": "python"
    }
  },
  "cells": [
    {
      "cell_type": "markdown",
      "metadata": {
        "id": "view-in-github",
        "colab_type": "text"
      },
      "source": [
        "<a href=\"https://colab.research.google.com/github/birusolankar/Python/blob/main/File_Handling.ipynb\" target=\"_parent\"><img src=\"https://colab.research.google.com/assets/colab-badge.svg\" alt=\"Open In Colab\"/></a>"
      ]
    },
    {
      "cell_type": "markdown",
      "source": [
        "# Writing a file"
      ],
      "metadata": {
        "id": "QMvf0Xu47q_Z"
      }
    },
    {
      "cell_type": "code",
      "execution_count": null,
      "metadata": {
        "id": "5wHxJmuVztos"
      },
      "outputs": [],
      "source": [
        "# case--1 when file is not present\n",
        "\n",
        "f = open(\"sample.txt\", \"w\")\n",
        "f.write(\"hello world\")\n",
        "f.close()"
      ]
    },
    {
      "cell_type": "code",
      "source": [
        "# when file is closed and if we tried write into the file it will throw an error\n",
        "# it givees value error--> i/o operation on closed file\n",
        "f.write(\"how are you\")"
      ],
      "metadata": {
        "colab": {
          "base_uri": "https://localhost:8080/",
          "height": 217
        },
        "id": "thLjqdJf4Zdo",
        "outputId": "134439f3-ba1f-4d32-b089-997ab1af5b0c"
      },
      "execution_count": null,
      "outputs": [
        {
          "output_type": "error",
          "ename": "ValueError",
          "evalue": "ignored",
          "traceback": [
            "\u001b[0;31m---------------------------------------------------------------------------\u001b[0m",
            "\u001b[0;31mValueError\u001b[0m                                Traceback (most recent call last)",
            "\u001b[0;32m<ipython-input-2-9009ace40417>\u001b[0m in \u001b[0;36m<cell line: 3>\u001b[0;34m()\u001b[0m\n\u001b[1;32m      1\u001b[0m \u001b[0;31m# when file is closed and if we tried write into the file it will throw an error\u001b[0m\u001b[0;34m\u001b[0m\u001b[0;34m\u001b[0m\u001b[0m\n\u001b[1;32m      2\u001b[0m \u001b[0;34m\u001b[0m\u001b[0m\n\u001b[0;32m----> 3\u001b[0;31m \u001b[0mf\u001b[0m\u001b[0;34m.\u001b[0m\u001b[0mwrite\u001b[0m\u001b[0;34m(\u001b[0m\u001b[0;34m\"how are you\"\u001b[0m\u001b[0;34m)\u001b[0m\u001b[0;34m\u001b[0m\u001b[0;34m\u001b[0m\u001b[0m\n\u001b[0m",
            "\u001b[0;31mValueError\u001b[0m: I/O operation on closed file."
          ]
        }
      ]
    },
    {
      "cell_type": "code",
      "source": [
        "# writting multiple string\n",
        "f = open(\"sample1.txt\", \"w\")\n",
        "f.write(\"hi\")\n",
        "f.write(\"\\nhow are you\")\n",
        "f.close()"
      ],
      "metadata": {
        "id": "KeG0B8B_4uAg"
      },
      "execution_count": null,
      "outputs": []
    },
    {
      "cell_type": "code",
      "source": [
        "# case-2 if the file is already present\n",
        "f = open(\"/content/sample1.txt\", \"w\")\n",
        "f.write(\"hello world\")\n",
        "f.write(\"\\nhow are ypu\")\n",
        "f.write(\"\\ni hope you are doing well\")\n",
        "f.close()"
      ],
      "metadata": {
        "id": "_ww-3rDX5M_4"
      },
      "execution_count": null,
      "outputs": []
    },
    {
      "cell_type": "code",
      "source": [
        "# problem with w mode --> in w mode earlier data will get deleted and only new data get added\n",
        "# introducing append mode--> this method is used to add to an existing data without disturbing existing data\n",
        "\n",
        "f = open(\"/content/sample1.txt\", \"a\")\n",
        "f.write(\"\\nI am a data science enthusiast\")\n",
        "f.close()"
      ],
      "metadata": {
        "id": "RoYHDIbQ52dF"
      },
      "execution_count": null,
      "outputs": []
    },
    {
      "cell_type": "code",
      "source": [
        "# write lines\n",
        "L = [\"hi\", \"\\nAmar\", \"\\nhow you have been doing\", \"\\nI am doing well\", \"\\nI am fine\"]\n",
        "\n",
        "f = open(\"/content/sample1.txt\", \"w\")\n",
        "f.writelines(L)\n",
        "f.close()"
      ],
      "metadata": {
        "id": "mOhY_hKm6i-X"
      },
      "execution_count": null,
      "outputs": []
    },
    {
      "cell_type": "markdown",
      "source": [
        "# Reading from a file"
      ],
      "metadata": {
        "id": "K-OE-vrq7ykB"
      }
    },
    {
      "cell_type": "code",
      "source": [
        "# read() function\n",
        "\n",
        "f = open(\"/content/sample1.txt\", \"r\")\n",
        "s = f.read()\n",
        "print(s)\n",
        "f.close()"
      ],
      "metadata": {
        "colab": {
          "base_uri": "https://localhost:8080/"
        },
        "id": "E0ACKiH87DHq",
        "outputId": "5f5e661c-1d4e-49bd-dfe4-6a808e8afb87"
      },
      "execution_count": null,
      "outputs": [
        {
          "output_type": "stream",
          "name": "stdout",
          "text": [
            "hi\n",
            "Amar\n",
            "how you have been doing\n",
            "I am doing well\n",
            "I am fine\n"
          ]
        }
      ]
    },
    {
      "cell_type": "code",
      "source": [
        "# reading upto n characters\n",
        "f = open(\"/content/sample1.txt\", \"r\")\n",
        "s = f.read(15)\n",
        "print(s)\n",
        "f.close()"
      ],
      "metadata": {
        "colab": {
          "base_uri": "https://localhost:8080/"
        },
        "id": "bQKxccpb8ERP",
        "outputId": "3a032fdc-fceb-4b43-c9fd-7c4496065920"
      },
      "execution_count": null,
      "outputs": [
        {
          "output_type": "stream",
          "name": "stdout",
          "text": [
            "hi\n",
            "Amar\n",
            "how you\n"
          ]
        }
      ]
    },
    {
      "cell_type": "code",
      "source": [
        "# readline()---> used for reading line by line\n",
        "# when we want to read line by line data without loading all the data in file\n",
        "f = open(\"/content/sample1.txt\", \"r\")\n",
        "print(f.readline(), end='')\n",
        "print(f.readline(),end='')\n",
        "f.close()"
      ],
      "metadata": {
        "colab": {
          "base_uri": "https://localhost:8080/"
        },
        "id": "lJ5Ce2288wy8",
        "outputId": "362230ee-1a31-4ab0-d659-265a27753988"
      },
      "execution_count": null,
      "outputs": [
        {
          "output_type": "stream",
          "name": "stdout",
          "text": [
            "hi\n",
            "Amar\n"
          ]
        }
      ]
    },
    {
      "cell_type": "code",
      "source": [
        "# reading entire data using readline()\n",
        "\n",
        "f = open(\"/content/sample1.txt\", \"r\")\n",
        "\n",
        "while True:\n",
        "\n",
        "  data = f.readline()\n",
        "\n",
        "  if data == '':\n",
        "    break\n",
        "  else:\n",
        "    print(data, end='')"
      ],
      "metadata": {
        "colab": {
          "base_uri": "https://localhost:8080/"
        },
        "id": "3DpoBtzA9FhQ",
        "outputId": "2472f188-e2a0-4bfa-f80f-8fb469caf07d"
      },
      "execution_count": null,
      "outputs": [
        {
          "output_type": "stream",
          "name": "stdout",
          "text": [
            "hi\n",
            "Amar\n",
            "how you have been doing\n",
            "I am doing well\n",
            "I am fine"
          ]
        }
      ]
    },
    {
      "cell_type": "code",
      "source": [
        "f = open(\"/content/sample1.txt\", \"r\")\n",
        "s = f.read()\n",
        "print(s)\n",
        "f.close()"
      ],
      "metadata": {
        "colab": {
          "base_uri": "https://localhost:8080/"
        },
        "id": "ACfnDDRG9j2G",
        "outputId": "1b7b654d-50b3-4e48-e9bc-6e360bb36d85"
      },
      "execution_count": null,
      "outputs": [
        {
          "output_type": "stream",
          "name": "stdout",
          "text": [
            "hi\n",
            "Amar\n",
            "how you have been doing\n",
            "I am doing well\n",
            "I am fine\n"
          ]
        }
      ]
    },
    {
      "cell_type": "markdown",
      "source": [
        "# Using contxt manager(with)\n",
        "\n",
        "\n",
        "*  It's a good idea to close a file after usage as it will free up the resources\n",
        "\n",
        "* If we dont close it, garbage collector would close it\n",
        "\n",
        "\n",
        "* with keyword closes the file as soon as the usage is over\n",
        "\n",
        "\n",
        "\n",
        "\n"
      ],
      "metadata": {
        "id": "3vRxDGXVDOUA"
      }
    },
    {
      "cell_type": "code",
      "source": [
        "with open(\"/content/sample1.txt\", \"w\") as f:\n",
        "  print(f.write(\"hello world\"))"
      ],
      "metadata": {
        "colab": {
          "base_uri": "https://localhost:8080/"
        },
        "id": "7B0XF5kQ_PA1",
        "outputId": "c4a0328a-29a6-4248-ba9a-3a7e8f7d36fb"
      },
      "execution_count": null,
      "outputs": [
        {
          "output_type": "stream",
          "name": "stdout",
          "text": [
            "11\n"
          ]
        }
      ]
    },
    {
      "cell_type": "code",
      "source": [
        "f.write(\"hi\") # when we use with keyword after end usage it closes the automatically"
      ],
      "metadata": {
        "colab": {
          "base_uri": "https://localhost:8080/",
          "height": 165
        },
        "id": "_cuOOGskD0GS",
        "outputId": "de640e52-2309-43c4-c0c6-97ea2314bff7"
      },
      "execution_count": null,
      "outputs": [
        {
          "output_type": "error",
          "ename": "ValueError",
          "evalue": "ignored",
          "traceback": [
            "\u001b[0;31m---------------------------------------------------------------------------\u001b[0m",
            "\u001b[0;31mValueError\u001b[0m                                Traceback (most recent call last)",
            "\u001b[0;32m<ipython-input-20-6ce7c6e37abc>\u001b[0m in \u001b[0;36m<cell line: 1>\u001b[0;34m()\u001b[0m\n\u001b[0;32m----> 1\u001b[0;31m \u001b[0mf\u001b[0m\u001b[0;34m.\u001b[0m\u001b[0mwrite\u001b[0m\u001b[0;34m(\u001b[0m\u001b[0;34m\"hi\"\u001b[0m\u001b[0;34m)\u001b[0m\u001b[0;34m\u001b[0m\u001b[0;34m\u001b[0m\u001b[0m\n\u001b[0m",
            "\u001b[0;31mValueError\u001b[0m: I/O operation on closed file."
          ]
        }
      ]
    },
    {
      "cell_type": "code",
      "source": [
        "# read mode using with keyword\n",
        "\n",
        "with open(\"/content/sample1.txt\",\"r\") as f:\n",
        "  print(f.read())"
      ],
      "metadata": {
        "colab": {
          "base_uri": "https://localhost:8080/"
        },
        "id": "vqhmNYuREH0E",
        "outputId": "a3f752d2-7d60-4acc-be93-98f53a545444"
      },
      "execution_count": null,
      "outputs": [
        {
          "output_type": "stream",
          "name": "stdout",
          "text": [
            "hello world\n"
          ]
        }
      ]
    },
    {
      "cell_type": "code",
      "source": [],
      "metadata": {
        "id": "46ox_5SzEcQd"
      },
      "execution_count": null,
      "outputs": []
    }
  ]
}