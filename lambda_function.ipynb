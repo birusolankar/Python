{
  "nbformat": 4,
  "nbformat_minor": 0,
  "metadata": {
    "colab": {
      "provenance": [],
      "authorship_tag": "ABX9TyPKY1V9VUrSjwFfd9E2jmy5",
      "include_colab_link": true
    },
    "kernelspec": {
      "name": "python3",
      "display_name": "Python 3"
    },
    "language_info": {
      "name": "python"
    }
  },
  "cells": [
    {
      "cell_type": "markdown",
      "metadata": {
        "id": "view-in-github",
        "colab_type": "text"
      },
      "source": [
        "<a href=\"https://colab.research.google.com/github/birusolankar/Python/blob/main/lambda_function.ipynb\" target=\"_parent\"><img src=\"https://colab.research.google.com/assets/colab-badge.svg\" alt=\"Open In Colab\"/></a>"
      ]
    },
    {
      "cell_type": "code",
      "execution_count": 37,
      "metadata": {
        "colab": {
          "base_uri": "https://localhost:8080/"
        },
        "id": "fjgjOz-FSHdw",
        "outputId": "ee3ebce0-3f4f-4200-9a7b-1e48b168e374"
      },
      "outputs": [
        {
          "output_type": "stream",
          "name": "stdout",
          "text": [
            "Enter your name: Biru Solankar\n",
            "Enter the number: 21\n",
            "Biru\n"
          ]
        }
      ],
      "source": [
        "name = input(\"Enter your name: \")\n",
        "list_of_name = name.split()\n",
        "num = int(input(\"Enter the number: \"))\n",
        "if num % 3 == 0 and num % 5 !=0:\n",
        "  print(list_of_name[0])\n",
        "elif num % 3 != 0 and num % 5 ==0:\n",
        "  print(list_of_name[1])\n",
        "elif num % 3 == 0 and num % 5 ==0:\n",
        "  (print(list_of_name[0:]))\n",
        "else:\n",
        "  print(\"num is not divisible\")"
      ]
    },
    {
      "cell_type": "code",
      "source": [
        "x = lambda x : x**2\n",
        "x(10)"
      ],
      "metadata": {
        "id": "Q9bD3qnSTyoS",
        "colab": {
          "base_uri": "https://localhost:8080/"
        },
        "outputId": "07d98490-6b05-4c01-b875-c37a08ea37e9"
      },
      "execution_count": 38,
      "outputs": [
        {
          "output_type": "execute_result",
          "data": {
            "text/plain": [
              "100"
            ]
          },
          "metadata": {},
          "execution_count": 38
        }
      ]
    },
    {
      "cell_type": "code",
      "source": [
        "a = lambda x,y : x+y\n",
        "a(4,8)"
      ],
      "metadata": {
        "colab": {
          "base_uri": "https://localhost:8080/"
        },
        "id": "kI467g3nTveA",
        "outputId": "06239c3e-fdce-4229-e353-3f73e6973d36"
      },
      "execution_count": 39,
      "outputs": [
        {
          "output_type": "execute_result",
          "data": {
            "text/plain": [
              "12"
            ]
          },
          "metadata": {},
          "execution_count": 39
        }
      ]
    },
    {
      "cell_type": "code",
      "source": [
        "# lambda has no return value\n",
        "# it is written in one line\n",
        "# Not used for code reusabilty\n",
        "# they dont have name like normal function\n",
        "\n",
        "\n",
        "\n",
        "# they are typically used with higher order function"
      ],
      "metadata": {
        "id": "ma56LHdeUEW9"
      },
      "execution_count": 40,
      "outputs": []
    },
    {
      "cell_type": "code",
      "source": [
        "# lets check whether first letter of a string contains a or not by using lambda function\n",
        "\n",
        "fun = lambda x: x[0] == 'a'\n",
        "fun(\"apple\")"
      ],
      "metadata": {
        "colab": {
          "base_uri": "https://localhost:8080/"
        },
        "id": "b8YRjpV2UoJq",
        "outputId": "0fb26297-1713-4439-f2d8-f36b69e5c9f9"
      },
      "execution_count": 41,
      "outputs": [
        {
          "output_type": "execute_result",
          "data": {
            "text/plain": [
              "True"
            ]
          },
          "metadata": {},
          "execution_count": 41
        }
      ]
    },
    {
      "cell_type": "code",
      "source": [
        "fun(\"banana\")"
      ],
      "metadata": {
        "colab": {
          "base_uri": "https://localhost:8080/"
        },
        "id": "RksLWzQCVBin",
        "outputId": "052e1401-794e-45f0-8c88-c68c46b5e2cf"
      },
      "execution_count": 42,
      "outputs": [
        {
          "output_type": "execute_result",
          "data": {
            "text/plain": [
              "False"
            ]
          },
          "metadata": {},
          "execution_count": 42
        }
      ]
    },
    {
      "cell_type": "code",
      "source": [
        "# lets check given number odd or even by using lamabda function\n",
        "\n",
        "odd_even = lambda x: \"Even\" if x%2 == 0 else \"odd\"\n",
        "odd_even(5)"
      ],
      "metadata": {
        "colab": {
          "base_uri": "https://localhost:8080/",
          "height": 36
        },
        "id": "AjY98R_DVEDY",
        "outputId": "b8fbc9d1-6bc9-446e-f379-afe0074e0ec0"
      },
      "execution_count": 43,
      "outputs": [
        {
          "output_type": "execute_result",
          "data": {
            "text/plain": [
              "'odd'"
            ],
            "application/vnd.google.colaboratory.intrinsic+json": {
              "type": "string"
            }
          },
          "metadata": {},
          "execution_count": 43
        }
      ]
    },
    {
      "cell_type": "code",
      "source": [
        "odd_even(10)"
      ],
      "metadata": {
        "colab": {
          "base_uri": "https://localhost:8080/",
          "height": 36
        },
        "id": "txJHOuD_Va3C",
        "outputId": "a2b900b5-a7f1-44f7-cd64-d9070c9f30bf"
      },
      "execution_count": 44,
      "outputs": [
        {
          "output_type": "execute_result",
          "data": {
            "text/plain": [
              "'Even'"
            ],
            "application/vnd.google.colaboratory.intrinsic+json": {
              "type": "string"
            }
          },
          "metadata": {},
          "execution_count": 44
        }
      ]
    },
    {
      "cell_type": "code",
      "source": [
        "def return_sum(L):\n",
        "\n",
        "  even_numbers = []\n",
        "  odd_numbers = []\n",
        "  div3_numbers = []\n",
        "\n",
        "  even_sum = 0\n",
        "  odd_sum = 0\n",
        "  div3_sum = 0\n",
        "\n",
        "  for i in L:\n",
        "    # even numbers sum\n",
        "    if i%2 == 0:\n",
        "      even_numbers.append(i)\n",
        "      even_sum = even_sum + i\n",
        "      #print(even_sum)\n",
        "\n",
        "    # odd numbers sum\n",
        "    elif i%2 != 0:\n",
        "      odd_numbers.append(i)\n",
        "      odd_sum = odd_sum + i\n",
        "      #print(odd_sum)\n",
        "\n",
        "    # numbers divisible by 3 sum\n",
        "    if i%3 == 0:\n",
        "      div3_numbers.append(i)\n",
        "      div3_sum = div3_sum + i\n",
        "      #print(div3_sum)\n",
        "\n",
        "\n",
        "  return (even_numbers, even_sum, odd_numbers, odd_sum, div3_numbers, div3_sum)\n",
        "\n",
        "\n"
      ],
      "metadata": {
        "id": "tuOTMYhFWD1G"
      },
      "execution_count": 45,
      "outputs": []
    },
    {
      "cell_type": "code",
      "source": [
        "L = [11,23,34,55,12,33,22,20]\n",
        "return_sum(L)"
      ],
      "metadata": {
        "colab": {
          "base_uri": "https://localhost:8080/"
        },
        "id": "ETGIgA9UXOw_",
        "outputId": "af1b15b3-484d-4db9-e9ac-e6f637c8c050"
      },
      "execution_count": 46,
      "outputs": [
        {
          "output_type": "execute_result",
          "data": {
            "text/plain": [
              "([34, 12, 22, 20], 88, [11, 23, 55, 33], 122, [12, 33], 45)"
            ]
          },
          "metadata": {},
          "execution_count": 46
        }
      ]
    },
    {
      "cell_type": "code",
      "source": [
        "# Higher order functions--> functions takes another function as input"
      ],
      "metadata": {
        "id": "qk0z5tjLVdew"
      },
      "execution_count": 47,
      "outputs": []
    },
    {
      "cell_type": "code",
      "source": [
        "def return_sum1(fun, l):\n",
        "\n",
        "  result = 0\n",
        "\n",
        "  for i in l:\n",
        "\n",
        "    if fun(i):\n",
        "      result = result + i\n",
        "\n",
        "  return result"
      ],
      "metadata": {
        "id": "YzrUaTfdWCRA"
      },
      "execution_count": 48,
      "outputs": []
    },
    {
      "cell_type": "code",
      "source": [
        "even_sum = lambda x: x%2 == 0\n",
        "odd_sum = lambda y: y%2 != 0\n",
        "div3_sum = lambda z: z%3 ==0\n",
        "\n"
      ],
      "metadata": {
        "id": "85tmaumniRrQ"
      },
      "execution_count": 49,
      "outputs": []
    },
    {
      "cell_type": "code",
      "source": [],
      "metadata": {
        "id": "ut3a00ORj52_"
      },
      "execution_count": 49,
      "outputs": []
    },
    {
      "cell_type": "code",
      "source": [
        "l = [11,23,34,55,12,33,22,20]\n",
        "\n",
        "print(return_sum1(even_sum,l))\n",
        "print(return_sum1(odd_sum,l))\n",
        "print(return_sum1(div3_sum,l))"
      ],
      "metadata": {
        "colab": {
          "base_uri": "https://localhost:8080/"
        },
        "id": "o6WQiijiiwTF",
        "outputId": "35c39312-48c9-495c-eb91-61ab651d7125"
      },
      "execution_count": 50,
      "outputs": [
        {
          "output_type": "stream",
          "name": "stdout",
          "text": [
            "88\n",
            "122\n",
            "45\n"
          ]
        }
      ]
    },
    {
      "cell_type": "markdown",
      "source": [
        "# Map\n",
        "# Filter\n",
        "# Reduce\n"
      ],
      "metadata": {
        "id": "x9lnKWYwkAcz"
      }
    },
    {
      "cell_type": "code",
      "source": [
        "# Map--> map functions takes two things as arguments one is function which is lambda function second is iterables\n",
        "# map functions performs some operation on the given iterators\n",
        "# it performs operations on each item\n",
        "l = [1,2,3,4,5,6]\n",
        "\n",
        "list(map(lambda x: x**2, l))\n",
        "lambda x: x**2"
      ],
      "metadata": {
        "colab": {
          "base_uri": "https://localhost:8080/"
        },
        "id": "i8lMRU2Ei0dm",
        "outputId": "8732feaf-3c4d-4e3f-cbe8-6647c6503bb9"
      },
      "execution_count": 51,
      "outputs": [
        {
          "output_type": "execute_result",
          "data": {
            "text/plain": [
              "<function __main__.<lambda>(x)>"
            ]
          },
          "metadata": {},
          "execution_count": 51
        }
      ]
    },
    {
      "cell_type": "code",
      "source": [
        "list(map(lambda x: x%2 == 0, l))"
      ],
      "metadata": {
        "colab": {
          "base_uri": "https://localhost:8080/"
        },
        "id": "4ckqY8cIk1Bj",
        "outputId": "55c8ef16-bd81-4d2f-9f92-04eb24e4c7e7"
      },
      "execution_count": 52,
      "outputs": [
        {
          "output_type": "execute_result",
          "data": {
            "text/plain": [
              "[False, True, False, True, False, True]"
            ]
          },
          "metadata": {},
          "execution_count": 52
        }
      ]
    },
    {
      "cell_type": "code",
      "source": [
        "students = [\n",
        "    {\"name\": \"Biru\",\n",
        "    \"occupation\":\"data scientist\",\n",
        "    \"salary\":30000},\n",
        "    {\"name\":\"Arjun\",\n",
        "     \"occupation\":\"data analyst\",\n",
        "     \"salary\":35000},\n",
        "    {\"name\":\"Vikram\",\n",
        "     \"occupation\":\"human resource management\",\n",
        "     \"salary\":40000}\n",
        "]"
      ],
      "metadata": {
        "id": "ekT9Q6u0k9fK"
      },
      "execution_count": 53,
      "outputs": []
    },
    {
      "cell_type": "code",
      "source": [
        "students"
      ],
      "metadata": {
        "colab": {
          "base_uri": "https://localhost:8080/"
        },
        "id": "Ja16t6_0mX02",
        "outputId": "d6351e98-1731-4124-b2c2-bbcea1c7112c"
      },
      "execution_count": 54,
      "outputs": [
        {
          "output_type": "execute_result",
          "data": {
            "text/plain": [
              "[{'name': 'Biru', 'occupation': 'data scientist', 'salary': 30000},\n",
              " {'name': 'Arjun', 'occupation': 'data analyst', 'salary': 35000},\n",
              " {'name': 'Vikram',\n",
              "  'occupation': 'human resource management',\n",
              "  'salary': 40000}]"
            ]
          },
          "metadata": {},
          "execution_count": 54
        }
      ]
    },
    {
      "cell_type": "code",
      "source": [
        "for i in students:\n",
        "  print(i[\"name\"])"
      ],
      "metadata": {
        "colab": {
          "base_uri": "https://localhost:8080/"
        },
        "id": "wSKoWzFRmZdm",
        "outputId": "0344505b-ae0e-4297-cf00-1d545ef9d13f"
      },
      "execution_count": 55,
      "outputs": [
        {
          "output_type": "stream",
          "name": "stdout",
          "text": [
            "Biru\n",
            "Arjun\n",
            "Vikram\n"
          ]
        }
      ]
    },
    {
      "cell_type": "code",
      "source": [
        "\n",
        "# lets print this first name, occupation and salary using map function\n",
        "\n",
        "print(list(map(lambda first_name: first_name[\"name\"],students)))\n",
        "print(list(map(lambda occupation: occupation[\"occupation\"],students)))\n",
        "print(list(map(lambda salary: salary[\"salary\"],students)))"
      ],
      "metadata": {
        "colab": {
          "base_uri": "https://localhost:8080/"
        },
        "id": "FNESK6DqmijZ",
        "outputId": "dfa85c07-f095-4b8e-f774-14823f0a8d86"
      },
      "execution_count": 56,
      "outputs": [
        {
          "output_type": "stream",
          "name": "stdout",
          "text": [
            "['Biru', 'Arjun', 'Vikram']\n",
            "['data scientist', 'data analyst', 'human resource management']\n",
            "[30000, 35000, 40000]\n"
          ]
        }
      ]
    },
    {
      "cell_type": "code",
      "source": [
        "for i in students:\n",
        "  print(i)"
      ],
      "metadata": {
        "colab": {
          "base_uri": "https://localhost:8080/"
        },
        "id": "c2s2iWpsnJa5",
        "outputId": "5c092a0c-6f86-4e30-d181-ec1a1e431e9b"
      },
      "execution_count": 57,
      "outputs": [
        {
          "output_type": "stream",
          "name": "stdout",
          "text": [
            "{'name': 'Biru', 'occupation': 'data scientist', 'salary': 30000}\n",
            "{'name': 'Arjun', 'occupation': 'data analyst', 'salary': 35000}\n",
            "{'name': 'Vikram', 'occupation': 'human resource management', 'salary': 40000}\n"
          ]
        }
      ]
    },
    {
      "cell_type": "code",
      "source": [
        "# FILTER\n",
        "# Filter function filter record based on given condition"
      ],
      "metadata": {
        "id": "342OQ6a-ox4i"
      },
      "execution_count": 58,
      "outputs": []
    },
    {
      "cell_type": "code",
      "source": [
        "L = [1,2,3,4,5,7]\n",
        "\n",
        "list(filter(lambda x:x>4, L))"
      ],
      "metadata": {
        "colab": {
          "base_uri": "https://localhost:8080/"
        },
        "id": "gCIBJ4YKpTbw",
        "outputId": "2f81083e-5f36-46e5-d747-2cd1ddf1e1e6"
      },
      "execution_count": 59,
      "outputs": [
        {
          "output_type": "execute_result",
          "data": {
            "text/plain": [
              "[5, 7]"
            ]
          },
          "metadata": {},
          "execution_count": 59
        }
      ]
    },
    {
      "cell_type": "code",
      "source": [
        "list(filter(lambda salary: salary[\"salary\"]> 30000, students))"
      ],
      "metadata": {
        "colab": {
          "base_uri": "https://localhost:8080/"
        },
        "id": "6kwd1j9rpalQ",
        "outputId": "8b8914a6-7598-4077-db83-0333768e955b"
      },
      "execution_count": 60,
      "outputs": [
        {
          "output_type": "execute_result",
          "data": {
            "text/plain": [
              "[{'name': 'Arjun', 'occupation': 'data analyst', 'salary': 35000},\n",
              " {'name': 'Vikram',\n",
              "  'occupation': 'human resource management',\n",
              "  'salary': 40000}]"
            ]
          },
          "metadata": {},
          "execution_count": 60
        }
      ]
    },
    {
      "cell_type": "code",
      "source": [
        "list(filter(lambda first_name: first_name[\"name\"][0]== 'A', students))"
      ],
      "metadata": {
        "colab": {
          "base_uri": "https://localhost:8080/"
        },
        "id": "33hRJ7_Hpo9D",
        "outputId": "f0a0f59e-3696-4c6f-c4e9-043559c7cde1"
      },
      "execution_count": 61,
      "outputs": [
        {
          "output_type": "execute_result",
          "data": {
            "text/plain": [
              "[{'name': 'Arjun', 'occupation': 'data analyst', 'salary': 35000}]"
            ]
          },
          "metadata": {},
          "execution_count": 61
        }
      ]
    },
    {
      "cell_type": "code",
      "source": [
        "list(filter(lambda name:'B' in name, students))"
      ],
      "metadata": {
        "colab": {
          "base_uri": "https://localhost:8080/"
        },
        "id": "z8oIEwNAqw4z",
        "outputId": "d06279b3-cde0-48e6-85b3-f8e92e261ec9"
      },
      "execution_count": 62,
      "outputs": [
        {
          "output_type": "execute_result",
          "data": {
            "text/plain": [
              "[]"
            ]
          },
          "metadata": {},
          "execution_count": 62
        }
      ]
    },
    {
      "cell_type": "code",
      "source": [
        "fruits = ['Apple', 'Orange', 'Guava', 'Grapes']"
      ],
      "metadata": {
        "id": "lzdRB4GIr6El"
      },
      "execution_count": 63,
      "outputs": []
    },
    {
      "cell_type": "code",
      "source": [
        "list(filter(lambda fruit: 'e' in fruit, fruits))"
      ],
      "metadata": {
        "colab": {
          "base_uri": "https://localhost:8080/"
        },
        "id": "z2XrQsnTsqWK",
        "outputId": "8992f3d8-2530-4846-cd66-3e477ebe5b95"
      },
      "execution_count": 64,
      "outputs": [
        {
          "output_type": "execute_result",
          "data": {
            "text/plain": [
              "['Apple', 'Orange', 'Grapes']"
            ]
          },
          "metadata": {},
          "execution_count": 64
        }
      ]
    },
    {
      "cell_type": "code",
      "source": [
        "# reduce-->\n",
        "L = [1,2,4,5,6,8,34,67]\n",
        "\n",
        "import functools\n",
        "\n",
        "functools.reduce(lambda x, y: x + y, L)"
      ],
      "metadata": {
        "colab": {
          "base_uri": "https://localhost:8080/"
        },
        "id": "bDYWmlYrs4B0",
        "outputId": "bd3f66ba-b537-4189-abec-28832031b335"
      },
      "execution_count": 65,
      "outputs": [
        {
          "output_type": "execute_result",
          "data": {
            "text/plain": [
              "127"
            ]
          },
          "metadata": {},
          "execution_count": 65
        }
      ]
    },
    {
      "cell_type": "code",
      "source": [
        "sum = 0\n",
        "\n",
        "for i in L:\n",
        "  sum = sum + i\n",
        "print(sum)"
      ],
      "metadata": {
        "colab": {
          "base_uri": "https://localhost:8080/"
        },
        "id": "Sukjfr2lx7pp",
        "outputId": "0e8254ca-b315-4dd6-f04b-13ae68a0c920"
      },
      "execution_count": 66,
      "outputs": [
        {
          "output_type": "stream",
          "name": "stdout",
          "text": [
            "127\n"
          ]
        }
      ]
    },
    {
      "cell_type": "code",
      "source": [
        "functools.reduce(lambda x,y: x if x>y else y, L)"
      ],
      "metadata": {
        "colab": {
          "base_uri": "https://localhost:8080/"
        },
        "id": "9evYyTuPyG6Y",
        "outputId": "6fb05350-68b9-46ff-9d94-89df9d6ebbe4"
      },
      "execution_count": 67,
      "outputs": [
        {
          "output_type": "execute_result",
          "data": {
            "text/plain": [
              "67"
            ]
          },
          "metadata": {},
          "execution_count": 67
        }
      ]
    },
    {
      "cell_type": "code",
      "source": [
        "functools.reduce(lambda x,y:x if x<y else y,L)"
      ],
      "metadata": {
        "colab": {
          "base_uri": "https://localhost:8080/"
        },
        "id": "YWBvyfd9yRxB",
        "outputId": "8b57da76-6dd4-431b-a1e0-df33e26f1e62"
      },
      "execution_count": 68,
      "outputs": [
        {
          "output_type": "execute_result",
          "data": {
            "text/plain": [
              "1"
            ]
          },
          "metadata": {},
          "execution_count": 68
        }
      ]
    },
    {
      "cell_type": "markdown",
      "source": [
        "# List Comprehension"
      ],
      "metadata": {
        "id": "NGeqBw_RzEJP"
      }
    },
    {
      "cell_type": "code",
      "source": [
        "# List comprehension example\n",
        "student_name1 = [name for name in students]\n",
        "print(student_name1)\n",
        "student_names = [name['name'] for name in students]\n",
        "student_names"
      ],
      "metadata": {
        "colab": {
          "base_uri": "https://localhost:8080/"
        },
        "id": "KdQnjGr6yelf",
        "outputId": "6627e76e-1f46-4793-e1f5-a3051b74ed35"
      },
      "execution_count": 76,
      "outputs": [
        {
          "output_type": "stream",
          "name": "stdout",
          "text": [
            "[{'name': 'Biru', 'occupation': 'data scientist', 'salary': 30000}, {'name': 'Arjun', 'occupation': 'data analyst', 'salary': 35000}, {'name': 'Vikram', 'occupation': 'human resource management', 'salary': 40000}],"
          ]
        },
        {
          "output_type": "execute_result",
          "data": {
            "text/plain": [
              "['Biru', 'Arjun', 'Vikram']"
            ]
          },
          "metadata": {},
          "execution_count": 76
        }
      ]
    },
    {
      "cell_type": "code",
      "source": [
        "print(list(map(lambda name: name, students)))\n",
        "list(map(lambda name:name['name'], students))"
      ],
      "metadata": {
        "colab": {
          "base_uri": "https://localhost:8080/"
        },
        "id": "FLrsErk4zc00",
        "outputId": "8462a863-26a4-4259-9133-577ad7ca32d2"
      },
      "execution_count": 77,
      "outputs": [
        {
          "output_type": "stream",
          "name": "stdout",
          "text": [
            "[{'name': 'Biru', 'occupation': 'data scientist', 'salary': 30000}, {'name': 'Arjun', 'occupation': 'data analyst', 'salary': 35000}, {'name': 'Vikram', 'occupation': 'human resource management', 'salary': 40000}]\n"
          ]
        },
        {
          "output_type": "execute_result",
          "data": {
            "text/plain": [
              "['Biru', 'Arjun', 'Vikram']"
            ]
          },
          "metadata": {},
          "execution_count": 77
        }
      ]
    },
    {
      "cell_type": "code",
      "source": [
        "# Doubling the list elemnet using list comrehension\n",
        "L = [1,2,3,5,6,8]\n",
        "\n",
        "a = [l*2 for l in L]\n",
        "a"
      ],
      "metadata": {
        "colab": {
          "base_uri": "https://localhost:8080/"
        },
        "id": "OMnEf99xzxTw",
        "outputId": "07197524-64d9-4350-c6b1-afd01b943653"
      },
      "execution_count": 79,
      "outputs": [
        {
          "output_type": "execute_result",
          "data": {
            "text/plain": [
              "[2, 4, 6, 10, 12, 16]"
            ]
          },
          "metadata": {},
          "execution_count": 79
        }
      ]
    },
    {
      "cell_type": "code",
      "source": [
        "b = [b**2 for b in L]\n",
        "b"
      ],
      "metadata": {
        "colab": {
          "base_uri": "https://localhost:8080/"
        },
        "id": "0C9tVo3l02OU",
        "outputId": "efccccba-2c61-4070-8235-cf31eff269e1"
      },
      "execution_count": 80,
      "outputs": [
        {
          "output_type": "execute_result",
          "data": {
            "text/plain": [
              "[1, 4, 9, 25, 36, 64]"
            ]
          },
          "metadata": {},
          "execution_count": 80
        }
      ]
    },
    {
      "cell_type": "code",
      "source": [
        "odd_square = [a**2 for a in L if a%2 != 0]\n",
        "odd_square"
      ],
      "metadata": {
        "colab": {
          "base_uri": "https://localhost:8080/"
        },
        "id": "9EsAbMMm1mQA",
        "outputId": "40c38850-4c42-4bd2-d12d-e5db17b4d87f"
      },
      "execution_count": 82,
      "outputs": [
        {
          "output_type": "execute_result",
          "data": {
            "text/plain": [
              "[1, 9, 25]"
            ]
          },
          "metadata": {},
          "execution_count": 82
        }
      ]
    },
    {
      "cell_type": "code",
      "source": [
        "even_square = [a**2 for a in L if a%2 == 0]\n",
        "even_square"
      ],
      "metadata": {
        "colab": {
          "base_uri": "https://localhost:8080/"
        },
        "id": "ZE_jwvS-2B2l",
        "outputId": "fc316392-273f-49a1-b6cb-2842d834e1b5"
      },
      "execution_count": 84,
      "outputs": [
        {
          "output_type": "execute_result",
          "data": {
            "text/plain": [
              "[4, 36, 64]"
            ]
          },
          "metadata": {},
          "execution_count": 84
        }
      ]
    },
    {
      "cell_type": "code",
      "source": [
        "fruits"
      ],
      "metadata": {
        "colab": {
          "base_uri": "https://localhost:8080/"
        },
        "id": "UidUb70F2O7Y",
        "outputId": "8d184b90-9e6b-457c-8d27-8c500804c022"
      },
      "execution_count": 85,
      "outputs": [
        {
          "output_type": "execute_result",
          "data": {
            "text/plain": [
              "['Apple', 'Orange', 'Guava', 'Grapes']"
            ]
          },
          "metadata": {},
          "execution_count": 85
        }
      ]
    },
    {
      "cell_type": "code",
      "source": [
        "fruit = [fruit for fruit in fruits if fruit[0]=='G']\n",
        "fruit"
      ],
      "metadata": {
        "colab": {
          "base_uri": "https://localhost:8080/"
        },
        "id": "8YwxLY892WNx",
        "outputId": "4e64a54d-6ed7-43f4-d6f4-9108073edb22"
      },
      "execution_count": 86,
      "outputs": [
        {
          "output_type": "execute_result",
          "data": {
            "text/plain": [
              "['Guava', 'Grapes']"
            ]
          },
          "metadata": {},
          "execution_count": 86
        }
      ]
    },
    {
      "cell_type": "code",
      "source": [
        "students"
      ],
      "metadata": {
        "colab": {
          "base_uri": "https://localhost:8080/"
        },
        "id": "CcrARPHU2zmn",
        "outputId": "3d87dc37-ca9f-4df1-947f-62066c8ccd1d"
      },
      "execution_count": 88,
      "outputs": [
        {
          "output_type": "execute_result",
          "data": {
            "text/plain": [
              "[{'name': 'Biru', 'occupation': 'data scientist', 'salary': 30000},\n",
              " {'name': 'Arjun', 'occupation': 'data analyst', 'salary': 35000},\n",
              " {'name': 'Vikram',\n",
              "  'occupation': 'human resource management',\n",
              "  'salary': 40000}]"
            ]
          },
          "metadata": {},
          "execution_count": 88
        }
      ]
    },
    {
      "cell_type": "code",
      "source": [
        "# salary = [salary for salary in students if salary > 35000] # dictionary don't work here\n",
        "# in roder to work on dictionary we use dictionary comprehension"
      ],
      "metadata": {
        "colab": {
          "base_uri": "https://localhost:8080/",
          "height": 217
        },
        "id": "yIVt5U1i2frU",
        "outputId": "7fea208c-996d-4fae-d901-b26d9ace346f"
      },
      "execution_count": 87,
      "outputs": [
        {
          "output_type": "error",
          "ename": "TypeError",
          "evalue": "ignored",
          "traceback": [
            "\u001b[0;31m---------------------------------------------------------------------------\u001b[0m",
            "\u001b[0;31mTypeError\u001b[0m                                 Traceback (most recent call last)",
            "\u001b[0;32m<ipython-input-87-a16a0d7e1638>\u001b[0m in \u001b[0;36m<cell line: 1>\u001b[0;34m()\u001b[0m\n\u001b[0;32m----> 1\u001b[0;31m \u001b[0msalary\u001b[0m \u001b[0;34m=\u001b[0m \u001b[0;34m[\u001b[0m\u001b[0msalary\u001b[0m \u001b[0;32mfor\u001b[0m \u001b[0msalary\u001b[0m \u001b[0;32min\u001b[0m \u001b[0mstudents\u001b[0m \u001b[0;32mif\u001b[0m \u001b[0msalary\u001b[0m\u001b[0;34m>\u001b[0m\u001b[0;36m35000\u001b[0m\u001b[0;34m]\u001b[0m\u001b[0;34m\u001b[0m\u001b[0;34m\u001b[0m\u001b[0m\n\u001b[0m",
            "\u001b[0;32m<ipython-input-87-a16a0d7e1638>\u001b[0m in \u001b[0;36m<listcomp>\u001b[0;34m(.0)\u001b[0m\n\u001b[0;32m----> 1\u001b[0;31m \u001b[0msalary\u001b[0m \u001b[0;34m=\u001b[0m \u001b[0;34m[\u001b[0m\u001b[0msalary\u001b[0m \u001b[0;32mfor\u001b[0m \u001b[0msalary\u001b[0m \u001b[0;32min\u001b[0m \u001b[0mstudents\u001b[0m \u001b[0;32mif\u001b[0m \u001b[0msalary\u001b[0m\u001b[0;34m>\u001b[0m\u001b[0;36m35000\u001b[0m\u001b[0;34m]\u001b[0m\u001b[0;34m\u001b[0m\u001b[0;34m\u001b[0m\u001b[0m\n\u001b[0m",
            "\u001b[0;31mTypeError\u001b[0m: '>' not supported between instances of 'dict' and 'int'"
          ]
        }
      ]
    },
    {
      "cell_type": "code",
      "source": [
        "D = {\"name\":\"Biru\", \"occupation\":\"data scientist\", \"salary\": 50000}\n",
        "D"
      ],
      "metadata": {
        "colab": {
          "base_uri": "https://localhost:8080/"
        },
        "id": "a7nLpgU22qhn",
        "outputId": "e034e6f0-d3d7-41ce-a2e8-d158825bf8d3"
      },
      "execution_count": 106,
      "outputs": [
        {
          "output_type": "execute_result",
          "data": {
            "text/plain": [
              "{'name': 'Biru', 'occupation': 'data scientist', 'salary': 50000}"
            ]
          },
          "metadata": {},
          "execution_count": 106
        }
      ]
    },
    {
      "cell_type": "code",
      "source": [
        "D.items()"
      ],
      "metadata": {
        "colab": {
          "base_uri": "https://localhost:8080/"
        },
        "id": "BsISp70D3dox",
        "outputId": "1b054406-882b-4bea-eba7-5a0a2af90071"
      },
      "execution_count": 107,
      "outputs": [
        {
          "output_type": "execute_result",
          "data": {
            "text/plain": [
              "dict_items([('name', 'Biru'), ('occupation', 'data scientist'), ('salary', 50000)])"
            ]
          },
          "metadata": {},
          "execution_count": 107
        }
      ]
    },
    {
      "cell_type": "code",
      "source": [
        "D1 = {key:value for key,value in D.items() if len(key)>3}\n",
        "D1"
      ],
      "metadata": {
        "colab": {
          "base_uri": "https://localhost:8080/"
        },
        "id": "v8ad4-7G5wlh",
        "outputId": "e749926a-4a9d-4844-b87f-3ac4b855d009"
      },
      "execution_count": 108,
      "outputs": [
        {
          "output_type": "execute_result",
          "data": {
            "text/plain": [
              "{'name': 'Biru', 'occupation': 'data scientist', 'salary': 50000}"
            ]
          },
          "metadata": {},
          "execution_count": 108
        }
      ]
    },
    {
      "cell_type": "code",
      "source": [
        "L"
      ],
      "metadata": {
        "colab": {
          "base_uri": "https://localhost:8080/"
        },
        "id": "c550K_H56M4F",
        "outputId": "d1e5fad7-3a19-4b88-fd31-06ff03a760e1"
      },
      "execution_count": 111,
      "outputs": [
        {
          "output_type": "execute_result",
          "data": {
            "text/plain": [
              "[1, 2, 3, 5, 6, 8]"
            ]
          },
          "metadata": {},
          "execution_count": 111
        }
      ]
    },
    {
      "cell_type": "code",
      "source": [
        "# dictionary comprehension on list\n",
        "\n",
        "D2 = {item:item**2 for item in L}\n",
        "D2"
      ],
      "metadata": {
        "colab": {
          "base_uri": "https://localhost:8080/"
        },
        "id": "RUqnaWxV6bf2",
        "outputId": "40a6502d-c8b0-4683-cb68-296e98af1ef7"
      },
      "execution_count": 113,
      "outputs": [
        {
          "output_type": "execute_result",
          "data": {
            "text/plain": [
              "{1: 1, 2: 4, 3: 9, 5: 25, 6: 36, 8: 64}"
            ]
          },
          "metadata": {},
          "execution_count": 113
        }
      ]
    },
    {
      "cell_type": "code",
      "source": [
        "D3 = {item:item**2 for item in L if item%2 == 0}\n",
        "D3"
      ],
      "metadata": {
        "colab": {
          "base_uri": "https://localhost:8080/"
        },
        "id": "B0BB2V_D8Wbd",
        "outputId": "d25ce803-bf8d-4ffa-f94a-8fb11a1f7d12"
      },
      "execution_count": 116,
      "outputs": [
        {
          "output_type": "execute_result",
          "data": {
            "text/plain": [
              "{2: 4, 6: 36, 8: 64}"
            ]
          },
          "metadata": {},
          "execution_count": 116
        }
      ]
    },
    {
      "cell_type": "code",
      "source": [],
      "metadata": {
        "id": "LpJ4J7Kl8kQx"
      },
      "execution_count": null,
      "outputs": []
    }
  ]
}