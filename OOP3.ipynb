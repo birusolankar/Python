{
  "nbformat": 4,
  "nbformat_minor": 0,
  "metadata": {
    "colab": {
      "provenance": [],
      "authorship_tag": "ABX9TyPZkMdQX3z2ADHk4zXSa1ia",
      "include_colab_link": true
    },
    "kernelspec": {
      "name": "python3",
      "display_name": "Python 3"
    },
    "language_info": {
      "name": "python"
    }
  },
  "cells": [
    {
      "cell_type": "markdown",
      "metadata": {
        "id": "view-in-github",
        "colab_type": "text"
      },
      "source": [
        "<a href=\"https://colab.research.google.com/github/birusolankar/Python/blob/main/OOP3.ipynb\" target=\"_parent\"><img src=\"https://colab.research.google.com/assets/colab-badge.svg\" alt=\"Open In Colab\"/></a>"
      ]
    },
    {
      "cell_type": "code",
      "execution_count": null,
      "metadata": {
        "colab": {
          "base_uri": "https://localhost:8080/"
        },
        "id": "s_4RD9keBgDP",
        "outputId": "f6cceee0-fcdf-4583-9c6f-2b82ea9e75c8"
      },
      "outputs": [
        {
          "output_type": "stream",
          "name": "stdout",
          "text": [
            "biru\n"
          ]
        }
      ],
      "source": [
        "# Inheritance\n",
        "\n",
        "# parent class\n",
        "\n",
        "class User:\n",
        "\n",
        "  def __init__(self):\n",
        "    self.name = 'biru'\n",
        "\n",
        "  def login(self):\n",
        "    print('login')\n",
        "# child class\n",
        "class Student(User):\n",
        "\n",
        "\n",
        "  def enroll(self):\n",
        "    print('enroll into the course')\n",
        "\n",
        "u = User()\n",
        "s = Student()\n",
        "\n",
        "print(s.name)"
      ]
    },
    {
      "cell_type": "markdown",
      "source": [
        "# what gets inherited\n",
        "## constructor\n",
        "## non private attributes\n",
        "## non private methods"
      ],
      "metadata": {
        "id": "M36naslaG7S4"
      }
    },
    {
      "cell_type": "code",
      "source": [
        "# constructor example\n",
        "\n",
        "# Parent class\n",
        "\n",
        "class Phone:\n",
        "  def __init__(self, price, brand, camera):\n",
        "    print(\"inside phone constructor\")\n",
        "    self.price = price\n",
        "    self.brand = brand\n",
        "    self.camera = camera\n",
        "\n",
        "  def buy(self):\n",
        "    print(\"Buying a phone\")\n",
        "\n",
        "# child class\n",
        "\n",
        "class SmartPhone(Phone):\n",
        "  pass\n",
        "\n",
        "\n",
        "s = SmartPhone(20000, \"Apple\", 13)\n",
        "\n",
        "\n",
        "# here child class dont have its own constructor so its using the constructor ogf the parent cl;ass"
      ],
      "metadata": {
        "colab": {
          "base_uri": "https://localhost:8080/"
        },
        "id": "n3NA1trYHXP_",
        "outputId": "6c2add1a-7dfe-4457-cb93-94e7bdc6fada"
      },
      "execution_count": null,
      "outputs": [
        {
          "output_type": "stream",
          "name": "stdout",
          "text": [
            "inside phone constructor\n"
          ]
        }
      ]
    },
    {
      "cell_type": "code",
      "source": [
        "# constructor example 2\n",
        "\n",
        "class Phone:\n",
        "\n",
        "  def __init__(self, price,brand,name):\n",
        "    print(\"inside the phine class constructor\")\n",
        "    self.price = price\n",
        "    self.brand = brand\n",
        "    self.name = name\n",
        "\n",
        "class SmartPhone(Phone):\n",
        "\n",
        "  def __init__(self, os, ram):\n",
        "    print(\"inside the smartphone class costructor\")\n",
        "    self.os = os\n",
        "    self.ram = ram\n",
        "\n",
        "s = SmartPhone(\"Android\", 2)"
      ],
      "metadata": {
        "colab": {
          "base_uri": "https://localhost:8080/"
        },
        "id": "9dijSqnyIpQ8",
        "outputId": "52c2d511-5be0-42fd-9611-cb55b71fb795"
      },
      "execution_count": null,
      "outputs": [
        {
          "output_type": "stream",
          "name": "stdout",
          "text": [
            "inside the smartphone class costructor\n"
          ]
        }
      ]
    },
    {
      "cell_type": "code",
      "source": [
        "# child class can't access the private attribute of the parent class\n",
        "\n",
        "class Phone:\n",
        "\n",
        "  def __init__(self, price,brand,name):\n",
        "    self.__price = price  # here double underscore indicare that price is a private attribute of the phone lass\n",
        "    self.brand = brand\n",
        "    self.name = name\n",
        "\n",
        "  def __show(self):   # here show method of the phone claas is a private method which cannot be accessed by the child classs\n",
        "    print(self.__price)\n",
        "\n",
        "  # but we can use the getter method to access the private meyhod method/attribute of the parent class\n",
        "\n",
        "  def get(self):\n",
        "    print(self.__price)\n",
        "\n",
        "class SmartPhone(Phone):\n",
        "\n",
        "  def check(self):\n",
        "    print(self.price)\n",
        "\n",
        "s = SmartPhone(10000, 'Samsung', 's22')\n",
        "print(s.brand)\n",
        "s.get()\n",
        "s.show()\n",
        "\n",
        "\n",
        "\n"
      ],
      "metadata": {
        "colab": {
          "base_uri": "https://localhost:8080/",
          "height": 269
        },
        "id": "ROCH7aqoJ-Ps",
        "outputId": "d9ae5f05-64e7-422c-c196-ec73a90c4f25"
      },
      "execution_count": null,
      "outputs": [
        {
          "output_type": "stream",
          "name": "stdout",
          "text": [
            "Samsung\n",
            "10000\n"
          ]
        },
        {
          "output_type": "error",
          "ename": "AttributeError",
          "evalue": "ignored",
          "traceback": [
            "\u001b[0;31m---------------------------------------------------------------------------\u001b[0m",
            "\u001b[0;31mAttributeError\u001b[0m                            Traceback (most recent call last)",
            "\u001b[0;32m<ipython-input-17-40c49a4855e1>\u001b[0m in \u001b[0;36m<cell line: 26>\u001b[0;34m()\u001b[0m\n\u001b[1;32m     24\u001b[0m \u001b[0mprint\u001b[0m\u001b[0;34m(\u001b[0m\u001b[0ms\u001b[0m\u001b[0;34m.\u001b[0m\u001b[0mbrand\u001b[0m\u001b[0;34m)\u001b[0m\u001b[0;34m\u001b[0m\u001b[0;34m\u001b[0m\u001b[0m\n\u001b[1;32m     25\u001b[0m \u001b[0ms\u001b[0m\u001b[0;34m.\u001b[0m\u001b[0mget\u001b[0m\u001b[0;34m(\u001b[0m\u001b[0;34m)\u001b[0m\u001b[0;34m\u001b[0m\u001b[0;34m\u001b[0m\u001b[0m\n\u001b[0;32m---> 26\u001b[0;31m \u001b[0ms\u001b[0m\u001b[0;34m.\u001b[0m\u001b[0mshow\u001b[0m\u001b[0;34m(\u001b[0m\u001b[0;34m)\u001b[0m\u001b[0;34m\u001b[0m\u001b[0;34m\u001b[0m\u001b[0m\n\u001b[0m\u001b[1;32m     27\u001b[0m \u001b[0;34m\u001b[0m\u001b[0m\n\u001b[1;32m     28\u001b[0m \u001b[0;34m\u001b[0m\u001b[0m\n",
            "\u001b[0;31mAttributeError\u001b[0m: 'SmartPhone' object has no attribute 'show'"
          ]
        }
      ]
    },
    {
      "cell_type": "code",
      "source": [],
      "metadata": {
        "id": "Q8bIaf-DMBw2"
      },
      "execution_count": null,
      "outputs": []
    },
    {
      "cell_type": "markdown",
      "source": [
        "# Constructor overriding"
      ],
      "metadata": {
        "id": "ceRHdxkxS4vw"
      }
    },
    {
      "cell_type": "code",
      "source": [
        "\"\"\"when parent class and child has the constructor then child class constructor get executed\n",
        "when we make the object of the child class\"\"\"\n",
        "\n",
        "# constructor overriding\n",
        "class Phone:\n",
        "\n",
        "  def __init__(self, price,brand,name):\n",
        "    print(\"inside the phine class constructor\")\n",
        "    self.price = price\n",
        "    self.brand = brand\n",
        "    self.name = name\n",
        "\n",
        "class SmartPhone(Phone):\n",
        "\n",
        "  def __init__(self, os, ram):\n",
        "    print(\"inside the smartphone class costructor\")\n",
        "    self.os = os\n",
        "    self.ram = ram\n",
        "\n",
        "#\n",
        "s = SmartPhone(\"Android\", 2)"
      ],
      "metadata": {
        "colab": {
          "base_uri": "https://localhost:8080/"
        },
        "id": "6QWigC-yS8qF",
        "outputId": "e10102cc-acd4-42d6-c709-de1cdd1044ef"
      },
      "execution_count": null,
      "outputs": [
        {
          "output_type": "stream",
          "name": "stdout",
          "text": [
            "inside the smartphone class costructor\n"
          ]
        }
      ]
    },
    {
      "cell_type": "code",
      "source": [
        "# Method overriding\n",
        "# example--1\n",
        "\"\"\"when parent class and child has the same method then child class method is executed\n",
        "when make the object of the child clas\"\"\"\n",
        "\n",
        "\n",
        "class Phone:\n",
        "\n",
        "  def __init__(self, price, brand, name):\n",
        "    self.__price = price\n",
        "    self.brand = brand\n",
        "    self.name = name\n",
        "\n",
        "\n",
        "  def buy(self):\n",
        "    print(\"Buying a phone\")\n",
        "\n",
        "\n",
        "class SmartPhone(Phone):\n",
        "\n",
        "  def buy(self):\n",
        "    print(\"Buying a smartphone\")\n",
        "\n",
        "# here we buy method in both classes but buy method of child class get executed\n",
        "# it means when we have method with same name in both classes then method of child class get executed ---> this what mehtod overriding is\n",
        "\n",
        "#c = Phone()\n",
        "\n",
        "s = SmartPhone(10000, \"Samsung\", 's22')\n",
        "\n",
        "s.buy()"
      ],
      "metadata": {
        "colab": {
          "base_uri": "https://localhost:8080/"
        },
        "id": "z7SclhQoTaJP",
        "outputId": "1c78326d-1a4d-4e7f-ae9d-847bedcad908"
      },
      "execution_count": null,
      "outputs": [
        {
          "output_type": "stream",
          "name": "stdout",
          "text": [
            "Buying a smartphone\n"
          ]
        }
      ]
    },
    {
      "cell_type": "code",
      "source": [
        "# Method overriding\n",
        "# example--2\n",
        "class Phone:\n",
        "\n",
        "  def __init__(self, price, brand, name):\n",
        "    self.__price = price\n",
        "    self.brand = brand\n",
        "    self.name = name\n",
        "\n",
        "\n",
        "  def buy(self):\n",
        "    print(\"Buying a phone\")\n",
        "\n",
        "\n",
        "class SmartPhone(Phone):\n",
        "\n",
        "  def buy(self):\n",
        "    print(\"Buying a smartphone\")\n",
        "\n",
        "p = Phone(100000, \"Apple\", 13) # here we made the object of parent class so method of parent class get executed\n",
        "\n",
        "p.buy()"
      ],
      "metadata": {
        "colab": {
          "base_uri": "https://localhost:8080/"
        },
        "id": "4MYP0R6mV0Kk",
        "outputId": "d5439b2d-5204-472d-fc4c-fdff1590be01"
      },
      "execution_count": null,
      "outputs": [
        {
          "output_type": "stream",
          "name": "stdout",
          "text": [
            "Buying a phone\n"
          ]
        }
      ]
    },
    {
      "cell_type": "markdown",
      "source": [
        "# Super keyword\n",
        "### it is used for calling the attribute and methods of the parent class inside the child class\n",
        "\n",
        "\n",
        "### it is used inside the class generally inside of child class\n",
        "\n",
        "\n",
        "### we cannot super keyword outside the class\n",
        "\n",
        "\n",
        "### super cannot access varibale outside the class"
      ],
      "metadata": {
        "id": "WgRADYJTWrhX"
      }
    },
    {
      "cell_type": "code",
      "source": [
        "class Phone:\n",
        "\n",
        "  def __init__(self, price, brand, name):\n",
        "    self.price = price\n",
        "    self.brand = name\n",
        "    self.name = name\n",
        "\n",
        "  def buy(self):\n",
        "    print(\"Buying a phone\")\n",
        "\n",
        "\n",
        "class SmartPhone(Phone):\n",
        "\n",
        "  def buy(self):\n",
        "    print(\"Buying a smartphone\")\n",
        "    # syntax for calling a method of parent class\n",
        "\n",
        "    super().buy()\n",
        "\n",
        "s = SmartPhone(100000, 'Samsung', 's22')\n",
        "s.buy()\n"
      ],
      "metadata": {
        "colab": {
          "base_uri": "https://localhost:8080/"
        },
        "id": "0kmL5wxnUS7g",
        "outputId": "47e4956f-418f-4ada-8318-ff1d5f0b498b"
      },
      "execution_count": null,
      "outputs": [
        {
          "output_type": "stream",
          "name": "stdout",
          "text": [
            "Buying a smartphone\n",
            "Buying a phone\n"
          ]
        }
      ]
    },
    {
      "cell_type": "code",
      "source": [
        "class Phone:\n",
        "\n",
        "  def __init__(self, price, brand, name):\n",
        "    print(\"Inside the phone constructor\")\n",
        "    self.price = price\n",
        "    self.brand = brand\n",
        "    self.name = name\n",
        "\n",
        "\n",
        "\n",
        "class SmartPhone(Phone):\n",
        "\n",
        "  def __init__(self, price, brand, name, os, ram):\n",
        "    print(\"Inside the smartphone constructor\")\n",
        "    super().__init__(price,brand, name)\n",
        "    self.os = os\n",
        "    self.ram = ram\n",
        "    print(\"Inside the smartphone constructor\")\n",
        "\n",
        "s = SmartPhone(100000, 'Samsung', 's22', 'Android', 8)"
      ],
      "metadata": {
        "colab": {
          "base_uri": "https://localhost:8080/"
        },
        "id": "Cmdb3Vv3Xl28",
        "outputId": "45607dc5-f984-49f1-bde5-c7496d3705f4"
      },
      "execution_count": null,
      "outputs": [
        {
          "output_type": "stream",
          "name": "stdout",
          "text": [
            "Inside the smartphone constructor\n",
            "Inside the phone constructor\n",
            "Inside the smartphone constructor\n"
          ]
        }
      ]
    },
    {
      "cell_type": "code",
      "source": [],
      "metadata": {
        "id": "OxIiiNUwZ2oa"
      },
      "execution_count": null,
      "outputs": []
    },
    {
      "cell_type": "markdown",
      "source": [
        "# Inheritance summary\n",
        "\n",
        "###1) A class can inherit from another class\n",
        "###2) Inheritance improves code reuse\n",
        "###3) Constructor, attributes and methods get inherited to the child class\n",
        "###4) The parent has no access to the child class\n",
        "###5) Private properties of the parent class are not directly accesssible inside the child class\n",
        "###6) child class can override the methods or attributes. This is called method overriding\n",
        "###7)super() is an inbuilt function which is used to invoke the parent class methods and constructor and not the attributes"
      ],
      "metadata": {
        "id": "kCiIZb7cbXQ3"
      }
    },
    {
      "cell_type": "code",
      "source": [
        "# inheritance example\n",
        "\n",
        "class Parent:\n",
        "\n",
        "  def __init__(self, num):\n",
        "    self.__num = num\n",
        "\n",
        "  def get_num(self):\n",
        "    return self.__num\n",
        "\n",
        "\n",
        "class Child(Parent):\n",
        "\n",
        "  def __init__(self, num, val):\n",
        "    super().__init__(num)\n",
        "    self.val = val\n",
        "\n",
        "\n",
        "  def get_val(self):\n",
        "    return self.val\n",
        "\n",
        "c = Child(100,200)\n",
        "print(c.get_num())\n",
        "print(c.get_val())"
      ],
      "metadata": {
        "colab": {
          "base_uri": "https://localhost:8080/"
        },
        "id": "KuOfqwuLclyJ",
        "outputId": "68324c2a-6602-4a21-e947-e5549bb3e148"
      },
      "execution_count": null,
      "outputs": [
        {
          "output_type": "stream",
          "name": "stdout",
          "text": [
            "100\n",
            "200\n"
          ]
        }
      ]
    },
    {
      "cell_type": "code",
      "source": [
        "class Parent:\n",
        "\n",
        "  def __init__(self):\n",
        "    self.num = 100\n",
        "\n",
        "\n",
        "class Child(Parent):\n",
        "\n",
        "  def __init__(self):\n",
        "    super().__init__()\n",
        "    self.var = 200\n",
        "\n",
        "  def show(self):\n",
        "    print(self.num)\n",
        "    print(self.var)\n",
        "\n",
        "son = Child()\n",
        "son.show()\n"
      ],
      "metadata": {
        "colab": {
          "base_uri": "https://localhost:8080/"
        },
        "id": "5Wb1Xh0pdnts",
        "outputId": "9c436344-c5cb-4a38-88b7-d7e3e82d32e1"
      },
      "execution_count": null,
      "outputs": [
        {
          "output_type": "stream",
          "name": "stdout",
          "text": [
            "100\n",
            "200\n"
          ]
        }
      ]
    },
    {
      "cell_type": "code",
      "source": [
        "class Parent:\n",
        "\n",
        "  def __init__(self):\n",
        "    self.__num = 100\n",
        "\n",
        "  def show(self):\n",
        "    print(\"Parent\", self.__num)\n",
        "\n",
        "\n",
        "class Child(Parent):\n",
        "\n",
        "  def __init__(self):\n",
        "    super().__init__()\n",
        "    self.var = 200\n",
        "\n",
        "  def show(self):\n",
        "    print(\"Child\", self.var)\n",
        "\n",
        "obj = Child()\n",
        "obj.show()"
      ],
      "metadata": {
        "colab": {
          "base_uri": "https://localhost:8080/"
        },
        "id": "3Tt83Ou8fANj",
        "outputId": "f1a8e693-ad77-4fff-ea30-e8d1d469a1be"
      },
      "execution_count": null,
      "outputs": [
        {
          "output_type": "stream",
          "name": "stdout",
          "text": [
            "Child 200\n"
          ]
        }
      ]
    },
    {
      "cell_type": "code",
      "source": [],
      "metadata": {
        "id": "Dn_e2GvzgTn6"
      },
      "execution_count": null,
      "outputs": []
    },
    {
      "cell_type": "markdown",
      "source": [
        "# Types of Inheritance\n",
        "\n",
        "###1) Single Inheritance\n",
        "###2) Multilevel Inheritance\n",
        "###3) Heirachical Inheritance\n",
        "###4) Multiple Inheritance\n",
        "###5) Hybrid Inheritance"
      ],
      "metadata": {
        "id": "pYBnAWrQgfQh"
      }
    },
    {
      "cell_type": "code",
      "source": [
        "# Multilevel Inheritance\n",
        "\n",
        "class Product:\n",
        "\n",
        "  def review(self):\n",
        "    print(\"Product customer review\")\n",
        "\n",
        "class Phone(Product):\n",
        "\n",
        "  def __init__(self, price, brand, camera):\n",
        "    self.price = price\n",
        "    self.brand = brand\n",
        "    self.camera = camera\n",
        "\n",
        "  def buy(self):\n",
        "    print(\"Buying a phone\")\n",
        "\n",
        "class SmartPhone(Phone):\n",
        "  pass\n",
        "\n",
        "s = SmartPhone(100000, 'Apple', 12)\n",
        "s.review()\n",
        "s.buy()\n"
      ],
      "metadata": {
        "colab": {
          "base_uri": "https://localhost:8080/"
        },
        "id": "RFq5ZZcPheJS",
        "outputId": "aa9053f2-ea15-40a3-ab68-376cbf6b5d3d"
      },
      "execution_count": null,
      "outputs": [
        {
          "output_type": "stream",
          "name": "stdout",
          "text": [
            "Product customer review\n",
            "Buying a phone\n"
          ]
        }
      ]
    },
    {
      "cell_type": "code",
      "source": [
        "# Heirachical Inheritance\n",
        "\n",
        "class Phone:\n",
        "\n",
        "  def __init__(self, price, brand, camera):\n",
        "    self.price  = price\n",
        "    self.brand = brand\n",
        "    self.camera = camera\n",
        "\n",
        "  def buy(self):\n",
        "    print(\"Buying a new phone\")\n",
        "\n",
        "\n",
        "class SmartPhone(Phone):\n",
        "  pass\n",
        "\n",
        "class FeaturePhone(Phone):\n",
        "  pass\n",
        "\n",
        "s = SmartPhone(100000, 'Apple', 12)\n",
        "f = FeaturePhone(200000, 'Samsung', 14)\n",
        "s.buy()\n",
        "f.buy()"
      ],
      "metadata": {
        "colab": {
          "base_uri": "https://localhost:8080/"
        },
        "id": "XA21igRKjOgb",
        "outputId": "5adc8e38-7c2c-46aa-f741-59bc50f68a44"
      },
      "execution_count": null,
      "outputs": [
        {
          "output_type": "stream",
          "name": "stdout",
          "text": [
            "Buying a new phone\n",
            "Buying a new phone\n"
          ]
        }
      ]
    },
    {
      "cell_type": "code",
      "source": [
        "# Multiple Inheritance\n",
        "\n",
        "class Phone:\n",
        "\n",
        "  def __init__(self, price, brand, name):\n",
        "    self.price = price\n",
        "    self.brand = brand\n",
        "    self.name= name\n",
        "\n",
        "  def buy(self):\n",
        "    print(\"Buying a new phone\")\n",
        "\n",
        "\n",
        "class Product:\n",
        "\n",
        "  def review(self):\n",
        "    print(\"Customer reviewing a phone\")\n",
        "\n",
        "class SmartPhone(Phone, Product):\n",
        "  pass\n",
        "\n",
        "s = SmartPhone(10000, 'Samsung', 's22')\n",
        "s.buy()\n",
        "s.review()\n"
      ],
      "metadata": {
        "colab": {
          "base_uri": "https://localhost:8080/"
        },
        "id": "s7qVXZpskV67",
        "outputId": "04447d90-766a-41c6-a171-d579eb9288f2"
      },
      "execution_count": null,
      "outputs": [
        {
          "output_type": "stream",
          "name": "stdout",
          "text": [
            "Buying a new phone\n",
            "Customer reviewing a phone\n"
          ]
        }
      ]
    },
    {
      "cell_type": "code",
      "source": [
        "# the diamond problem or ambiguity problem\n",
        "\n",
        "class Phone:\n",
        "\n",
        "  def __init__(self, price, brand, name):\n",
        "    print(\"Inside the Phone construct\")\n",
        "    self.price = price\n",
        "    self.brand = brand\n",
        "    self.name = name\n",
        "\n",
        "  def buy(self):\n",
        "    print(\"Buying a phone\")\n",
        "\n",
        "class Product:\n",
        "\n",
        "  def buy(self):\n",
        "    print(\"reviewing a product\")\n",
        "\n",
        "class SmartPhone(Product,Phone):\n",
        "  pass\n",
        "\n",
        "s = SmartPhone(10000, 'Apple', 13)\n",
        "s.buy()"
      ],
      "metadata": {
        "colab": {
          "base_uri": "https://localhost:8080/"
        },
        "id": "y7pUxat5lUTn",
        "outputId": "abcf8aa9-fd23-4702-da66-b274ab525b20"
      },
      "execution_count": null,
      "outputs": [
        {
          "output_type": "stream",
          "name": "stdout",
          "text": [
            "Inside the Phone construct\n",
            "reviewing a product\n"
          ]
        }
      ]
    },
    {
      "cell_type": "code",
      "source": [],
      "metadata": {
        "id": "xlMM5-30LpDU"
      },
      "execution_count": null,
      "outputs": []
    },
    {
      "cell_type": "markdown",
      "source": [
        "#Polymorphism\n",
        "\n",
        "\n",
        "\n",
        "*  Method overiding\n",
        "*   Method overloading\n",
        "\n",
        "*   operator overloading\n",
        "\n",
        "\n",
        "\n",
        "\n"
      ],
      "metadata": {
        "id": "WhJIPtSZW2AG"
      }
    },
    {
      "cell_type": "code",
      "source": [
        "# Method overloading\n",
        "\n",
        "# if we have two methods with same name inside class but performs different action then it is called method overloading\n",
        "\n",
        "class shape:\n",
        "\n",
        "  def area(self,a, b=0):\n",
        "    if b==0:\n",
        "      return  3.142*a**2\n",
        "    else:\n",
        "      return a*b\n",
        "\n",
        "\n",
        "  #def area(self, l, b):\n",
        "   # return l*b\n",
        "\n",
        "s = shape()\n",
        "\n",
        "print(s.area(5))  # python dont support methods with same in a class it is possible in java\n",
        "print(s.area(4,5))"
      ],
      "metadata": {
        "colab": {
          "base_uri": "https://localhost:8080/"
        },
        "id": "ayM-_wuoXQvW",
        "outputId": "7c2b8783-399b-44bd-dddf-b80c35103828"
      },
      "execution_count": null,
      "outputs": [
        {
          "output_type": "stream",
          "name": "stdout",
          "text": [
            "78.55\n",
            "20\n"
          ]
        }
      ]
    },
    {
      "cell_type": "code",
      "source": [
        "# Operator overloading\n",
        "\n",
        "# it depends on inputs\n",
        "\n",
        "# same opreator performs different action depending on the input\n",
        "\n",
        "# example\n",
        "\n",
        "# stirng concatenation\n",
        "print(\"hell\" + \"world\")\n",
        "\n",
        "# addition\n",
        "print(4 + 5)\n",
        "\n",
        "# list merging\n",
        "print([1,2,3] + [4,5])"
      ],
      "metadata": {
        "colab": {
          "base_uri": "https://localhost:8080/"
        },
        "id": "61VrI41CXXrJ",
        "outputId": "573c9f8e-b633-4766-fdcb-bf2b470739fd"
      },
      "execution_count": null,
      "outputs": [
        {
          "output_type": "stream",
          "name": "stdout",
          "text": [
            "hellworld\n",
            "9\n",
            "[1, 2, 3, 4, 5]\n"
          ]
        }
      ]
    },
    {
      "cell_type": "code",
      "source": [],
      "metadata": {
        "id": "ySGDYfEVXuA_"
      },
      "execution_count": null,
      "outputs": []
    }
  ]
}