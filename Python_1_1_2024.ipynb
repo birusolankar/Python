{
  "nbformat": 4,
  "nbformat_minor": 0,
  "metadata": {
    "colab": {
      "provenance": [],
      "authorship_tag": "ABX9TyNgSken88An6BuYHolB/WBy",
      "include_colab_link": true
    },
    "kernelspec": {
      "name": "python3",
      "display_name": "Python 3"
    },
    "language_info": {
      "name": "python"
    }
  },
  "cells": [
    {
      "cell_type": "markdown",
      "metadata": {
        "id": "view-in-github",
        "colab_type": "text"
      },
      "source": [
        "<a href=\"https://colab.research.google.com/github/birusolankar/Python/blob/main/Python_1_1_2024.ipynb\" target=\"_parent\"><img src=\"https://colab.research.google.com/assets/colab-badge.svg\" alt=\"Open In Colab\"/></a>"
      ]
    },
    {
      "cell_type": "code",
      "execution_count": null,
      "metadata": {
        "id": "2HOcpYLT9VBO"
      },
      "outputs": [],
      "source": [
        "L = [1,2,3,4,5]"
      ]
    },
    {
      "cell_type": "code",
      "source": [
        "for i in L:\n",
        "  print(i**2)"
      ],
      "metadata": {
        "colab": {
          "base_uri": "https://localhost:8080/"
        },
        "id": "JkpcFuyr22mm",
        "outputId": "afefaf46-00e0-4a35-8658-ce370fc11ebe"
      },
      "execution_count": null,
      "outputs": [
        {
          "output_type": "stream",
          "name": "stdout",
          "text": [
            "1\n",
            "4\n",
            "9\n",
            "16\n",
            "25\n"
          ]
        }
      ]
    },
    {
      "cell_type": "code",
      "source": [
        "string = 'Hell bahi how you are feeling'"
      ],
      "metadata": {
        "id": "KKX5yoid27_s"
      },
      "execution_count": null,
      "outputs": []
    },
    {
      "cell_type": "code",
      "source": [
        "num = int(input(\"enter the number\"))\n",
        "\n",
        "if num%num == 0 :\n",
        "  print(\"\")"
      ],
      "metadata": {
        "id": "PRBW99y7I47x"
      },
      "execution_count": null,
      "outputs": []
    },
    {
      "cell_type": "code",
      "source": [
        "def is_prime(number):\n",
        "    # Check if the number is less than 2 (not a prime number)\n",
        "    if number < 2:\n",
        "        return False\n",
        "\n",
        "    # Check for factors from 2 to the square root of the number\n",
        "    for i in range(2, int(number**0.5) + 1):\n",
        "        if number % i == 0:\n",
        "            return False  # Found a factor, not a prime number\n",
        "\n",
        "    return True  # No factors found, it's a prime number\n",
        "\n",
        "# Example usage\n",
        "num = int(input(\"Enter a number: \"))\n",
        "\n",
        "if is_prime(num):\n",
        "    print(f\"{num} is a prime number.\")\n",
        "else:\n",
        "    print(f\"{num} is not a prime number.\")"
      ],
      "metadata": {
        "colab": {
          "base_uri": "https://localhost:8080/"
        },
        "id": "fjMuyO2UPItx",
        "outputId": "ea024a64-9d05-4f1f-fbad-2a73454d9847"
      },
      "execution_count": null,
      "outputs": [
        {
          "output_type": "stream",
          "name": "stdout",
          "text": [
            "Enter a number: 15\n",
            "15 is not a prime number.\n"
          ]
        }
      ]
    },
    {
      "cell_type": "code",
      "source": [
        "number = int(input(\"enter the number: \"))\n",
        "\n",
        "flag = False\n",
        "\n",
        "if number == 1:\n",
        "  print(\"number is not prime number\")\n",
        "\n",
        "elif\n",
        "\n"
      ],
      "metadata": {
        "colab": {
          "base_uri": "https://localhost:8080/"
        },
        "id": "zvSc864bPJmM",
        "outputId": "31f1e82b-befc-42e4-c843-0f331db1ca10"
      },
      "execution_count": null,
      "outputs": [
        {
          "output_type": "stream",
          "name": "stdout",
          "text": [
            "enter the number: 11\n",
            "given number is prime number\n",
            "given number is prime number\n"
          ]
        }
      ]
    },
    {
      "cell_type": "code",
      "source": [
        "number = int(input(\"enter the number: \"))\n",
        "\n",
        "for i in range(2, number):\n",
        "  if number < 2:\n",
        "    print(\"number is not prime number\")\n",
        "  elif number%i == 0:\n",
        "    print(\"number is not prime number\")\n",
        "    break\n",
        "  else:\n",
        "    print(\"number is prime number\")"
      ],
      "metadata": {
        "colab": {
          "base_uri": "https://localhost:8080/"
        },
        "id": "-gi4EwcbPcle",
        "outputId": "93506cad-4bc7-47a5-df6a-e09e9776d42b"
      },
      "execution_count": null,
      "outputs": [
        {
          "output_type": "stream",
          "name": "stdout",
          "text": [
            "enter the number: 21\n",
            "number is prime number\n",
            "number is not prime number\n"
          ]
        }
      ]
    },
    {
      "cell_type": "code",
      "source": [
        "# Program to check if a number is prime or not\n",
        "\n",
        "# num = 29\n",
        "\n",
        "# To take input from the user\n",
        "num = int(input(\"Enter a number: \"))\n",
        "\n",
        "# define a flag variable\n",
        "flag = False\n",
        "\n",
        "if num == 1:\n",
        "    print(num, \"is not a prime number\")\n",
        "elif num > 1:\n",
        "    # check for factors\n",
        "    for i in range(2, num):\n",
        "        if (num % i) == 0:\n",
        "            # if factor is found, set flag to True\n",
        "            flag = True\n",
        "            # break out of loop\n",
        "            break\n",
        "\n",
        "    # check if flag is True\n",
        "    if flag:\n",
        "        print(num, \"is not a prime number\")\n",
        "    else:\n",
        "        print(num, \"is a prime number\")\n"
      ],
      "metadata": {
        "colab": {
          "base_uri": "https://localhost:8080/"
        },
        "id": "AUeskoV-C7m2",
        "outputId": "ed06d644-f6bf-4a00-e932-b642677f1b5d"
      },
      "execution_count": null,
      "outputs": [
        {
          "output_type": "stream",
          "name": "stdout",
          "text": [
            "Enter a number: 31\n",
            "31 is a prime number\n"
          ]
        }
      ]
    },
    {
      "cell_type": "code",
      "source": [
        "n = int(input(\"enter the number : \"))\n",
        "\n",
        "flag = True # it assumned that number is prime number\n",
        "\n",
        "if n <= 1:\n",
        "  print(\"number is not prime number\")\n",
        "elif n > 1:\n",
        "  # check for factors\n",
        "  for i in range(2,n):\n",
        "    if n%i == 0:\n",
        "      # if factor is found set falg is true\n",
        "      flag = False\n",
        "      break\n",
        "\n",
        "# check if flag is true\n",
        "\n",
        "if flag:\n",
        "  print(n,\"is prime number\")\n",
        "else:\n",
        "  print(n,\"is not prime number\")\n"
      ],
      "metadata": {
        "colab": {
          "base_uri": "https://localhost:8080/"
        },
        "id": "40uugFX7EAtA",
        "outputId": "087a33a7-9cd6-46a5-ac8d-cf03e2f8ac9c"
      },
      "execution_count": null,
      "outputs": [
        {
          "output_type": "stream",
          "name": "stdout",
          "text": [
            "enter the number : 25\n",
            "25 is not prime number\n"
          ]
        }
      ]
    },
    {
      "cell_type": "code",
      "source": [
        "# flag variable example\n",
        "\n",
        "# check whether given number is prime number or not\n",
        "\n",
        "number = int(input(\"enter the number : \"))\n",
        "\n",
        "# set flag true -- assumes that given number is prime number\n",
        "flag = True\n",
        "\n",
        "if number <= 1:\n",
        "  print(\"number is not prime number\")\n",
        "\n",
        "elif number > 1:\n",
        "  #check for factors\n",
        "  for i in range(2,number):\n",
        "    if number%i == 0:\n",
        "      flag = False\n",
        "      break\n",
        "\n",
        "if flag:\n",
        "  print(number,\"iss prime number\")\n",
        "else:\n",
        "  print(number,\"is not prime number\")"
      ],
      "metadata": {
        "colab": {
          "base_uri": "https://localhost:8080/"
        },
        "id": "d0csKMXPayqi",
        "outputId": "614b53ca-f734-451b-cfac-f5f625434cac"
      },
      "execution_count": null,
      "outputs": [
        {
          "output_type": "stream",
          "name": "stdout",
          "text": [
            "enter the number : 31\n",
            "31 iss prime number\n"
          ]
        }
      ]
    },
    {
      "cell_type": "code",
      "source": [
        "# check whether given number is odd or even\n",
        "\n",
        "number = int(input(\"enter the number : \"))\n",
        "\n",
        "flag = True # assume given number is even number\n",
        "\n",
        "if number % 2 ==0:\n",
        "  flag = True\n",
        "else:\n",
        "  flag = False\n",
        "\n",
        "if flag:\n",
        "  print(number,\"is even number\")\n",
        "else:\n",
        "  print(number,\"is odd number\")"
      ],
      "metadata": {
        "colab": {
          "base_uri": "https://localhost:8080/"
        },
        "id": "dAPn3zKTfYvP",
        "outputId": "2bf7689f-744b-47a3-b800-76e1ef39293a"
      },
      "execution_count": null,
      "outputs": [
        {
          "output_type": "stream",
          "name": "stdout",
          "text": [
            "enter the number : 32\n",
            "32 is even number\n"
          ]
        }
      ]
    },
    {
      "cell_type": "code",
      "source": [
        "# method over writing nad method over loading in class\n",
        "\n",
        "class Phone:\n",
        "\n",
        "  def __init__(self, brand, price, os):\n",
        "    self.brand = brand\n",
        "    self.price = price\n",
        "    self.os = os\n",
        "\n",
        "  def get_price(self):\n",
        "    print(\"price of the mobile is\", self.price)\n",
        "\n",
        "class SmartPhone(Phone):\n",
        "  def __int__(self, brand, price, os):\n",
        "    super.__init__(self, brand, price, os)\n",
        "\n",
        "  def get_price(self):\n",
        "    print(\"price of the mobile is\", self.price)\n"
      ],
      "metadata": {
        "id": "XyxIsdNygNof"
      },
      "execution_count": null,
      "outputs": []
    },
    {
      "cell_type": "code",
      "source": [
        "p1 = Phone('samsung', 120000, 'android')\n",
        "s1 = SmartPhone('apple', 150000, 'android')"
      ],
      "metadata": {
        "id": "OC_8eRsbEUmO"
      },
      "execution_count": null,
      "outputs": []
    },
    {
      "cell_type": "code",
      "source": [
        "#p1.get_price()\n",
        "s1.get_price()"
      ],
      "metadata": {
        "colab": {
          "base_uri": "https://localhost:8080/"
        },
        "id": "GbmcNKhdEbq7",
        "outputId": "c42177a2-8ef4-489c-ca23-d54138752345"
      },
      "execution_count": null,
      "outputs": [
        {
          "output_type": "stream",
          "name": "stdout",
          "text": [
            "price of the mobile is 150000\n"
          ]
        }
      ]
    },
    {
      "cell_type": "code",
      "source": [
        "class Employee:\n",
        "\n",
        "  def __init__(self, name, salary, email):\n",
        "    print(\"inside the parent class constructor\")\n",
        "    self.name = name\n",
        "    self.salary = salary\n",
        "    self.email = email\n",
        "\n",
        "  def emp_details(self):\n",
        "    print(\"emp name is\", self.name)\n",
        "    print(\"emp salary is\", self.salary)\n",
        "    print(\"emp email is\", self.email)\n",
        "\n",
        "class Department(Employee):\n",
        "\n",
        "  def __init__(self, name, salary, email, dept_name, occupation):\n",
        "    print(\"inside the child class constructor\")\n",
        "    super().__init__(name, salary, email)\n",
        "    self.dept_name = dept_name\n",
        "    self.occupation = occupation\n",
        "\n"
      ],
      "metadata": {
        "id": "N-vDZ4IrEeKh"
      },
      "execution_count": null,
      "outputs": []
    },
    {
      "cell_type": "code",
      "source": [],
      "metadata": {
        "id": "6H-nFgYif1t3"
      },
      "execution_count": null,
      "outputs": []
    },
    {
      "cell_type": "code",
      "source": [
        "d = Department('biru', 25000, 'annabond@4279', 'Adminstration', 'data analysis')"
      ],
      "metadata": {
        "colab": {
          "base_uri": "https://localhost:8080/"
        },
        "id": "6QbH95vjI-rc",
        "outputId": "8a751722-5949-437c-e878-4867a98b4a09"
      },
      "execution_count": null,
      "outputs": [
        {
          "output_type": "stream",
          "name": "stdout",
          "text": [
            "inside the child class constructor\n",
            "inside the parent class constructor\n"
          ]
        }
      ]
    },
    {
      "cell_type": "code",
      "source": [
        "class Phone:\n",
        "\n",
        "  def __init__(self, brand, price, camera):\n",
        "    print(\"inside the parent class constructor\")\n",
        "    self.brand = brand\n",
        "    self.price = price\n",
        "    self.camera = camera\n",
        "\n",
        "\n",
        "  def get_price(self):\n",
        "    print(\"price of the phone is\", self.price)\n",
        "\n",
        "class SmartPhone(Phone):\n",
        "  def __init__(self, brand, price, camera, ram, os):\n",
        "    print(\"inside the child class constrctor\")\n",
        "    super().__init__(brand, price, camera)\n",
        "    self.ram = ram\n",
        "    self.os = os\n",
        "\n",
        "  def get_price(self):\n",
        "    super().get_price()\n"
      ],
      "metadata": {
        "id": "csrISJ_OJLJ9"
      },
      "execution_count": null,
      "outputs": []
    },
    {
      "cell_type": "code",
      "source": [
        "p1 = Phone('samsung', 25000, '50mp')\n",
        "s1 = SmartPhone('apple', 50000, '100MP', '16GB', 'android')"
      ],
      "metadata": {
        "colab": {
          "base_uri": "https://localhost:8080/"
        },
        "id": "4BaYpjV-gH8Z",
        "outputId": "0de9230b-0178-4663-a8e6-60fc566306a2"
      },
      "execution_count": null,
      "outputs": [
        {
          "output_type": "stream",
          "name": "stdout",
          "text": [
            "inside the parent class constructor\n",
            "inside the child class constrctor\n",
            "inside the parent class constructor\n"
          ]
        }
      ]
    },
    {
      "cell_type": "code",
      "source": [
        "s1.get_price()"
      ],
      "metadata": {
        "colab": {
          "base_uri": "https://localhost:8080/"
        },
        "id": "xgtNZmvUj-aM",
        "outputId": "26871b4a-5c87-4492-a8b3-688c17d8b4b9"
      },
      "execution_count": null,
      "outputs": [
        {
          "output_type": "stream",
          "name": "stdout",
          "text": [
            "price of the phone is 50000\n"
          ]
        }
      ]
    },
    {
      "cell_type": "code",
      "source": [
        "L = [1,2,3,4,5]"
      ],
      "metadata": {
        "id": "6ve0iVlZkoYa"
      },
      "execution_count": null,
      "outputs": []
    },
    {
      "cell_type": "code",
      "source": [],
      "metadata": {
        "id": "xWAgy8lql-x9"
      },
      "execution_count": null,
      "outputs": []
    },
    {
      "cell_type": "code",
      "source": [
        "1 + 'a'"
      ],
      "metadata": {
        "colab": {
          "base_uri": "https://localhost:8080/",
          "height": 177
        },
        "id": "A-F5PW7umAVP",
        "outputId": "942d9fb8-2ec4-4b81-dd9c-4bc682511499"
      },
      "execution_count": null,
      "outputs": [
        {
          "output_type": "error",
          "ename": "TypeError",
          "evalue": "unsupported operand type(s) for +: 'int' and 'str'",
          "traceback": [
            "\u001b[0;31m---------------------------------------------------------------------------\u001b[0m",
            "\u001b[0;31mTypeError\u001b[0m                                 Traceback (most recent call last)",
            "\u001b[0;32m<ipython-input-34-abf63472aed8>\u001b[0m in \u001b[0;36m<cell line: 1>\u001b[0;34m()\u001b[0m\n\u001b[0;32m----> 1\u001b[0;31m \u001b[0;36m1\u001b[0m \u001b[0;34m+\u001b[0m \u001b[0;34m'a'\u001b[0m\u001b[0;34m\u001b[0m\u001b[0;34m\u001b[0m\u001b[0m\n\u001b[0m",
            "\u001b[0;31mTypeError\u001b[0m: unsupported operand type(s) for +: 'int' and 'str'"
          ]
        }
      ]
    },
    {
      "cell_type": "code",
      "source": [],
      "metadata": {
        "id": "S4kpbQklmFXi"
      },
      "execution_count": null,
      "outputs": []
    }
  ]
}