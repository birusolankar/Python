{
  "nbformat": 4,
  "nbformat_minor": 0,
  "metadata": {
    "colab": {
      "provenance": [],
      "authorship_tag": "ABX9TyMcDohBeWSWlVGx4DO9TVac",
      "include_colab_link": true
    },
    "kernelspec": {
      "name": "python3",
      "display_name": "Python 3"
    },
    "language_info": {
      "name": "python"
    }
  },
  "cells": [
    {
      "cell_type": "markdown",
      "metadata": {
        "id": "view-in-github",
        "colab_type": "text"
      },
      "source": [
        "<a href=\"https://colab.research.google.com/github/birusolankar/Python/blob/main/pyton4_12_2023.ipynb\" target=\"_parent\"><img src=\"https://colab.research.google.com/assets/colab-badge.svg\" alt=\"Open In Colab\"/></a>"
      ]
    },
    {
      "cell_type": "code",
      "execution_count": null,
      "metadata": {
        "colab": {
          "base_uri": "https://localhost:8080/"
        },
        "id": "hwUrxQLjtdhL",
        "outputId": "2350c1c7-448d-4709-cbb6-2763cb7dc5cd"
      },
      "outputs": [
        {
          "output_type": "stream",
          "name": "stdout",
          "text": [
            "hello world\n"
          ]
        }
      ],
      "source": [
        "print('hello world')"
      ]
    },
    {
      "cell_type": "code",
      "source": [
        "class Phone():\n",
        "  # parent class\n",
        "  def __init__(self, price, brand, camera):\n",
        "    self.price= price\n",
        "    self.brand= brand\n",
        "    self.camera= camera\n",
        "\n",
        "  def buy(self):\n",
        "    print(\"buying a phone\")\n",
        "# child class\n",
        "\n",
        "class SmartPhone(Phone):\n",
        "  pass"
      ],
      "metadata": {
        "id": "ofRS8QGnveTD"
      },
      "execution_count": null,
      "outputs": []
    },
    {
      "cell_type": "code",
      "source": [
        "s = SmartPhone(20000, 'samsung', 15)"
      ],
      "metadata": {
        "id": "K5qciK96wr0x"
      },
      "execution_count": null,
      "outputs": []
    },
    {
      "cell_type": "code",
      "source": [
        "s.brand"
      ],
      "metadata": {
        "colab": {
          "base_uri": "https://localhost:8080/",
          "height": 35
        },
        "id": "IrPasw03w4_K",
        "outputId": "d3709094-755c-49e0-aef2-23a32d22e9e8"
      },
      "execution_count": null,
      "outputs": [
        {
          "output_type": "execute_result",
          "data": {
            "text/plain": [
              "'samsung'"
            ],
            "application/vnd.google.colaboratory.intrinsic+json": {
              "type": "string"
            }
          },
          "metadata": {},
          "execution_count": 10
        }
      ]
    },
    {
      "cell_type": "code",
      "source": [
        "obj = Phone(50000, 'Apple', 15)"
      ],
      "metadata": {
        "id": "H1sjNCUzw84q"
      },
      "execution_count": null,
      "outputs": []
    },
    {
      "cell_type": "code",
      "source": [
        "obj.buy()"
      ],
      "metadata": {
        "colab": {
          "base_uri": "https://localhost:8080/"
        },
        "id": "KVMqtSwTxHy7",
        "outputId": "4ab948a2-d5ca-4518-a513-5ba3a033004f"
      },
      "execution_count": null,
      "outputs": [
        {
          "output_type": "stream",
          "name": "stdout",
          "text": [
            "buying a phone\n"
          ]
        }
      ]
    },
    {
      "cell_type": "code",
      "source": [
        "obj.brand"
      ],
      "metadata": {
        "colab": {
          "base_uri": "https://localhost:8080/",
          "height": 35
        },
        "id": "Ou3BjzyMxKUr",
        "outputId": "e707d822-71e5-4ff5-a1e5-e62a9dc4ec64"
      },
      "execution_count": null,
      "outputs": [
        {
          "output_type": "execute_result",
          "data": {
            "text/plain": [
              "'Apple'"
            ],
            "application/vnd.google.colaboratory.intrinsic+json": {
              "type": "string"
            }
          },
          "metadata": {},
          "execution_count": 13
        }
      ]
    },
    {
      "cell_type": "code",
      "source": [
        "obj.price"
      ],
      "metadata": {
        "colab": {
          "base_uri": "https://localhost:8080/"
        },
        "id": "E-SMz00MxS8q",
        "outputId": "c6b63e76-9d32-4ae9-9052-2e228870c647"
      },
      "execution_count": null,
      "outputs": [
        {
          "output_type": "execute_result",
          "data": {
            "text/plain": [
              "50000"
            ]
          },
          "metadata": {},
          "execution_count": 14
        }
      ]
    },
    {
      "cell_type": "code",
      "source": [
        "class Phone():\n",
        "\n",
        "# parent class\n",
        "  def __init__(self, brand, price, camera):\n",
        "    self.brand = brand\n",
        "    self.price = price\n",
        "    self.camera = camera\n",
        "\n",
        "  def buy(self):\n",
        "    print(\"buying a new pone\")\n",
        "\n",
        "# child class\n",
        "\n",
        "class SmartPhone(Phone):\n",
        "\n",
        "  def __init__(self, brand, price, camera, os, ram):\n",
        "    super().__init__(brand, price, camera)\n",
        "    self.os = os\n",
        "    self.ram = ram\n",
        "\n",
        "  def configuration(self):\n",
        "    print('configuration of new phone is here')"
      ],
      "metadata": {
        "id": "7U-gVoW7xWEr"
      },
      "execution_count": null,
      "outputs": []
    },
    {
      "cell_type": "code",
      "source": [
        "s = SmartPhone('Apple', 50000, 15, 'Android', '12GB')"
      ],
      "metadata": {
        "id": "NRsWx5oXyWOr"
      },
      "execution_count": null,
      "outputs": []
    },
    {
      "cell_type": "code",
      "source": [
        "s.brand"
      ],
      "metadata": {
        "colab": {
          "base_uri": "https://localhost:8080/",
          "height": 35
        },
        "id": "VGk1qyevy0cb",
        "outputId": "e4313605-d03f-4552-eb74-68b8649f999a"
      },
      "execution_count": null,
      "outputs": [
        {
          "output_type": "execute_result",
          "data": {
            "text/plain": [
              "'Apple'"
            ],
            "application/vnd.google.colaboratory.intrinsic+json": {
              "type": "string"
            }
          },
          "metadata": {},
          "execution_count": 17
        }
      ]
    },
    {
      "cell_type": "code",
      "source": [
        "s.os"
      ],
      "metadata": {
        "colab": {
          "base_uri": "https://localhost:8080/",
          "height": 35
        },
        "id": "nRWPZDcG0oqr",
        "outputId": "8918cf70-63b7-40af-d4ed-1e9518fa3e03"
      },
      "execution_count": null,
      "outputs": [
        {
          "output_type": "execute_result",
          "data": {
            "text/plain": [
              "'Android'"
            ],
            "application/vnd.google.colaboratory.intrinsic+json": {
              "type": "string"
            }
          },
          "metadata": {},
          "execution_count": 18
        }
      ]
    },
    {
      "cell_type": "code",
      "source": [
        "# constructor overriding\n",
        "\n",
        "class Phone():\n",
        "\n",
        "  def __init__(self, price, brand, camera):\n",
        "    self.price = price\n",
        "    self.brand = brand\n",
        "    self.camera = camera\n",
        "\n",
        "  def buy(self):\n",
        "    print(\"Buying a phone\")\n",
        "\n",
        "\n",
        "class SmartPhone(Phone):\n",
        "\n",
        "  def buy(self):\n",
        "    print('Buying a smartphone')\n",
        "\n",
        "    super().buy()"
      ],
      "metadata": {
        "id": "6s341NWz0rQq"
      },
      "execution_count": null,
      "outputs": []
    },
    {
      "cell_type": "code",
      "source": [
        "s = SmartPhone(50000, 'Apple', 50)"
      ],
      "metadata": {
        "id": "s3eoBtub3hRF"
      },
      "execution_count": null,
      "outputs": []
    },
    {
      "cell_type": "code",
      "source": [
        "s.buy()"
      ],
      "metadata": {
        "colab": {
          "base_uri": "https://localhost:8080/"
        },
        "id": "IoRQKbOT3p5Z",
        "outputId": "40f0e06c-4899-4b2a-f9ac-7f16a56fb9ac"
      },
      "execution_count": null,
      "outputs": [
        {
          "output_type": "stream",
          "name": "stdout",
          "text": [
            "Buying a smartphone\n",
            "Buying a phone\n"
          ]
        }
      ]
    },
    {
      "cell_type": "code",
      "source": [
        "# constructor overriding\n",
        "\n",
        "class Phone():\n",
        "\n",
        "  def __init__(self, brand, price, camera):\n",
        "    print(\"Inside the parent class constructor\")\n",
        "    self.brand = brand\n",
        "    self.price = price\n",
        "    self.camera = camera\n",
        "\n",
        "  def buy(self):\n",
        "    print(\"buying a phone\")\n",
        "\n",
        "class SmartPhone(Phone):\n",
        "\n",
        "  def __init__(self, brand, price, camera, os, ram):\n",
        "    print(\"Inside the child class constructor\")\n",
        "    super().__init__(brand, price, camera)\n",
        "    self.brand = brand\n",
        "    self.price = price\n",
        "    self.camera = camera\n",
        "    self.os = os\n",
        "    self.ram = ram\n",
        "\n",
        "  def buy(self):\n",
        "    print(\"Buying a smartphone\")\n",
        "\n",
        "    super().buy()"
      ],
      "metadata": {
        "id": "Yi3XvrTn3yU-"
      },
      "execution_count": null,
      "outputs": []
    },
    {
      "cell_type": "code",
      "source": [
        "s = SmartPhone(\"Apple\", 50000, 50, \"android\", 12)"
      ],
      "metadata": {
        "colab": {
          "base_uri": "https://localhost:8080/"
        },
        "id": "UvCgGs-I5nIm",
        "outputId": "a0b4b8b7-ab24-42fd-aa32-ac23816147a9"
      },
      "execution_count": null,
      "outputs": [
        {
          "output_type": "stream",
          "name": "stdout",
          "text": [
            "Inside the child class constructor\n",
            "Inside the parent class constructor\n"
          ]
        }
      ]
    },
    {
      "cell_type": "code",
      "source": [
        "s.buy()"
      ],
      "metadata": {
        "colab": {
          "base_uri": "https://localhost:8080/"
        },
        "id": "yyqTnsOB5vUb",
        "outputId": "cc34fb51-1d8a-4c1f-ef29-b330e5e723ad"
      },
      "execution_count": null,
      "outputs": [
        {
          "output_type": "stream",
          "name": "stdout",
          "text": [
            "Buying a smartphone\n",
            "buying a phone\n"
          ]
        }
      ]
    },
    {
      "cell_type": "code",
      "source": [
        "s.brand"
      ],
      "metadata": {
        "colab": {
          "base_uri": "https://localhost:8080/",
          "height": 35
        },
        "id": "LagLB5m_507p",
        "outputId": "b7be65f0-c598-4d8d-bb62-d7b66e22f033"
      },
      "execution_count": null,
      "outputs": [
        {
          "output_type": "execute_result",
          "data": {
            "text/plain": [
              "'Apple'"
            ],
            "application/vnd.google.colaboratory.intrinsic+json": {
              "type": "string"
            }
          },
          "metadata": {},
          "execution_count": 25
        }
      ]
    },
    {
      "cell_type": "code",
      "source": [
        "students = [\n",
        "    {\"name\": \"Biru\",\n",
        "    \"occupation\":\"data scientist\",\n",
        "    \"salary\":30000},\n",
        "    {\"name\":\"Arjun\",\n",
        "     \"occupation\":\"data analyst\",\n",
        "     \"salary\":35000},\n",
        "    {\"name\":\"Vikram\",\n",
        "     \"occupation\":\"human resource management\",\n",
        "     \"salary\":40000}\n",
        "]"
      ],
      "metadata": {
        "id": "yh7Ks8iy6rBa"
      },
      "execution_count": null,
      "outputs": []
    },
    {
      "cell_type": "code",
      "source": [
        "students"
      ],
      "metadata": {
        "colab": {
          "base_uri": "https://localhost:8080/"
        },
        "id": "bupmzp3ndRGC",
        "outputId": "b0b1632b-6dc9-426e-8984-e6964ddafe6f"
      },
      "execution_count": null,
      "outputs": [
        {
          "output_type": "execute_result",
          "data": {
            "text/plain": [
              "[{'name': 'Biru', 'occupation': 'data scientist', 'salary': 30000},\n",
              " {'name': 'Arjun', 'occupation': 'data analyst', 'salary': 35000},\n",
              " {'name': 'Vikram',\n",
              "  'occupation': 'human resource management',\n",
              "  'salary': 40000}]"
            ]
          },
          "metadata": {},
          "execution_count": 27
        }
      ]
    },
    {
      "cell_type": "code",
      "source": [
        "for i in students:\n",
        "  print(i['name'])"
      ],
      "metadata": {
        "colab": {
          "base_uri": "https://localhost:8080/"
        },
        "id": "ZBxQCZ7WdZGH",
        "outputId": "78ea09a5-1f57-4bac-a5b4-bbd56594ea76"
      },
      "execution_count": null,
      "outputs": [
        {
          "output_type": "stream",
          "name": "stdout",
          "text": [
            "Biru\n",
            "Arjun\n",
            "Vikram\n"
          ]
        }
      ]
    },
    {
      "cell_type": "code",
      "source": [
        "list(map(lambda name: name['name'], students))"
      ],
      "metadata": {
        "colab": {
          "base_uri": "https://localhost:8080/"
        },
        "id": "p54oAbMlfLP8",
        "outputId": "2e6913bd-df0c-4aea-81e8-9bb128caf75d"
      },
      "execution_count": null,
      "outputs": [
        {
          "output_type": "execute_result",
          "data": {
            "text/plain": [
              "['Biru', 'Arjun', 'Vikram']"
            ]
          },
          "metadata": {},
          "execution_count": 29
        }
      ]
    },
    {
      "cell_type": "code",
      "source": [
        "list(map(lambda name: name, students))"
      ],
      "metadata": {
        "colab": {
          "base_uri": "https://localhost:8080/"
        },
        "id": "Ps2grc_nfbe8",
        "outputId": "1eadf014-b3d2-4946-815d-7fc9baa37970"
      },
      "execution_count": null,
      "outputs": [
        {
          "output_type": "execute_result",
          "data": {
            "text/plain": [
              "[{'name': 'Biru', 'occupation': 'data scientist', 'salary': 30000},\n",
              " {'name': 'Arjun', 'occupation': 'data analyst', 'salary': 35000},\n",
              " {'name': 'Vikram',\n",
              "  'occupation': 'human resource management',\n",
              "  'salary': 40000}]"
            ]
          },
          "metadata": {},
          "execution_count": 30
        }
      ]
    },
    {
      "cell_type": "code",
      "source": [
        "list(filter(lambda salary: salary['salary']> 30000, students))"
      ],
      "metadata": {
        "colab": {
          "base_uri": "https://localhost:8080/"
        },
        "id": "sQdwL2VnfiMs",
        "outputId": "5f68a981-4d62-41d9-8dc8-5205b4f8f500"
      },
      "execution_count": null,
      "outputs": [
        {
          "output_type": "execute_result",
          "data": {
            "text/plain": [
              "[{'name': 'Arjun', 'occupation': 'data analyst', 'salary': 35000},\n",
              " {'name': 'Vikram',\n",
              "  'occupation': 'human resource management',\n",
              "  'salary': 40000}]"
            ]
          },
          "metadata": {},
          "execution_count": 31
        }
      ]
    },
    {
      "cell_type": "code",
      "source": [
        "list(filter(lambda first_name: first_name['name'][0] == 'A', students))"
      ],
      "metadata": {
        "colab": {
          "base_uri": "https://localhost:8080/"
        },
        "id": "ZStg6L3dfxjl",
        "outputId": "16a9b06d-e854-46ed-fe4e-538cad467ec0"
      },
      "execution_count": null,
      "outputs": [
        {
          "output_type": "execute_result",
          "data": {
            "text/plain": [
              "[{'name': 'Arjun', 'occupation': 'data analyst', 'salary': 35000}]"
            ]
          },
          "metadata": {},
          "execution_count": 33
        }
      ]
    },
    {
      "cell_type": "code",
      "source": [
        "# create a function with docstring\n",
        "\n",
        "def is_even(num):\n",
        "\n",
        "  \"\"\"this function takes any int as input and returns whether that\n",
        "  number is odd/even\n",
        "  created on - 4/12/2023\"\"\"\n",
        "  if num%2 == 0:\n",
        "    return 'even'\n",
        "  else :\n",
        "    return 'odd'"
      ],
      "metadata": {
        "id": "Pgleb_kK08_n"
      },
      "execution_count": null,
      "outputs": []
    },
    {
      "cell_type": "code",
      "source": [
        "# now calling a function\n",
        "for i in range(1,11):\n",
        "  x = is_even(i)\n",
        "  print(x)"
      ],
      "metadata": {
        "colab": {
          "base_uri": "https://localhost:8080/"
        },
        "id": "JupdCP7O8Pm-",
        "outputId": "0c95705e-5fb6-4db9-cb42-c88fb84ba213"
      },
      "execution_count": null,
      "outputs": [
        {
          "output_type": "stream",
          "name": "stdout",
          "text": [
            "odd\n",
            "even\n",
            "odd\n",
            "even\n",
            "odd\n",
            "even\n",
            "odd\n",
            "even\n",
            "odd\n",
            "even\n"
          ]
        }
      ]
    },
    {
      "cell_type": "code",
      "source": [
        "# types of arguments"
      ],
      "metadata": {
        "id": "KrOdWXef8VrL"
      },
      "execution_count": null,
      "outputs": []
    },
    {
      "cell_type": "markdown",
      "source": [
        "##Types of arguments\n",
        "\n",
        "\n",
        "1.   Default argument\n",
        "2.   Positional argument\n",
        "3.   Keyword arguments\n",
        "4.   *args\n",
        "5.   *kwargs\n",
        "\n"
      ],
      "metadata": {
        "id": "xu1ViQrG1rE_"
      }
    },
    {
      "cell_type": "code",
      "source": [],
      "metadata": {
        "id": "qGLVQtAfAFXY"
      },
      "execution_count": null,
      "outputs": []
    },
    {
      "cell_type": "code",
      "source": [
        "# args\n",
        "def multiply(*args):\n",
        "  product=1\n",
        "\n",
        "  for i in args:\n",
        "    product = product*i\n",
        "\n",
        "  return product"
      ],
      "metadata": {
        "id": "iD4c0lYbAJmI"
      },
      "execution_count": null,
      "outputs": []
    },
    {
      "cell_type": "code",
      "source": [
        "multiply(1,2,3,4,6)"
      ],
      "metadata": {
        "colab": {
          "base_uri": "https://localhost:8080/"
        },
        "id": "R_FR5w09Ad5B",
        "outputId": "0b270750-4eb7-422a-eeff-3ae9676da236"
      },
      "execution_count": null,
      "outputs": [
        {
          "output_type": "execute_result",
          "data": {
            "text/plain": [
              "144"
            ]
          },
          "metadata": {},
          "execution_count": 42
        }
      ]
    },
    {
      "cell_type": "code",
      "source": [],
      "metadata": {
        "id": "gLdrs0U7Ai3I"
      },
      "execution_count": null,
      "outputs": []
    }
  ]
}