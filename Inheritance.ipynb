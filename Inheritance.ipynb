{
  "nbformat": 4,
  "nbformat_minor": 0,
  "metadata": {
    "colab": {
      "provenance": [],
      "authorship_tag": "ABX9TyPj83q6D1/T383BpTIA8VyS",
      "include_colab_link": true
    },
    "kernelspec": {
      "name": "python3",
      "display_name": "Python 3"
    },
    "language_info": {
      "name": "python"
    }
  },
  "cells": [
    {
      "cell_type": "markdown",
      "metadata": {
        "id": "view-in-github",
        "colab_type": "text"
      },
      "source": [
        "<a href=\"https://colab.research.google.com/github/birusolankar/Python/blob/main/Inheritance.ipynb\" target=\"_parent\"><img src=\"https://colab.research.google.com/assets/colab-badge.svg\" alt=\"Open In Colab\"/></a>"
      ]
    },
    {
      "cell_type": "code",
      "execution_count": 42,
      "metadata": {
        "id": "D-Q7TV-8Ouxu"
      },
      "outputs": [],
      "source": [
        "# create a phone class\n",
        "\n",
        "# parent class\n",
        "\n",
        "class Phone:\n",
        "\n",
        "  def __init__(self, brand, price, os):\n",
        "    print(\"I am inside the parent class\")\n",
        "    self.brand = brand\n",
        "    self.price = price\n",
        "    self.os = os\n",
        "\n",
        "  def getprice(self):\n",
        "    return f\"price of the phone is: {self.price }\"\n",
        "\n",
        "  def getbrand(self):\n",
        "    return f\"brand of the phone is: {self.brand}\"\n",
        "\n",
        "  def getos(self):\n",
        "    return f\"os of the phone is: {self.os}\"\n",
        "\n",
        "\n",
        "#child class\n",
        "\n",
        "class SmartPhone(Phone):  # child class inherited consrtuctor and methods from the parent class\n",
        "  pass"
      ]
    },
    {
      "cell_type": "code",
      "source": [
        "p1 = Phone('samsung', 1000, 'android')\n",
        "print(p1.getprice())\n",
        "print(p1.getbrand())\n",
        "print(p1.getos())"
      ],
      "metadata": {
        "colab": {
          "base_uri": "https://localhost:8080/"
        },
        "id": "Csx--NLIPehl",
        "outputId": "eac58dea-07e0-49e5-81a0-3831690d9ff7"
      },
      "execution_count": 43,
      "outputs": [
        {
          "output_type": "stream",
          "name": "stdout",
          "text": [
            "price of the phone is: 1000\n",
            "brand of the phone is: samsung\n",
            "os of the phone is: android\n"
          ]
        }
      ]
    },
    {
      "cell_type": "code",
      "source": [
        "# we can access all the methods of the parent class\n",
        "# since child class inherited methods from the parent class\n",
        "s = SmartPhone('samsung', 1000, 'android')\n",
        "print(s.getprice())\n",
        "print(s.getbrand())\n",
        "print(s.getos())"
      ],
      "metadata": {
        "colab": {
          "base_uri": "https://localhost:8080/"
        },
        "id": "UQUBTY08PkEn",
        "outputId": "bf80e4da-0b87-4a71-de61-62682d1504dc"
      },
      "execution_count": 44,
      "outputs": [
        {
          "output_type": "stream",
          "name": "stdout",
          "text": [
            "price of the phone is: 1000\n",
            "brand of the phone is: samsung\n",
            "os of the phone is: android\n"
          ]
        }
      ]
    },
    {
      "cell_type": "code",
      "source": [
        "# we can access all the non private attributes of the parent class.\n",
        "# since child class inherited constructor from the parent class\n",
        "print(s.brand)\n",
        "print(s.price)\n",
        "print(s.os)"
      ],
      "metadata": {
        "colab": {
          "base_uri": "https://localhost:8080/"
        },
        "id": "ynzHc5hYUReS",
        "outputId": "498b557a-eb63-49f1-e328-87f627b6a5a5"
      },
      "execution_count": 40,
      "outputs": [
        {
          "output_type": "stream",
          "name": "stdout",
          "text": [
            "samsung\n",
            "1000\n",
            "android\n"
          ]
        }
      ]
    },
    {
      "cell_type": "code",
      "source": [
        "# child class with constructor\n",
        "# here child class has its own constructor hence it access its own constructor\n",
        "\n",
        "class SmartPhone(Phone):\n",
        "  def __init__(self, camera, storage):\n",
        "    print(\"I am inside the child class\")\n",
        "    self.camera = camera\n",
        "    self.storage = storage\n",
        "\n",
        "  def getstorage(self):\n",
        "    return f\"storage of the phone is: {self.storage}\""
      ],
      "metadata": {
        "id": "BeZdyq2GSzA8"
      },
      "execution_count": 56,
      "outputs": []
    },
    {
      "cell_type": "code",
      "source": [
        "s1 = SmartPhone('12mp', '128gb')\n",
        "print(s1.getstorage())"
      ],
      "metadata": {
        "colab": {
          "base_uri": "https://localhost:8080/"
        },
        "id": "Osq3zYwCT7pT",
        "outputId": "2038dc1b-dbf5-4142-d8ca-35df0fbd9207"
      },
      "execution_count": 57,
      "outputs": [
        {
          "output_type": "stream",
          "name": "stdout",
          "text": [
            "I am inside the child class\n",
            "storage of the phone is: 128gb\n"
          ]
        }
      ]
    },
    {
      "cell_type": "code",
      "source": [
        "s1.getbrand()"
      ],
      "metadata": {
        "id": "7OohKD3vUFDA",
        "colab": {
          "base_uri": "https://localhost:8080/",
          "height": 263
        },
        "outputId": "89f76dbb-27e7-434a-c13d-8af0e274e1ee"
      },
      "execution_count": 48,
      "outputs": [
        {
          "output_type": "error",
          "ename": "AttributeError",
          "evalue": "'SmartPhone' object has no attribute 'brand'",
          "traceback": [
            "\u001b[0;31m---------------------------------------------------------------------------\u001b[0m",
            "\u001b[0;31mAttributeError\u001b[0m                            Traceback (most recent call last)",
            "\u001b[0;32m<ipython-input-48-d85ec894a78b>\u001b[0m in \u001b[0;36m<cell line: 1>\u001b[0;34m()\u001b[0m\n\u001b[0;32m----> 1\u001b[0;31m \u001b[0ms1\u001b[0m\u001b[0;34m.\u001b[0m\u001b[0mgetbrand\u001b[0m\u001b[0;34m(\u001b[0m\u001b[0;34m)\u001b[0m\u001b[0;34m\u001b[0m\u001b[0;34m\u001b[0m\u001b[0m\n\u001b[0m",
            "\u001b[0;32m<ipython-input-42-81078958f4d6>\u001b[0m in \u001b[0;36mgetbrand\u001b[0;34m(self)\u001b[0m\n\u001b[1;32m     14\u001b[0m \u001b[0;34m\u001b[0m\u001b[0m\n\u001b[1;32m     15\u001b[0m   \u001b[0;32mdef\u001b[0m \u001b[0mgetbrand\u001b[0m\u001b[0;34m(\u001b[0m\u001b[0mself\u001b[0m\u001b[0;34m)\u001b[0m\u001b[0;34m:\u001b[0m\u001b[0;34m\u001b[0m\u001b[0;34m\u001b[0m\u001b[0m\n\u001b[0;32m---> 16\u001b[0;31m     \u001b[0;32mreturn\u001b[0m \u001b[0;34mf\"brand of the phone is: {self.brand}\"\u001b[0m\u001b[0;34m\u001b[0m\u001b[0;34m\u001b[0m\u001b[0m\n\u001b[0m\u001b[1;32m     17\u001b[0m \u001b[0;34m\u001b[0m\u001b[0m\n\u001b[1;32m     18\u001b[0m   \u001b[0;32mdef\u001b[0m \u001b[0mgetos\u001b[0m\u001b[0;34m(\u001b[0m\u001b[0mself\u001b[0m\u001b[0;34m)\u001b[0m\u001b[0;34m:\u001b[0m\u001b[0;34m\u001b[0m\u001b[0;34m\u001b[0m\u001b[0m\n",
            "\u001b[0;31mAttributeError\u001b[0m: 'SmartPhone' object has no attribute 'brand'"
          ]
        }
      ]
    },
    {
      "cell_type": "code",
      "source": [
        "# since child class has its own constructor it has not inherited attributes of the parent class\n",
        "# we have to use super keyword to inherit the attributes from the parent class\n",
        "\n",
        "class SmartPhone(Phone):\n",
        "\n",
        "  def __init__(self, brand, price, os, camera, storage):\n",
        "    super().__init__(brand, price, os)\n",
        "    self.camera = camera\n",
        "    self.storage = storage\n",
        "\n",
        "  def getstorage(self):\n",
        "    print(self.storage)\n",
        "\n",
        "\n"
      ],
      "metadata": {
        "id": "87FoYN6oWAFd"
      },
      "execution_count": 58,
      "outputs": []
    },
    {
      "cell_type": "code",
      "source": [
        "s2 = SmartPhone('iphone', 10000, 'android', '16mp', '256gb')\n"
      ],
      "metadata": {
        "id": "wVhnACQhYLMg"
      },
      "execution_count": 59,
      "outputs": []
    },
    {
      "cell_type": "code",
      "source": [
        "# accessing all the methods of the parent class\n",
        "print(s2.getprice())\n",
        "print(s2.getbrand())\n",
        "print(s2.getos())\n",
        "print(s2.getstorage())"
      ],
      "metadata": {
        "colab": {
          "base_uri": "https://localhost:8080/"
        },
        "id": "hkM67nA-YRaA",
        "outputId": "042c0395-0f8d-4254-babf-17144b441b0c"
      },
      "execution_count": 60,
      "outputs": [
        {
          "output_type": "stream",
          "name": "stdout",
          "text": [
            "price of the phone is: 10000\n",
            "brand of the phone is: iphone\n",
            "os of the phone is: android\n",
            "256gb\n",
            "None\n"
          ]
        }
      ]
    },
    {
      "cell_type": "code",
      "source": [
        "# method overriding in inheritance\n",
        "# we can override the methods of the parent class in the child class\n",
        "\n",
        "class SmartPhone(Phone):\n",
        "\n",
        "  def __init__(self, brand, price, os, camera, storage):\n",
        "    super().__init__(brand, price, os)\n",
        "    self.camera = camera\n",
        "    self.storage = storage\n",
        "\n",
        "  def getprice(self):\n",
        "    return f\"price of the phone is: {self.price + 1000}\"\n"
      ],
      "metadata": {
        "id": "eRI2klxPYPIn"
      },
      "execution_count": 61,
      "outputs": []
    },
    {
      "cell_type": "code",
      "source": [
        "s3 = SmartPhone('iphone', 10000, 'android', '16mp', '256gb')\n"
      ],
      "metadata": {
        "id": "p6bTwKPqaRub"
      },
      "execution_count": 63,
      "outputs": []
    },
    {
      "cell_type": "code",
      "source": [
        "# we can modify the methods as per our requirements\n",
        "print(s3.getprice())"
      ],
      "metadata": {
        "colab": {
          "base_uri": "https://localhost:8080/"
        },
        "id": "5m_AUfYTaU0I",
        "outputId": "ea693e37-e50c-4a19-d1e2-4b468821fbca"
      },
      "execution_count": 64,
      "outputs": [
        {
          "output_type": "stream",
          "name": "stdout",
          "text": [
            "price of the phone is: 11000\n"
          ]
        }
      ]
    },
    {
      "cell_type": "code",
      "source": [
        "# child class can't access the private methods and attributes of the parent class\n",
        "class Employee:\n",
        "\n",
        "  def __init__(self, fname, lname, salary, designation):\n",
        "    self.fname = fname\n",
        "    self.lname = lname\n",
        "    self.__salary = salary\n",
        "    self.__designation = designation\n",
        "\n",
        "  def get_salary(self):\n",
        "    return self.__salary\n",
        "\n",
        "  def get_designation(self):\n",
        "    return self.__designation\n",
        "  def greet(self):\n",
        "    return f\"hello I am {self.fname} {self.lname}\"\n",
        "\n",
        "  def __getsalary(self):\n",
        "    return f\"I am {self.fname} {self.lname} and my salary is {self.__salary}\"\n",
        "\n",
        "  def getdesignation(self):\n",
        "    return f\"I am {self.fname} {self.lname} and my designation is {self.__designation}\"\n",
        "\n",
        "\n",
        "# defining child class\n",
        "\n",
        "class EmployeeAdress(Employee):\n",
        "  pass"
      ],
      "metadata": {
        "id": "GPLen7DpahKJ"
      },
      "execution_count": 23,
      "outputs": []
    },
    {
      "cell_type": "code",
      "source": [
        "e1 = Employee('john', 'doe', 10000, 'manager')\n",
        "print(e1.greet())\n",
        "print(e1.getsalary())\n",
        "print(e1.getdesignation())\n",
        "\n",
        "\n",
        "# accessing the attributes and methods of parent class\n",
        "\n",
        "e2 = EmployeeAdress('Biru', 'Solankar', 15000, 'developer')\n",
        "# object of child class can't access the salary and designation attributes of the parent class and getsalary method\n",
        "#since they are private attributes\n",
        "print(e2.get_designation())\n",
        "print(e2.get_salary())"
      ],
      "metadata": {
        "colab": {
          "base_uri": "https://localhost:8080/",
          "height": 228
        },
        "id": "rpZa6yzAO99g",
        "outputId": "e4955910-eb84-434c-aef3-a6a28fd5d852"
      },
      "execution_count": 24,
      "outputs": [
        {
          "output_type": "stream",
          "name": "stdout",
          "text": [
            "hello I am john doe\n"
          ]
        },
        {
          "output_type": "error",
          "ename": "AttributeError",
          "evalue": "'Employee' object has no attribute 'getsalary'",
          "traceback": [
            "\u001b[0;31m---------------------------------------------------------------------------\u001b[0m",
            "\u001b[0;31mAttributeError\u001b[0m                            Traceback (most recent call last)",
            "\u001b[0;32m<ipython-input-24-2a5566de0acb>\u001b[0m in \u001b[0;36m<cell line: 3>\u001b[0;34m()\u001b[0m\n\u001b[1;32m      1\u001b[0m \u001b[0me1\u001b[0m \u001b[0;34m=\u001b[0m \u001b[0mEmployee\u001b[0m\u001b[0;34m(\u001b[0m\u001b[0;34m'john'\u001b[0m\u001b[0;34m,\u001b[0m \u001b[0;34m'doe'\u001b[0m\u001b[0;34m,\u001b[0m \u001b[0;36m10000\u001b[0m\u001b[0;34m,\u001b[0m \u001b[0;34m'manager'\u001b[0m\u001b[0;34m)\u001b[0m\u001b[0;34m\u001b[0m\u001b[0;34m\u001b[0m\u001b[0m\n\u001b[1;32m      2\u001b[0m \u001b[0mprint\u001b[0m\u001b[0;34m(\u001b[0m\u001b[0me1\u001b[0m\u001b[0;34m.\u001b[0m\u001b[0mgreet\u001b[0m\u001b[0;34m(\u001b[0m\u001b[0;34m)\u001b[0m\u001b[0;34m)\u001b[0m\u001b[0;34m\u001b[0m\u001b[0;34m\u001b[0m\u001b[0m\n\u001b[0;32m----> 3\u001b[0;31m \u001b[0mprint\u001b[0m\u001b[0;34m(\u001b[0m\u001b[0me1\u001b[0m\u001b[0;34m.\u001b[0m\u001b[0mgetsalary\u001b[0m\u001b[0;34m(\u001b[0m\u001b[0;34m)\u001b[0m\u001b[0;34m)\u001b[0m\u001b[0;34m\u001b[0m\u001b[0;34m\u001b[0m\u001b[0m\n\u001b[0m\u001b[1;32m      4\u001b[0m \u001b[0mprint\u001b[0m\u001b[0;34m(\u001b[0m\u001b[0me1\u001b[0m\u001b[0;34m.\u001b[0m\u001b[0mgetdesignation\u001b[0m\u001b[0;34m(\u001b[0m\u001b[0;34m)\u001b[0m\u001b[0;34m)\u001b[0m\u001b[0;34m\u001b[0m\u001b[0;34m\u001b[0m\u001b[0m\n\u001b[1;32m      5\u001b[0m \u001b[0;34m\u001b[0m\u001b[0m\n",
            "\u001b[0;31mAttributeError\u001b[0m: 'Employee' object has no attribute 'getsalary'"
          ]
        }
      ]
    },
    {
      "cell_type": "code",
      "source": [
        "# we can access the private attributes and methods of parent class by using getter and setter method\n",
        "# child class can't access the private methods and attributes of the parent class\n",
        "class Employee:\n",
        "\n",
        "  def __init__(self, fname, lname, salary, designation):\n",
        "    self.fname = fname\n",
        "    self.lname = lname\n",
        "    self.__salary = salary\n",
        "    self.__designation = designation\n",
        "\n",
        "  def get_salary(self):  # using get method we can able to access the private attributes\n",
        "    return self.__salary\n",
        "\n",
        "  def get_designation(self):\n",
        "    return self.__designation\n",
        "  def greet(self):\n",
        "    return f\"hello I am {self.fname} {self.lname}\"\n",
        "\n",
        "  def __getsalary(self):\n",
        "    return f\"I am {self.fname} {self.lname} and my salary is {self.__salary}\"\n",
        "\n",
        "  def getdesignation(self):\n",
        "    return f\"I am {self.fname} {self.lname} and my designation is {self.__designation}\"\n",
        "\n",
        "\n",
        "# defining child class\n",
        "\n",
        "class EmployeeAdress(Employee):\n",
        "  pass"
      ],
      "metadata": {
        "colab": {
          "base_uri": "https://localhost:8080/"
        },
        "id": "G5ZG6fsgPAvt",
        "outputId": "2e62756e-59da-4b88-ac01-9314044fb2cf"
      },
      "execution_count": 16,
      "outputs": [
        {
          "output_type": "execute_result",
          "data": {
            "text/plain": [
              "10000"
            ]
          },
          "metadata": {},
          "execution_count": 16
        }
      ]
    },
    {
      "cell_type": "code",
      "source": [
        "e2 = EmployeeAdress('Salman', 'Khan', 1500000, 'actor')\n",
        "e2.get_salary()"
      ],
      "metadata": {
        "colab": {
          "base_uri": "https://localhost:8080/"
        },
        "id": "_B-DXrJ-QIkT",
        "outputId": "f4497d25-1f1b-47dd-dde2-9e46b40779c8"
      },
      "execution_count": 25,
      "outputs": [
        {
          "output_type": "execute_result",
          "data": {
            "text/plain": [
              "1500000"
            ]
          },
          "metadata": {},
          "execution_count": 25
        }
      ]
    },
    {
      "cell_type": "code",
      "source": [
        "# example1\n",
        "\n",
        "class Parent:\n",
        "\n",
        "  def __init__(self, num):\n",
        "\n",
        "    self.__num  = num\n",
        "\n",
        "  def get_num(self):\n",
        "    return self.__num\n",
        "\n",
        "class Child(Parent):\n",
        "\n",
        "  def show(self):\n",
        "    print(\"Inside the child class\")"
      ],
      "metadata": {
        "id": "89zhXstPUYVZ"
      },
      "execution_count": 29,
      "outputs": []
    },
    {
      "cell_type": "code",
      "source": [
        "c2 = Child(100)\n",
        "\n",
        "c2.show()\n",
        "print(c2.get_num())"
      ],
      "metadata": {
        "colab": {
          "base_uri": "https://localhost:8080/"
        },
        "id": "BRx8AuqUU3D2",
        "outputId": "18afa717-90d3-49ee-99c3-1ed93474522a"
      },
      "execution_count": 30,
      "outputs": [
        {
          "output_type": "stream",
          "name": "stdout",
          "text": [
            "Inside the child class\n",
            "100\n"
          ]
        }
      ]
    },
    {
      "cell_type": "code",
      "source": [
        "#examples2\n",
        "\n",
        "class Parent:\n",
        "\n",
        "  def __init__(self, num):\n",
        "    self.__num = num\n",
        "\n",
        "  def get_num(self):\n",
        "    return self.__num\n",
        "\n",
        "class Child(Parent):\n",
        "\n",
        "  def __init__(self, val, num):\n",
        "    self.__val = val\n",
        "\n",
        "  def get_val(self):\n",
        "    return self.__val"
      ],
      "metadata": {
        "id": "qjhOrosRS0T2"
      },
      "execution_count": 26,
      "outputs": []
    },
    {
      "cell_type": "code",
      "source": [
        "c1 = Child(100,200)\n",
        "print(c1.get_num())  # since parent class constructor has not been executed, hence child class can't access the attribute since it is private\n",
        "print(c1.get_val())"
      ],
      "metadata": {
        "colab": {
          "base_uri": "https://localhost:8080/",
          "height": 297
        },
        "id": "HhIrzBDkT0xl",
        "outputId": "b65d3f6e-ff89-4d03-edc5-c82362431ae5"
      },
      "execution_count": 28,
      "outputs": [
        {
          "output_type": "error",
          "ename": "AttributeError",
          "evalue": "'Child' object has no attribute '_Parent__num'",
          "traceback": [
            "\u001b[0;31m---------------------------------------------------------------------------\u001b[0m",
            "\u001b[0;31mAttributeError\u001b[0m                            Traceback (most recent call last)",
            "\u001b[0;32m<ipython-input-28-5c4102e9c0c6>\u001b[0m in \u001b[0;36m<cell line: 2>\u001b[0;34m()\u001b[0m\n\u001b[1;32m      1\u001b[0m \u001b[0mc1\u001b[0m \u001b[0;34m=\u001b[0m \u001b[0mChild\u001b[0m\u001b[0;34m(\u001b[0m\u001b[0;36m100\u001b[0m\u001b[0;34m,\u001b[0m\u001b[0;36m200\u001b[0m\u001b[0;34m)\u001b[0m\u001b[0;34m\u001b[0m\u001b[0;34m\u001b[0m\u001b[0m\n\u001b[0;32m----> 2\u001b[0;31m \u001b[0mprint\u001b[0m\u001b[0;34m(\u001b[0m\u001b[0mc1\u001b[0m\u001b[0;34m.\u001b[0m\u001b[0mget_num\u001b[0m\u001b[0;34m(\u001b[0m\u001b[0;34m)\u001b[0m\u001b[0;34m)\u001b[0m  \u001b[0;31m# since parent class constructor has not been executed, hence child class can't access the attribute since it is private\u001b[0m\u001b[0;34m\u001b[0m\u001b[0;34m\u001b[0m\u001b[0m\n\u001b[0m\u001b[1;32m      3\u001b[0m \u001b[0mprint\u001b[0m\u001b[0;34m(\u001b[0m\u001b[0mc1\u001b[0m\u001b[0;34m.\u001b[0m\u001b[0mget_val\u001b[0m\u001b[0;34m(\u001b[0m\u001b[0;34m)\u001b[0m\u001b[0;34m)\u001b[0m\u001b[0;34m\u001b[0m\u001b[0;34m\u001b[0m\u001b[0m\n",
            "\u001b[0;32m<ipython-input-26-4d76fa571a90>\u001b[0m in \u001b[0;36mget_num\u001b[0;34m(self)\u001b[0m\n\u001b[1;32m      7\u001b[0m \u001b[0;34m\u001b[0m\u001b[0m\n\u001b[1;32m      8\u001b[0m   \u001b[0;32mdef\u001b[0m \u001b[0mget_num\u001b[0m\u001b[0;34m(\u001b[0m\u001b[0mself\u001b[0m\u001b[0;34m)\u001b[0m\u001b[0;34m:\u001b[0m\u001b[0;34m\u001b[0m\u001b[0;34m\u001b[0m\u001b[0m\n\u001b[0;32m----> 9\u001b[0;31m     \u001b[0;32mreturn\u001b[0m \u001b[0mself\u001b[0m\u001b[0;34m.\u001b[0m\u001b[0m__num\u001b[0m\u001b[0;34m\u001b[0m\u001b[0;34m\u001b[0m\u001b[0m\n\u001b[0m\u001b[1;32m     10\u001b[0m \u001b[0;34m\u001b[0m\u001b[0m\n\u001b[1;32m     11\u001b[0m \u001b[0;32mclass\u001b[0m \u001b[0mChild\u001b[0m\u001b[0;34m(\u001b[0m\u001b[0mParent\u001b[0m\u001b[0;34m)\u001b[0m\u001b[0;34m:\u001b[0m\u001b[0;34m\u001b[0m\u001b[0;34m\u001b[0m\u001b[0m\n",
            "\u001b[0;31mAttributeError\u001b[0m: 'Child' object has no attribute '_Parent__num'"
          ]
        }
      ]
    },
    {
      "cell_type": "code",
      "source": [
        "# example3\n",
        "\n",
        "#examples\n",
        "\n",
        "class Parent:\n",
        "\n",
        "  def __init__(self, num):\n",
        "    self.__num = num\n",
        "\n",
        "  def get_num(self):\n",
        "    return self.__num\n",
        "\n",
        "class Child(Parent):\n",
        "\n",
        "  def __init__(self, val, num):\n",
        "    super().__init__(num)\n",
        "    self.__val = val\n",
        "\n",
        "  def get_val(self):\n",
        "    return self.__val"
      ],
      "metadata": {
        "id": "rwJoeKHbT9-u"
      },
      "execution_count": 31,
      "outputs": []
    },
    {
      "cell_type": "code",
      "source": [
        "c3 = Child(100, 200)\n",
        "print(c3.get_num())\n",
        "print(c3.get_val())"
      ],
      "metadata": {
        "colab": {
          "base_uri": "https://localhost:8080/"
        },
        "id": "tbG93n4mVU9t",
        "outputId": "d267960a-1776-45db-c158-20dae57f2c6e"
      },
      "execution_count": 33,
      "outputs": [
        {
          "output_type": "stream",
          "name": "stdout",
          "text": [
            "200\n",
            "100\n"
          ]
        }
      ]
    },
    {
      "cell_type": "code",
      "source": [
        "# accessing private method\n",
        "# Parent class\n",
        "class Van:\n",
        "\n",
        "  def __init__(self, brand, price, colour, milage):\n",
        "    self.brand = brand\n",
        "    self.price = price\n",
        "    self.colour = colour\n",
        "    self.milage = milage\n",
        "\n",
        "  def __getbrand(self):\n",
        "    return f\"brand of the van is: {self.brand}\"\n",
        "\n",
        "  # accessing the private method by get\n",
        "  def get_brand(self):\n",
        "    return self.__getbrand()\n",
        "\n",
        "  def __getprice(self):\n",
        "    return f\"price of the van is: {self.price}\"\n",
        "\n",
        "# child class\n",
        "\n",
        "class Bus(Van):\n",
        "  pass"
      ],
      "metadata": {
        "id": "G-M9BqUDVfcw"
      },
      "execution_count": 42,
      "outputs": []
    },
    {
      "cell_type": "code",
      "source": [
        "v1 = Van('TATA', 100000, 'black', 100)\n",
        "print(v1.price)\n",
        "print(v1.get_brand())\n",
        "v1.get_brand()"
      ],
      "metadata": {
        "colab": {
          "base_uri": "https://localhost:8080/"
        },
        "id": "3gPLK_uIYeA1",
        "outputId": "dbc52db0-b4c7-4557-eaf1-43ce6b2766cd"
      },
      "execution_count": 43,
      "outputs": [
        {
          "output_type": "stream",
          "name": "stdout",
          "text": [
            "100000\n",
            "brand of the van is: TATA\n",
            "brand of the van is: TATA\n"
          ]
        }
      ]
    },
    {
      "cell_type": "code",
      "source": [
        "#child class object\n",
        "\n",
        "b1 = Bus('TATA', 100000, 'black', 100)\n",
        "print(b1.price)\n",
        "print(b1.get_brand())"
      ],
      "metadata": {
        "colab": {
          "base_uri": "https://localhost:8080/"
        },
        "id": "N8dfj332YkIw",
        "outputId": "668083c9-d4f1-476f-ffe7-e4290a73eb2a"
      },
      "execution_count": 45,
      "outputs": [
        {
          "output_type": "stream",
          "name": "stdout",
          "text": [
            "100000\n",
            "brand of the van is: TATA\n"
          ]
        }
      ]
    },
    {
      "cell_type": "code",
      "source": [
        "class A:\n",
        "\n",
        "  def __init__(self):\n",
        "    self.var1 = 100\n",
        "\n",
        "  def display1(self, var1):\n",
        "    #self.var1 = var1\n",
        "    return f\"class A: {self.var1}\"\n",
        "\n",
        "class B(A):\n",
        "\n",
        "  def display2(self, var1):\n",
        "    return f\"class B: {self.var1}\""
      ],
      "metadata": {
        "id": "5NjHschCabrd"
      },
      "execution_count": 55,
      "outputs": []
    },
    {
      "cell_type": "code",
      "source": [
        "v1 = B()\n",
        "v1.display1(200)"
      ],
      "metadata": {
        "colab": {
          "base_uri": "https://localhost:8080/",
          "height": 36
        },
        "id": "Tk3qgSLicslo",
        "outputId": "9dd0db7d-ae44-4e7d-a987-e3f2d22df09c"
      },
      "execution_count": 54,
      "outputs": [
        {
          "output_type": "execute_result",
          "data": {
            "text/plain": [
              "'class A: 200'"
            ],
            "application/vnd.google.colaboratory.intrinsic+json": {
              "type": "string"
            }
          },
          "metadata": {},
          "execution_count": 54
        }
      ]
    },
    {
      "cell_type": "code",
      "source": [
        "class Phone:\n",
        "\n",
        "  def __init__(self, brand, price, camera):\n",
        "    print('inside the parent class')\n",
        "    self. brand = brand = brand\n",
        "    self.price = price\n",
        "    self.camera = camera\n",
        "\n",
        "  def buy(self):\n",
        "    print(f\"buying a phone with brand: {self.brand}\")\n",
        "\n",
        "class SmartPhone(Phone):\n",
        "\n",
        "  def buy(self):\n",
        "    super().buy()"
      ],
      "metadata": {
        "id": "10rxQuetcyWD"
      },
      "execution_count": 60,
      "outputs": []
    },
    {
      "cell_type": "code",
      "source": [
        "s1 = SmartPhone('samsung', 10000, '12mp')\n",
        "print(s1.buy())"
      ],
      "metadata": {
        "colab": {
          "base_uri": "https://localhost:8080/"
        },
        "id": "DTIOsK6lfrkF",
        "outputId": "1b7560bb-6ff2-4762-e8c0-2ac218c02566"
      },
      "execution_count": 61,
      "outputs": [
        {
          "output_type": "stream",
          "name": "stdout",
          "text": [
            "inside the parent class\n",
            "buying a phone with brand: samsung\n",
            "None\n"
          ]
        }
      ]
    },
    {
      "cell_type": "markdown",
      "source": [
        "\n",
        "## SUPER KEY WORD\n",
        "## 1.Super can not be used outside the class\n",
        "## 2.Super can be used in child class only\n",
        "## 3.super can be used to access the methods of parent class and not the attributes\n"
      ],
      "metadata": {
        "id": "udsV36xGg7mz"
      }
    },
    {
      "cell_type": "markdown",
      "source": [
        "INHERITANCE IN SUMMARY\n",
        "\n",
        "A class can inherit from the another class\n",
        "\n",
        "Inheritance improves code reusability\n",
        "\n",
        "Constructor, attributes methods get inherited to the child class\n",
        "\n",
        "The parent class has no access to the child class\n",
        "\n",
        "Private properties of child class are not directly accessible in child class\n",
        "\n",
        "Child class can override the methods and attributes of the parent class. this is called method overriding\n",
        "\n",
        "Super() is an inbuilt function which is used  to invoke the parent class methods and constructor\n"
      ],
      "metadata": {
        "id": "bS8-j1RIXdKj"
      }
    },
    {
      "cell_type": "code",
      "source": [],
      "metadata": {
        "id": "wnOu10RmfyXz"
      },
      "execution_count": 61,
      "outputs": []
    }
  ]
}