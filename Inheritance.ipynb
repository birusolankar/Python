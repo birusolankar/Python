{
  "nbformat": 4,
  "nbformat_minor": 0,
  "metadata": {
    "colab": {
      "provenance": [],
      "authorship_tag": "ABX9TyOHvPJC/75+iYwwkHqgG6vr",
      "include_colab_link": true
    },
    "kernelspec": {
      "name": "python3",
      "display_name": "Python 3"
    },
    "language_info": {
      "name": "python"
    }
  },
  "cells": [
    {
      "cell_type": "markdown",
      "metadata": {
        "id": "view-in-github",
        "colab_type": "text"
      },
      "source": [
        "<a href=\"https://colab.research.google.com/github/birusolankar/Python/blob/main/Inheritance.ipynb\" target=\"_parent\"><img src=\"https://colab.research.google.com/assets/colab-badge.svg\" alt=\"Open In Colab\"/></a>"
      ]
    },
    {
      "cell_type": "code",
      "execution_count": 42,
      "metadata": {
        "id": "D-Q7TV-8Ouxu"
      },
      "outputs": [],
      "source": [
        "# create a phone class\n",
        "\n",
        "# parent class\n",
        "\n",
        "class Phone:\n",
        "\n",
        "  def __init__(self, brand, price, os):\n",
        "    print(\"I am inside the parent class\")\n",
        "    self.brand = brand\n",
        "    self.price = price\n",
        "    self.os = os\n",
        "\n",
        "  def getprice(self):\n",
        "    return f\"price of the phone is: {self.price }\"\n",
        "\n",
        "  def getbrand(self):\n",
        "    return f\"brand of the phone is: {self.brand}\"\n",
        "\n",
        "  def getos(self):\n",
        "    return f\"os of the phone is: {self.os}\"\n",
        "\n",
        "\n",
        "#child class\n",
        "\n",
        "class SmartPhone(Phone):  # child class inherited consrtuctor and methods from the parent class\n",
        "  pass"
      ]
    },
    {
      "cell_type": "code",
      "source": [
        "p1 = Phone('samsung', 1000, 'android')\n",
        "print(p1.getprice())\n",
        "print(p1.getbrand())\n",
        "print(p1.getos())"
      ],
      "metadata": {
        "colab": {
          "base_uri": "https://localhost:8080/"
        },
        "id": "Csx--NLIPehl",
        "outputId": "eac58dea-07e0-49e5-81a0-3831690d9ff7"
      },
      "execution_count": 43,
      "outputs": [
        {
          "output_type": "stream",
          "name": "stdout",
          "text": [
            "price of the phone is: 1000\n",
            "brand of the phone is: samsung\n",
            "os of the phone is: android\n"
          ]
        }
      ]
    },
    {
      "cell_type": "code",
      "source": [
        "# we can access all the methods of the parent class\n",
        "# since child class inherited methods from the parent class\n",
        "s = SmartPhone('samsung', 1000, 'android')\n",
        "print(s.getprice())\n",
        "print(s.getbrand())\n",
        "print(s.getos())"
      ],
      "metadata": {
        "colab": {
          "base_uri": "https://localhost:8080/"
        },
        "id": "UQUBTY08PkEn",
        "outputId": "bf80e4da-0b87-4a71-de61-62682d1504dc"
      },
      "execution_count": 44,
      "outputs": [
        {
          "output_type": "stream",
          "name": "stdout",
          "text": [
            "price of the phone is: 1000\n",
            "brand of the phone is: samsung\n",
            "os of the phone is: android\n"
          ]
        }
      ]
    },
    {
      "cell_type": "code",
      "source": [
        "# we can access all the non private attributes of the parent class.\n",
        "# since child class inherited constructor from the parent class\n",
        "print(s.brand)\n",
        "print(s.price)\n",
        "print(s.os)"
      ],
      "metadata": {
        "colab": {
          "base_uri": "https://localhost:8080/"
        },
        "id": "ynzHc5hYUReS",
        "outputId": "498b557a-eb63-49f1-e328-87f627b6a5a5"
      },
      "execution_count": 40,
      "outputs": [
        {
          "output_type": "stream",
          "name": "stdout",
          "text": [
            "samsung\n",
            "1000\n",
            "android\n"
          ]
        }
      ]
    },
    {
      "cell_type": "code",
      "source": [
        "# child class with constructor\n",
        "# here child class has its own constructor hence it access its own constructor\n",
        "\n",
        "class SmartPhone(Phone):\n",
        "  def __init__(self, camera, storage):\n",
        "    print(\"I am inside the child class\")\n",
        "    self.camera = camera\n",
        "    self.storage = storage\n",
        "\n",
        "  def getstorage(self):\n",
        "    return f\"storage of the phone is: {self.storage}\""
      ],
      "metadata": {
        "id": "BeZdyq2GSzA8"
      },
      "execution_count": 56,
      "outputs": []
    },
    {
      "cell_type": "code",
      "source": [
        "s1 = SmartPhone('12mp', '128gb')\n",
        "print(s1.getstorage())"
      ],
      "metadata": {
        "colab": {
          "base_uri": "https://localhost:8080/"
        },
        "id": "Osq3zYwCT7pT",
        "outputId": "2038dc1b-dbf5-4142-d8ca-35df0fbd9207"
      },
      "execution_count": 57,
      "outputs": [
        {
          "output_type": "stream",
          "name": "stdout",
          "text": [
            "I am inside the child class\n",
            "storage of the phone is: 128gb\n"
          ]
        }
      ]
    },
    {
      "cell_type": "code",
      "source": [
        "s1.getbrand()"
      ],
      "metadata": {
        "id": "7OohKD3vUFDA",
        "colab": {
          "base_uri": "https://localhost:8080/",
          "height": 263
        },
        "outputId": "89f76dbb-27e7-434a-c13d-8af0e274e1ee"
      },
      "execution_count": 48,
      "outputs": [
        {
          "output_type": "error",
          "ename": "AttributeError",
          "evalue": "'SmartPhone' object has no attribute 'brand'",
          "traceback": [
            "\u001b[0;31m---------------------------------------------------------------------------\u001b[0m",
            "\u001b[0;31mAttributeError\u001b[0m                            Traceback (most recent call last)",
            "\u001b[0;32m<ipython-input-48-d85ec894a78b>\u001b[0m in \u001b[0;36m<cell line: 1>\u001b[0;34m()\u001b[0m\n\u001b[0;32m----> 1\u001b[0;31m \u001b[0ms1\u001b[0m\u001b[0;34m.\u001b[0m\u001b[0mgetbrand\u001b[0m\u001b[0;34m(\u001b[0m\u001b[0;34m)\u001b[0m\u001b[0;34m\u001b[0m\u001b[0;34m\u001b[0m\u001b[0m\n\u001b[0m",
            "\u001b[0;32m<ipython-input-42-81078958f4d6>\u001b[0m in \u001b[0;36mgetbrand\u001b[0;34m(self)\u001b[0m\n\u001b[1;32m     14\u001b[0m \u001b[0;34m\u001b[0m\u001b[0m\n\u001b[1;32m     15\u001b[0m   \u001b[0;32mdef\u001b[0m \u001b[0mgetbrand\u001b[0m\u001b[0;34m(\u001b[0m\u001b[0mself\u001b[0m\u001b[0;34m)\u001b[0m\u001b[0;34m:\u001b[0m\u001b[0;34m\u001b[0m\u001b[0;34m\u001b[0m\u001b[0m\n\u001b[0;32m---> 16\u001b[0;31m     \u001b[0;32mreturn\u001b[0m \u001b[0;34mf\"brand of the phone is: {self.brand}\"\u001b[0m\u001b[0;34m\u001b[0m\u001b[0;34m\u001b[0m\u001b[0m\n\u001b[0m\u001b[1;32m     17\u001b[0m \u001b[0;34m\u001b[0m\u001b[0m\n\u001b[1;32m     18\u001b[0m   \u001b[0;32mdef\u001b[0m \u001b[0mgetos\u001b[0m\u001b[0;34m(\u001b[0m\u001b[0mself\u001b[0m\u001b[0;34m)\u001b[0m\u001b[0;34m:\u001b[0m\u001b[0;34m\u001b[0m\u001b[0;34m\u001b[0m\u001b[0m\n",
            "\u001b[0;31mAttributeError\u001b[0m: 'SmartPhone' object has no attribute 'brand'"
          ]
        }
      ]
    },
    {
      "cell_type": "code",
      "source": [
        "# since child class has its own constructor it has not inherited attributes of the parent class\n",
        "# we have to use super keyword to inherit the attributes from the parent class\n",
        "\n",
        "class SmartPhone(Phone):\n",
        "\n",
        "  def __init__(self, brand, price, os, camera, storage):\n",
        "    super().__init__(brand, price, os)\n",
        "    self.camera = camera\n",
        "    self.storage = storage\n",
        "\n",
        "  def getstorage(self):\n",
        "    print(self.storage)\n",
        "\n",
        "\n"
      ],
      "metadata": {
        "id": "87FoYN6oWAFd"
      },
      "execution_count": 58,
      "outputs": []
    },
    {
      "cell_type": "code",
      "source": [
        "s2 = SmartPhone('iphone', 10000, 'android', '16mp', '256gb')\n"
      ],
      "metadata": {
        "id": "wVhnACQhYLMg"
      },
      "execution_count": 59,
      "outputs": []
    },
    {
      "cell_type": "code",
      "source": [
        "# accessing all the methods of the parent class\n",
        "print(s2.getprice())\n",
        "print(s2.getbrand())\n",
        "print(s2.getos())\n",
        "print(s2.getstorage())"
      ],
      "metadata": {
        "colab": {
          "base_uri": "https://localhost:8080/"
        },
        "id": "hkM67nA-YRaA",
        "outputId": "042c0395-0f8d-4254-babf-17144b441b0c"
      },
      "execution_count": 60,
      "outputs": [
        {
          "output_type": "stream",
          "name": "stdout",
          "text": [
            "price of the phone is: 10000\n",
            "brand of the phone is: iphone\n",
            "os of the phone is: android\n",
            "256gb\n",
            "None\n"
          ]
        }
      ]
    },
    {
      "cell_type": "code",
      "source": [
        "# method overriding in inheritance\n",
        "# we can override the methods of the parent class in the child class\n",
        "\n",
        "class SmartPhone(Phone):\n",
        "\n",
        "  def __init__(self, brand, price, os, camera, storage):\n",
        "    super().__init__(brand, price, os)\n",
        "    self.camera = camera\n",
        "    self.storage = storage\n",
        "\n",
        "  def getprice(self):\n",
        "    return f\"price of the phone is: {self.price + 1000}\"\n"
      ],
      "metadata": {
        "id": "eRI2klxPYPIn"
      },
      "execution_count": 61,
      "outputs": []
    },
    {
      "cell_type": "code",
      "source": [
        "s3 = SmartPhone('iphone', 10000, 'android', '16mp', '256gb')\n"
      ],
      "metadata": {
        "id": "p6bTwKPqaRub"
      },
      "execution_count": 63,
      "outputs": []
    },
    {
      "cell_type": "code",
      "source": [
        "# we can modify the methods as per our requirements\n",
        "print(s3.getprice())"
      ],
      "metadata": {
        "colab": {
          "base_uri": "https://localhost:8080/"
        },
        "id": "5m_AUfYTaU0I",
        "outputId": "ea693e37-e50c-4a19-d1e2-4b468821fbca"
      },
      "execution_count": 64,
      "outputs": [
        {
          "output_type": "stream",
          "name": "stdout",
          "text": [
            "price of the phone is: 11000\n"
          ]
        }
      ]
    },
    {
      "cell_type": "code",
      "source": [],
      "metadata": {
        "id": "GPLen7DpahKJ"
      },
      "execution_count": null,
      "outputs": []
    }
  ]
}