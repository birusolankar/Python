{
  "nbformat": 4,
  "nbformat_minor": 0,
  "metadata": {
    "colab": {
      "provenance": [],
      "authorship_tag": "ABX9TyP8rVvaASkXHyfNmKWbyCyP",
      "include_colab_link": true
    },
    "kernelspec": {
      "name": "python3",
      "display_name": "Python 3"
    },
    "language_info": {
      "name": "python"
    }
  },
  "cells": [
    {
      "cell_type": "markdown",
      "metadata": {
        "id": "view-in-github",
        "colab_type": "text"
      },
      "source": [
        "<a href=\"https://colab.research.google.com/github/birusolankar/Python/blob/main/Class_and_Object.ipynb\" target=\"_parent\"><img src=\"https://colab.research.google.com/assets/colab-badge.svg\" alt=\"Open In Colab\"/></a>"
      ]
    },
    {
      "cell_type": "code",
      "execution_count": 8,
      "metadata": {
        "id": "yjI-2eSbEZL0"
      },
      "outputs": [],
      "source": [
        "class Atm:\n",
        "\n",
        "  #constructor--special function inside the class-- it get executed as soon as obj is created-- does not require call explicitly\n",
        "  def __init__(self):\n",
        "    self.pin = ''\n",
        "    self.balance = 0\n",
        "    self.menu()\n",
        "\n",
        "  def menu(self):\n",
        "    user_input = input(\"\"\"\n",
        "    Hi how can I help you.\n",
        "    1. Press 1 to create pin\n",
        "    2. Press 2 to change pin\n",
        "    3. Press 3 to check balance\n",
        "    4. Press 4 to withdraw\n",
        "    5. Anything else to exist\n",
        "    \"\"\")\n",
        "\n",
        "    if user_input == '1':\n",
        "      self.create_pin()\n",
        "      pass\n",
        "    elif user_input == '2':\n",
        "      self.change_pin()\n",
        "      pass\n",
        "    elif user_input == '3':\n",
        "      self.check_balance()\n",
        "      pass\n",
        "    elif user_input == '4':\n",
        "      self.withdraw()\n",
        "    else:\n",
        "      exit()\n",
        "\n",
        "  def create_pin(self):\n",
        "    user_pin = input(\"enter your pin\")\n",
        "    self.pin = user_pin\n",
        "\n",
        "    user_balance = int(input(\"enter your balance\"))\n",
        "    self.balance = user_balance\n",
        "\n",
        "    print(\"pin created successfully\")\n",
        "    self.menu()\n",
        "\n",
        "  def change_pin(self):\n",
        "\n",
        "    old_pin = input(\"enter the old pin\")\n",
        "\n",
        "    if old_pin == self.pin:\n",
        "      new_pin = input(\"enter the new pin\")\n",
        "      self.pin = new_pin\n",
        "      print(\"pin changed successfully\")\n",
        "      self.menu()\n",
        "    else:\n",
        "      print(\"please enter the correct old pin\")\n",
        "      self.menu()\n",
        "\n",
        "  def check_balance(self):\n",
        "    user_pin = input(\"enter pin\")\n",
        "\n",
        "    if user_pin == self.pin:\n",
        "      print(\"your balance is\", self.balance)\n",
        "      self.menu()\n",
        "    else:\n",
        "      print(\"enter the correct pin\")\n",
        "      self.menu()\n",
        "\n",
        "  def withdraw(self):\n",
        "    user_pin = input(\"enter the pin\")\n",
        "\n",
        "    if user_pin == self.pin:\n",
        "      amount = int(input(\"enter the amount\"))\n",
        "      if amount <= self.balance:\n",
        "        self.balance = self.balance - amount\n",
        "        print(\"withdrawal is successful and remaining balance is\", self.balance)\n",
        "      else:\n",
        "        print(\"you have insufficient balance\")\n",
        "    else:\n",
        "      print(\"enter the corrct pin\")\n",
        "    self.menu()\n",
        "\n"
      ]
    },
    {
      "cell_type": "code",
      "source": [
        "obj = Atm()"
      ],
      "metadata": {
        "colab": {
          "base_uri": "https://localhost:8080/"
        },
        "id": "Cy_tKg8aHVi-",
        "outputId": "037f4478-2f7e-4438-a8b8-55d4d81bc8dd"
      },
      "execution_count": 9,
      "outputs": [
        {
          "name": "stdout",
          "output_type": "stream",
          "text": [
            "\n",
            "    Hi how can I help you.\n",
            "    1. Press 1 to create pin\n",
            "    2. Press 2 to change pin\n",
            "    3. Press 3 to check balance\n",
            "    4. Press 4 to withdraw\n",
            "    5. Anything else to exist\n",
            "    1\n",
            "enter your pin1234\n",
            "enter your balance10000\n",
            "pin created successfully\n",
            "\n",
            "    Hi how can I help you.\n",
            "    1. Press 1 to create pin\n",
            "    2. Press 2 to change pin\n",
            "    3. Press 3 to check balance\n",
            "    4. Press 4 to withdraw\n",
            "    5. Anything else to exist\n",
            "    3\n",
            "enter pin1234\n",
            "your balance is 10000\n",
            "\n",
            "    Hi how can I help you.\n",
            "    1. Press 1 to create pin\n",
            "    2. Press 2 to change pin\n",
            "    3. Press 3 to check balance\n",
            "    4. Press 4 to withdraw\n",
            "    5. Anything else to exist\n",
            "    4\n",
            "enter the pin1234\n",
            "enter the amount4000\n",
            "withdrawal is successful and remaining balance is 6000\n",
            "\n",
            "    Hi how can I help you.\n",
            "    1. Press 1 to create pin\n",
            "    2. Press 2 to change pin\n",
            "    3. Press 3 to check balance\n",
            "    4. Press 4 to withdraw\n",
            "    5. Anything else to exist\n",
            "    3\n",
            "enter pin1234\n",
            "your balance is 6000\n",
            "\n",
            "    Hi how can I help you.\n",
            "    1. Press 1 to create pin\n",
            "    2. Press 2 to change pin\n",
            "    3. Press 3 to check balance\n",
            "    4. Press 4 to withdraw\n",
            "    5. Anything else to exist\n",
            "    5\n"
          ]
        }
      ]
    },
    {
      "cell_type": "code",
      "source": [
        "\n"
      ],
      "metadata": {
        "id": "aOAHqcmiHVfd"
      },
      "execution_count": 13,
      "outputs": []
    },
    {
      "cell_type": "code",
      "source": [
        "obj = Atm()"
      ],
      "metadata": {
        "id": "aJg3U2idE0S-"
      },
      "execution_count": 2,
      "outputs": []
    },
    {
      "cell_type": "code",
      "source": [
        "print(type(obj))"
      ],
      "metadata": {
        "colab": {
          "base_uri": "https://localhost:8080/"
        },
        "id": "wk2L2PDFE875",
        "outputId": "b84aa28d-66e5-4024-ef74-513ffe225f3d"
      },
      "execution_count": 4,
      "outputs": [
        {
          "output_type": "stream",
          "name": "stdout",
          "text": [
            "<class '__main__.Atm'>\n"
          ]
        }
      ]
    },
    {
      "cell_type": "code",
      "source": [
        "obj.balance"
      ],
      "metadata": {
        "colab": {
          "base_uri": "https://localhost:8080/"
        },
        "id": "Yb0WlIIaE-lG",
        "outputId": "f5bb9aa6-7cb5-4be7-9f9f-fccf3810b973"
      },
      "execution_count": 5,
      "outputs": [
        {
          "output_type": "execute_result",
          "data": {
            "text/plain": [
              "0"
            ]
          },
          "metadata": {},
          "execution_count": 5
        }
      ]
    },
    {
      "cell_type": "code",
      "source": [
        "L = [1,2,3,4]\n",
        "len(L)\n",
        "L.append(5)"
      ],
      "metadata": {
        "id": "VyP-1uIwFGbg"
      },
      "execution_count": 1,
      "outputs": []
    },
    {
      "cell_type": "code",
      "source": [
        "len(L)"
      ],
      "metadata": {
        "colab": {
          "base_uri": "https://localhost:8080/"
        },
        "id": "efv9fupgW2Jq",
        "outputId": "d9a0fdde-4e32-4c37-c1fe-9721f1af146e"
      },
      "execution_count": 2,
      "outputs": [
        {
          "output_type": "execute_result",
          "data": {
            "text/plain": [
              "5"
            ]
          },
          "metadata": {},
          "execution_count": 2
        }
      ]
    },
    {
      "cell_type": "code",
      "source": [],
      "metadata": {
        "id": "xoilNXC-W5UR"
      },
      "execution_count": null,
      "outputs": []
    },
    {
      "cell_type": "markdown",
      "source": [
        "# MAGIC METHODS\n",
        "## a.k.a Dunder methods"
      ],
      "metadata": {
        "id": "ZoIVHGTkXA0L"
      }
    },
    {
      "cell_type": "code",
      "source": [
        "## Magic methods are special methods\n",
        "## __name__(self)\n",
        "# using magic method we can create our own data types"
      ],
      "metadata": {
        "id": "aJIv1q4bXD3M"
      },
      "execution_count": 3,
      "outputs": []
    },
    {
      "cell_type": "code",
      "source": [
        "class Temp:\n",
        "\n",
        "  def __init__(self):\n",
        "    print(\"hello world\")\n",
        "\n",
        "obj = Temp()"
      ],
      "metadata": {
        "colab": {
          "base_uri": "https://localhost:8080/"
        },
        "id": "Ybkj3V77YEH_",
        "outputId": "81848181-49d0-44da-c571-7b1b4e28e83e"
      },
      "execution_count": 4,
      "outputs": [
        {
          "output_type": "stream",
          "name": "stdout",
          "text": [
            "hello world\n"
          ]
        }
      ]
    },
    {
      "cell_type": "code",
      "source": [
        "# what is self\n",
        "# self is nothing but the current object"
      ],
      "metadata": {
        "id": "VN822P-VYUl0"
      },
      "execution_count": 5,
      "outputs": []
    },
    {
      "cell_type": "code",
      "source": [
        "class Fraction:\n",
        "\n",
        "  # parameterised constructor---it is a constructor which requires input\n",
        "  def __init__(self, x,y):\n",
        "    self.num = x\n",
        "    self.den = y\n",
        "\n",
        "  def __str__(self):\n",
        "    return \"{}/{}\".format(self.num, self.den)\n",
        "\n",
        "  def __add__(self, other):\n",
        "    new_num = self.num*other.den + self.den*other.num\n",
        "    new_den = self.den*other.den\n",
        "\n",
        "    return \"{}/{}\".format(new_num, new_den)\n",
        "\n",
        "  def __sub__(self, other):\n",
        "\n",
        "    new_num = self.num*other.den - self.den*other.num\n",
        "    new_den = self.den*other.den\n",
        "\n",
        "    return \"{}/{}\".format(new_num, new_den)\n",
        "\n",
        "  def __mul__(self, other):\n",
        "    new_num = self.num*other.num\n",
        "    new_den = self.den*other.den\n",
        "\n",
        "    return \"{}/{}\".format(new_num, new_den)\n",
        "\n",
        "  def __truediv__(self, other):\n",
        "    new_num = self.num*other.den\n",
        "    new_den = self.den*other.den\n",
        "\n",
        "    return \"{}/{}\".format(new_num, new_den)\n",
        "\n"
      ],
      "metadata": {
        "id": "V7BE2yNbaiHh"
      },
      "execution_count": 17,
      "outputs": []
    },
    {
      "cell_type": "code",
      "source": [
        "fr1 = Fraction(3,4)\n",
        "fr2 = Fraction(4,5)"
      ],
      "metadata": {
        "id": "P71wA8P4cXIV"
      },
      "execution_count": 18,
      "outputs": []
    },
    {
      "cell_type": "code",
      "source": [
        "print(fr1 + fr2)\n",
        "print(fr1 - fr2)\n",
        "print(fr1 * fr2)\n",
        "print(fr1 / fr2)"
      ],
      "metadata": {
        "colab": {
          "base_uri": "https://localhost:8080/"
        },
        "id": "kKZrO-Fpcapd",
        "outputId": "6fd365d5-fe47-4aac-a120-246dc5a9141b"
      },
      "execution_count": 19,
      "outputs": [
        {
          "output_type": "stream",
          "name": "stdout",
          "text": [
            "31/20\n",
            "-1/20\n",
            "12/20\n",
            "15/20\n"
          ]
        }
      ]
    },
    {
      "cell_type": "code",
      "source": [],
      "metadata": {
        "id": "iVW5QKPdcfUY"
      },
      "execution_count": null,
      "outputs": []
    }
  ]
}