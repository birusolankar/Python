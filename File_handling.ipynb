{
  "nbformat": 4,
  "nbformat_minor": 0,
  "metadata": {
    "colab": {
      "provenance": [],
      "authorship_tag": "ABX9TyPRi7rCjpzGHjSidxaiT6gC",
      "include_colab_link": true
    },
    "kernelspec": {
      "name": "python3",
      "display_name": "Python 3"
    },
    "language_info": {
      "name": "python"
    }
  },
  "cells": [
    {
      "cell_type": "markdown",
      "metadata": {
        "id": "view-in-github",
        "colab_type": "text"
      },
      "source": [
        "<a href=\"https://colab.research.google.com/github/birusolankar/Python/blob/main/File_handling.ipynb\" target=\"_parent\"><img src=\"https://colab.research.google.com/assets/colab-badge.svg\" alt=\"Open In Colab\"/></a>"
      ]
    },
    {
      "cell_type": "code",
      "execution_count": 1,
      "metadata": {
        "id": "ReMw5L2tSjr-"
      },
      "outputs": [],
      "source": [
        "f = open(\"sample.txt\", \"w\")\n",
        "f.write(\"hello world\")\n",
        "f.close()"
      ]
    },
    {
      "cell_type": "code",
      "source": [
        "s = open(\"sample.txt\", \"r\")\n",
        "print(s.read())"
      ],
      "metadata": {
        "colab": {
          "base_uri": "https://localhost:8080/"
        },
        "id": "PoP9AozkS8MK",
        "outputId": "70c51887-cf8f-49d1-8de2-c09a5a26458f"
      },
      "execution_count": 2,
      "outputs": [
        {
          "output_type": "stream",
          "name": "stdout",
          "text": [
            "hello world\n"
          ]
        }
      ]
    },
    {
      "cell_type": "code",
      "source": [
        "f = open(\"sample1.txt\", \"w\")\n",
        "f.write(\"hello world\")\n",
        "f.write(\"\\nhow you been doing\")\n",
        "f.close()"
      ],
      "metadata": {
        "id": "i-_WgKYFTF3n"
      },
      "execution_count": 3,
      "outputs": []
    },
    {
      "cell_type": "code",
      "source": [
        "f = open(\"sample1.txt\", \"r\")\n",
        "f.read()"
      ],
      "metadata": {
        "colab": {
          "base_uri": "https://localhost:8080/",
          "height": 35
        },
        "id": "gqtJk5rhT4Yh",
        "outputId": "2ae4fbe5-3f75-4fea-d547-0bb940d0a053"
      },
      "execution_count": 4,
      "outputs": [
        {
          "output_type": "execute_result",
          "data": {
            "text/plain": [
              "'hello world\\nhow you been doing'"
            ],
            "application/vnd.google.colaboratory.intrinsic+json": {
              "type": "string"
            }
          },
          "metadata": {},
          "execution_count": 4
        }
      ]
    },
    {
      "cell_type": "code",
      "source": [
        "with open(\"sample.txt2\", \"w\") as f:\n",
        "  f.write(\"hello world\")\n"
      ],
      "metadata": {
        "id": "loNexi6ST9ml"
      },
      "execution_count": 5,
      "outputs": []
    },
    {
      "cell_type": "code",
      "source": [
        "with open(\"sample.txt2\", \"r\") as f:\n",
        "  print(f.read())"
      ],
      "metadata": {
        "colab": {
          "base_uri": "https://localhost:8080/"
        },
        "id": "4h8LtPxdUpXb",
        "outputId": "3cda3aa5-ff17-4386-9aac-7f4143d2187c"
      },
      "execution_count": 6,
      "outputs": [
        {
          "output_type": "stream",
          "name": "stdout",
          "text": [
            "hello world\n"
          ]
        }
      ]
    },
    {
      "cell_type": "code",
      "source": [
        "with open(\"sample.txt3\", \"w\") as f:\n",
        "  f.write(\"Principal component analysis- PCA- is variable reduction technique in machine learning\")"
      ],
      "metadata": {
        "id": "wo6HF0tXU7r7"
      },
      "execution_count": 7,
      "outputs": []
    },
    {
      "cell_type": "code",
      "source": [
        "with open(\"sample.txt3\", \"r\") as f:\n",
        "  print(f.read())"
      ],
      "metadata": {
        "colab": {
          "base_uri": "https://localhost:8080/"
        },
        "id": "fpAUuzhdVThf",
        "outputId": "093253c7-2384-486c-aa2f-a2cfedf78c68"
      },
      "execution_count": 8,
      "outputs": [
        {
          "output_type": "stream",
          "name": "stdout",
          "text": [
            "Principal component analysis- PCA- is variable reduction technique in machine learning\n"
          ]
        }
      ]
    },
    {
      "cell_type": "code",
      "source": [
        "L = ['biru', 'PCA']"
      ],
      "metadata": {
        "id": "9Ak-oA58VZpL"
      },
      "execution_count": 9,
      "outputs": []
    },
    {
      "cell_type": "code",
      "source": [
        "with open(\"new.txt\", \"w\") as f:\n",
        "  f.writelines(L)"
      ],
      "metadata": {
        "id": "HP7OOVloW7px"
      },
      "execution_count": 10,
      "outputs": []
    },
    {
      "cell_type": "code",
      "source": [
        "with open(\"new.txt\", \"r\") as f:\n",
        "  print(f.read())"
      ],
      "metadata": {
        "colab": {
          "base_uri": "https://localhost:8080/"
        },
        "id": "yESy_5TLXWzN",
        "outputId": "d87711d1-aa39-44ec-c15a-6f5c68d09aa8"
      },
      "execution_count": 11,
      "outputs": [
        {
          "output_type": "stream",
          "name": "stdout",
          "text": [
            "biruPCA\n"
          ]
        }
      ]
    },
    {
      "cell_type": "code",
      "source": [
        "d = {\n",
        "    'name':'biru',\n",
        "    'profession':'data analytics',\n",
        "    'Age':25\n",
        "}"
      ],
      "metadata": {
        "id": "CgOvXKqwXyJi"
      },
      "execution_count": 12,
      "outputs": []
    },
    {
      "cell_type": "code",
      "source": [
        "with open(\"new_file.txt\", 'w') as f:\n",
        "  f.write(str(d))"
      ],
      "metadata": {
        "id": "z3saCbSdcUa-"
      },
      "execution_count": 13,
      "outputs": []
    },
    {
      "cell_type": "code",
      "source": [
        "with open(\"new_file.txt\", 'r') as f:\n",
        "  print(f.read())\n",
        "  print(type(f.read()))"
      ],
      "metadata": {
        "colab": {
          "base_uri": "https://localhost:8080/"
        },
        "id": "6VJZHrTjchht",
        "outputId": "e5cb99ec-174b-4c23-f76c-995399bee4c7"
      },
      "execution_count": 14,
      "outputs": [
        {
          "output_type": "stream",
          "name": "stdout",
          "text": [
            "{'name': 'biru', 'profession': 'data analytics', 'Age': 25}\n",
            "<class 'str'>\n"
          ]
        }
      ]
    },
    {
      "cell_type": "code",
      "source": [
        "L = [1,2,3,4,5,6]\n",
        "\n",
        "import json"
      ],
      "metadata": {
        "id": "e-m3DrHlctcE"
      },
      "execution_count": 15,
      "outputs": []
    },
    {
      "cell_type": "code",
      "source": [
        "with open(\"demo.json\", \"w\") as f:\n",
        "  json.dump(L, f)"
      ],
      "metadata": {
        "id": "eDE2sA2Bddc4"
      },
      "execution_count": 16,
      "outputs": []
    },
    {
      "cell_type": "code",
      "source": [
        "with open(\"demo.json\", \"r\") as f:\n",
        "  print(f.read())\n",
        "  print(type(f.read()))\n"
      ],
      "metadata": {
        "colab": {
          "base_uri": "https://localhost:8080/"
        },
        "id": "cn8prZJGdnqu",
        "outputId": "e2518c7a-38c5-4089-d08f-e704430a3db9"
      },
      "execution_count": 17,
      "outputs": [
        {
          "output_type": "stream",
          "name": "stdout",
          "text": [
            "[1, 2, 3, 4, 5, 6]\n",
            "<class 'str'>\n"
          ]
        }
      ]
    },
    {
      "cell_type": "code",
      "source": [
        "with open(\"demo1.json\", \"w\") as f:\n",
        "  json.dump(d,f)"
      ],
      "metadata": {
        "id": "iUyBOFUAd09k"
      },
      "execution_count": 18,
      "outputs": []
    },
    {
      "cell_type": "code",
      "source": [
        "with open(\"demo1.json\", \"r\") as f:\n",
        "  print(f.read())\n",
        "  print(type(f.read()))"
      ],
      "metadata": {
        "colab": {
          "base_uri": "https://localhost:8080/"
        },
        "id": "RNqGUpDSeGrx",
        "outputId": "f7e942fb-7d78-4bdf-b2dd-fdd070ee2d2b"
      },
      "execution_count": 19,
      "outputs": [
        {
          "output_type": "stream",
          "name": "stdout",
          "text": [
            "{\"name\": \"biru\", \"profession\": \"data analytics\", \"Age\": 25}\n",
            "<class 'str'>\n"
          ]
        }
      ]
    },
    {
      "cell_type": "code",
      "source": [
        "with open(\"demo2.json\", \"w\") as f:\n",
        "  json.dump(d, f)"
      ],
      "metadata": {
        "id": "5BkIYXH4eqj9"
      },
      "execution_count": 21,
      "outputs": []
    },
    {
      "cell_type": "code",
      "source": [
        "with open(\"demo.json\", \"r\") as f:\n",
        "  d = json.load(f)\n",
        "  print(d)"
      ],
      "metadata": {
        "colab": {
          "base_uri": "https://localhost:8080/"
        },
        "id": "2Igprw8igKoW",
        "outputId": "1ac8fc57-140b-493d-b673-bac8f9f42e9f"
      },
      "execution_count": 22,
      "outputs": [
        {
          "output_type": "stream",
          "name": "stdout",
          "text": [
            "[1, 2, 3, 4, 5, 6]\n"
          ]
        }
      ]
    },
    {
      "cell_type": "code",
      "source": [
        "import pandas as pd\n",
        "import numpy as np"
      ],
      "metadata": {
        "id": "ogVuB9uCe_Ky"
      },
      "execution_count": 23,
      "outputs": []
    },
    {
      "cell_type": "code",
      "source": [],
      "metadata": {
        "id": "iY4n-cVHfPdD"
      },
      "execution_count": 23,
      "outputs": []
    }
  ]
}